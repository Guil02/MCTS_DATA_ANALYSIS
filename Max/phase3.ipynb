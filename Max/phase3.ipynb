{
 "cells": [
  {
   "cell_type": "code",
   "execution_count": 16,
   "id": "initial_id",
   "metadata": {
    "collapsed": true,
    "ExecuteTime": {
     "end_time": "2024-01-14T14:23:27.406351900Z",
     "start_time": "2024-01-14T14:23:19.120966400Z"
    }
   },
   "outputs": [
    {
     "data": {
      "text/plain": "  GameRulesetName  Id               agent1    agent2  utility_agent1  \\\n0           Adugo  37  'MCTS-UCB1-0.6-NST'  'Random'             1.0   \n1           Adugo  37  'MCTS-UCB1-0.6-NST'  'Random'             1.0   \n2           Adugo  37  'MCTS-UCB1-0.6-NST'  'Random'             1.0   \n3           Adugo  37  'MCTS-UCB1-0.6-NST'  'Random'             1.0   \n4           Adugo  37  'MCTS-UCB1-0.6-NST'  'Random'             1.0   \n\n   utility_agent2  Stochastic  HiddenInformation  Match  Asymmetric  ...  \\\n0            -1.0         0.0                0.0    0.0         1.0  ...   \n1            -1.0         0.0                0.0    0.0         1.0  ...   \n2            -1.0         0.0                0.0    0.0         1.0  ...   \n3            -1.0         0.0                0.0    0.0         1.0  ...   \n4            -1.0         0.0                0.0    0.0         1.0  ...   \n\n   NumStartComponentsBoardPerPlayer  NumStartComponentsHandPerPlayer  \\\n0                               7.5                              0.0   \n1                               7.5                              0.0   \n2                               7.5                              0.0   \n3                               7.5                              0.0   \n4                               7.5                              0.0   \n\n   NumStartComponentsPerPlayer  IsPieceAt  SolvedEnd  SkillTrace  \\\n0                          7.5        0.0        0.0         0.0   \n1                          7.5        0.0        0.0         0.0   \n2                          7.5        0.0        0.0         0.0   \n3                          7.5        0.0        0.0         0.0   \n4                          7.5        0.0        0.0         0.0   \n\n   SkillTraceScore  SkillTraceTrials  SkillTraceErrorSlope  \\\n0              0.0               0.0                   0.0   \n1              0.0               0.0                   0.0   \n2              0.0               0.0                   0.0   \n3              0.0               0.0                   0.0   \n4              0.0               0.0                   0.0   \n\n   SkillTraceErrorIntercept  \n0                       0.0  \n1                       0.0  \n2                       0.0  \n3                       0.0  \n4                       0.0  \n\n[5 rows x 556 columns]",
      "text/html": "<div>\n<style scoped>\n    .dataframe tbody tr th:only-of-type {\n        vertical-align: middle;\n    }\n\n    .dataframe tbody tr th {\n        vertical-align: top;\n    }\n\n    .dataframe thead th {\n        text-align: right;\n    }\n</style>\n<table border=\"1\" class=\"dataframe\">\n  <thead>\n    <tr style=\"text-align: right;\">\n      <th></th>\n      <th>GameRulesetName</th>\n      <th>Id</th>\n      <th>agent1</th>\n      <th>agent2</th>\n      <th>utility_agent1</th>\n      <th>utility_agent2</th>\n      <th>Stochastic</th>\n      <th>HiddenInformation</th>\n      <th>Match</th>\n      <th>Asymmetric</th>\n      <th>...</th>\n      <th>NumStartComponentsBoardPerPlayer</th>\n      <th>NumStartComponentsHandPerPlayer</th>\n      <th>NumStartComponentsPerPlayer</th>\n      <th>IsPieceAt</th>\n      <th>SolvedEnd</th>\n      <th>SkillTrace</th>\n      <th>SkillTraceScore</th>\n      <th>SkillTraceTrials</th>\n      <th>SkillTraceErrorSlope</th>\n      <th>SkillTraceErrorIntercept</th>\n    </tr>\n  </thead>\n  <tbody>\n    <tr>\n      <th>0</th>\n      <td>Adugo</td>\n      <td>37</td>\n      <td>'MCTS-UCB1-0.6-NST'</td>\n      <td>'Random'</td>\n      <td>1.0</td>\n      <td>-1.0</td>\n      <td>0.0</td>\n      <td>0.0</td>\n      <td>0.0</td>\n      <td>1.0</td>\n      <td>...</td>\n      <td>7.5</td>\n      <td>0.0</td>\n      <td>7.5</td>\n      <td>0.0</td>\n      <td>0.0</td>\n      <td>0.0</td>\n      <td>0.0</td>\n      <td>0.0</td>\n      <td>0.0</td>\n      <td>0.0</td>\n    </tr>\n    <tr>\n      <th>1</th>\n      <td>Adugo</td>\n      <td>37</td>\n      <td>'MCTS-UCB1-0.6-NST'</td>\n      <td>'Random'</td>\n      <td>1.0</td>\n      <td>-1.0</td>\n      <td>0.0</td>\n      <td>0.0</td>\n      <td>0.0</td>\n      <td>1.0</td>\n      <td>...</td>\n      <td>7.5</td>\n      <td>0.0</td>\n      <td>7.5</td>\n      <td>0.0</td>\n      <td>0.0</td>\n      <td>0.0</td>\n      <td>0.0</td>\n      <td>0.0</td>\n      <td>0.0</td>\n      <td>0.0</td>\n    </tr>\n    <tr>\n      <th>2</th>\n      <td>Adugo</td>\n      <td>37</td>\n      <td>'MCTS-UCB1-0.6-NST'</td>\n      <td>'Random'</td>\n      <td>1.0</td>\n      <td>-1.0</td>\n      <td>0.0</td>\n      <td>0.0</td>\n      <td>0.0</td>\n      <td>1.0</td>\n      <td>...</td>\n      <td>7.5</td>\n      <td>0.0</td>\n      <td>7.5</td>\n      <td>0.0</td>\n      <td>0.0</td>\n      <td>0.0</td>\n      <td>0.0</td>\n      <td>0.0</td>\n      <td>0.0</td>\n      <td>0.0</td>\n    </tr>\n    <tr>\n      <th>3</th>\n      <td>Adugo</td>\n      <td>37</td>\n      <td>'MCTS-UCB1-0.6-NST'</td>\n      <td>'Random'</td>\n      <td>1.0</td>\n      <td>-1.0</td>\n      <td>0.0</td>\n      <td>0.0</td>\n      <td>0.0</td>\n      <td>1.0</td>\n      <td>...</td>\n      <td>7.5</td>\n      <td>0.0</td>\n      <td>7.5</td>\n      <td>0.0</td>\n      <td>0.0</td>\n      <td>0.0</td>\n      <td>0.0</td>\n      <td>0.0</td>\n      <td>0.0</td>\n      <td>0.0</td>\n    </tr>\n    <tr>\n      <th>4</th>\n      <td>Adugo</td>\n      <td>37</td>\n      <td>'MCTS-UCB1-0.6-NST'</td>\n      <td>'Random'</td>\n      <td>1.0</td>\n      <td>-1.0</td>\n      <td>0.0</td>\n      <td>0.0</td>\n      <td>0.0</td>\n      <td>1.0</td>\n      <td>...</td>\n      <td>7.5</td>\n      <td>0.0</td>\n      <td>7.5</td>\n      <td>0.0</td>\n      <td>0.0</td>\n      <td>0.0</td>\n      <td>0.0</td>\n      <td>0.0</td>\n      <td>0.0</td>\n      <td>0.0</td>\n    </tr>\n  </tbody>\n</table>\n<p>5 rows × 556 columns</p>\n</div>"
     },
     "execution_count": 16,
     "metadata": {},
     "output_type": "execute_result"
    }
   ],
   "source": [
    "import pandas as pd\n",
    "\n",
    "# Load data\n",
    "data = pd.read_csv(\"../new_csv/data_with_agents_split.csv\")\n",
    "data.head()"
   ]
  },
  {
   "cell_type": "code",
   "outputs": [
    {
     "name": "stdout",
     "output_type": "stream",
     "text": [
      "Removing 180 entries corresponding to Mbenga_Alignment_Game\n",
      "Removing 119 entries corresponding to Kriegspiel_Chess\n",
      "Removing 19 entries corresponding to Kriegsspiel\n"
     ]
    }
   ],
   "source": [
    "# Dealing with missing values\n",
    "\n",
    "# Remove the following games:\n",
    "# - Mbenga_Alignment_Game\n",
    "# - Kriegspiel_Chess\n",
    "# - Kriegsspiel\n",
    "\n",
    "for game in [\"Mbenga_Alignment_Game\", \"Kriegspiel_Chess\", \"Kriegsspiel\"]:\n",
    "    f = data[\"GameRulesetName\"] == game\n",
    "    print(f\"Removing {f.sum()} entries corresponding to {game}\")\n",
    "    data = data[~f]"
   ],
   "metadata": {
    "collapsed": false,
    "ExecuteTime": {
     "end_time": "2024-01-14T14:23:28.895963300Z",
     "start_time": "2024-01-14T14:23:27.426356800Z"
    }
   },
   "id": "cd8b21a00e8150fa",
   "execution_count": 17
  },
  {
   "cell_type": "code",
   "outputs": [
    {
     "name": "stdout",
     "output_type": "stream",
     "text": [
      "Removing 25587 entries corresponding to non two-player games\n"
     ]
    }
   ],
   "source": [
    "# Limit the data to two-player games\n",
    "\n",
    "# Remove the entries corresponding to non two-player games\n",
    "f = data[\"TwoPlayer\"] == 0\n",
    "print(f\"Removing {f.sum()} entries corresponding to non two-player games\")\n",
    "data = data[~f]\n",
    "\n",
    "# Remove corresponding variables\n",
    "variables = [\"NumPlayers\", \"Simulation\", \"Solitaire\", \"TwoPlayer\", \"Multiplayer\"]\n",
    "data = data.drop(columns=variables)\n",
    "\n",
    "# Note: these variables would be removed during the elimination of single-valued variables, but it makes sense to make this explicit here"
   ],
   "metadata": {
    "collapsed": false,
    "ExecuteTime": {
     "end_time": "2024-01-14T14:23:29.595131300Z",
     "start_time": "2024-01-14T14:23:28.895963300Z"
    }
   },
   "id": "4120dac1b653760e",
   "execution_count": 18
  },
  {
   "cell_type": "code",
   "outputs": [
    {
     "data": {
      "text/plain": "utility_agent1\n 1.0    109141\n-1.0    101844\n 0.0     29419\nName: count, dtype: int64"
     },
     "execution_count": 19,
     "metadata": {},
     "output_type": "execute_result"
    }
   ],
   "source": [
    "data[\"utility_agent1\"].value_counts()"
   ],
   "metadata": {
    "collapsed": false,
    "ExecuteTime": {
     "end_time": "2024-01-14T14:23:29.610400500Z",
     "start_time": "2024-01-14T14:23:29.596132Z"
    }
   },
   "id": "1c9b5c0626a8ab59",
   "execution_count": 19
  },
  {
   "cell_type": "code",
   "outputs": [
    {
     "data": {
      "text/plain": "utility_agent2\n-1.0    109241\n 1.0    101744\n 0.0     29419\nName: count, dtype: int64"
     },
     "execution_count": 20,
     "metadata": {},
     "output_type": "execute_result"
    }
   ],
   "source": [
    "data[\"utility_agent2\"].value_counts()"
   ],
   "metadata": {
    "collapsed": false,
    "ExecuteTime": {
     "end_time": "2024-01-14T14:23:29.612907200Z",
     "start_time": "2024-01-14T14:23:29.610157700Z"
    }
   },
   "id": "f334382599ef514a",
   "execution_count": 20
  },
  {
   "cell_type": "code",
   "outputs": [
    {
     "data": {
      "text/plain": "utility_agent1  utility_agent2\n 1.0            -1.0              109141\n-1.0             1.0              101744\n 0.0             0.0               29419\n-1.0            -1.0                 100\nName: count, dtype: int64"
     },
     "execution_count": 21,
     "metadata": {},
     "output_type": "execute_result"
    }
   ],
   "source": [
    "data[[\"utility_agent1\", \"utility_agent2\"]].value_counts()"
   ],
   "metadata": {
    "collapsed": false,
    "ExecuteTime": {
     "end_time": "2024-01-14T14:23:29.642956200Z",
     "start_time": "2024-01-14T14:23:29.613907300Z"
    }
   },
   "id": "b8afefda360b4c48",
   "execution_count": 21
  },
  {
   "cell_type": "code",
   "outputs": [
    {
     "data": {
      "text/plain": "array(['Safe_Passage'], dtype=object)"
     },
     "execution_count": 22,
     "metadata": {},
     "output_type": "execute_result"
    }
   ],
   "source": [
    "# Interesting: there are 100 entries in which both agents lose\n",
    "\n",
    "subdata = data[(data[\"utility_agent1\"] == -1.0) & (data[\"utility_agent2\"] == -1.0)]\n",
    "subdata[\"GameRulesetName\"].unique()"
   ],
   "metadata": {
    "collapsed": false,
    "ExecuteTime": {
     "end_time": "2024-01-14T14:23:29.655879100Z",
     "start_time": "2024-01-14T14:23:29.642956200Z"
    }
   },
   "id": "7fb2bf9e39ba05a",
   "execution_count": 22
  },
  {
   "cell_type": "code",
   "outputs": [
    {
     "data": {
      "text/plain": "utility_agent1  utility_agent2\n-1.0            -1.0              100\n 0.0             0.0               45\nName: count, dtype: int64"
     },
     "execution_count": 23,
     "metadata": {},
     "output_type": "execute_result"
    }
   ],
   "source": [
    "# Only the game \"Safe_Passage\" allows both agents to lose. A bit of research reveals that Safe Passage can be played cooperatively, which allows both agents to lose collectively.\n",
    "\n",
    "subdata = data[data[\"GameRulesetName\"] == \"Safe_Passage\"]\n",
    "subdata[[\"utility_agent1\", \"utility_agent2\"]].value_counts()"
   ],
   "metadata": {
    "collapsed": false,
    "ExecuteTime": {
     "end_time": "2024-01-14T14:23:29.690909500Z",
     "start_time": "2024-01-14T14:23:29.651878600Z"
    }
   },
   "id": "c921dfeecc27a83b",
   "execution_count": 23
  },
  {
   "cell_type": "code",
   "outputs": [
    {
     "data": {
      "text/plain": "Cooperation  Team  Coalition\n0.0          0.0   0.0          145\nName: count, dtype: int64"
     },
     "execution_count": 24,
     "metadata": {},
     "output_type": "execute_result"
    }
   ],
   "source": [
    "# Not all matches from Safe Passage result in a collective loss\n",
    "\n",
    "subdata[[\"Cooperation\", \"Team\", \"Coalition\"]].value_counts()"
   ],
   "metadata": {
    "collapsed": false,
    "ExecuteTime": {
     "end_time": "2024-01-14T14:23:29.691910500Z",
     "start_time": "2024-01-14T14:23:29.672394100Z"
    }
   },
   "id": "8fe0eda06274a08c",
   "execution_count": 24
  },
  {
   "cell_type": "code",
   "outputs": [
    {
     "name": "stdout",
     "output_type": "stream",
     "text": [
      "Removing 145 entries corresponding to Safe Passage\n",
      "Removing 80 entries corresponding to cooperative games\n"
     ]
    }
   ],
   "source": [
    "# Interestingly, the ruleset used by the game mentions nothing of cooperation between players\n",
    "# (This is actually quite alarming, as it may suggest Ludii has errors in its rulesets)\n",
    "\n",
    "# We should remove Safe Passage\n",
    "f = data[\"GameRulesetName\"] == \"Safe_Passage\"\n",
    "print(f\"Removing {f.sum()} entries corresponding to Safe Passage\")\n",
    "data = data[~f]\n",
    "\n",
    "# While we are it, we should probably remove any games that involve cooperation\n",
    "# Why? Our research question is interested in identifying which of two agents/components is better. This implies competition, not cooperation!\n",
    "f = data[\"Cooperation\"] == 1\n",
    "print(f\"Removing {f.sum()} entries corresponding to cooperative games\")\n",
    "data = data[~f]\n",
    "\n",
    "# Remove corresponding variables\n",
    "variables = [\"Cooperation\", \"Team\", \"Coalition\"]\n",
    "data = data.drop(columns=variables)"
   ],
   "metadata": {
    "collapsed": false,
    "ExecuteTime": {
     "end_time": "2024-01-14T14:23:30.855039400Z",
     "start_time": "2024-01-14T14:23:29.682908200Z"
    }
   },
   "id": "197d62cbb1a2cc1a",
   "execution_count": 25
  },
  {
   "cell_type": "code",
   "outputs": [
    {
     "data": {
      "text/plain": "      Id                      Name                          Description  \\\n0      1                Properties      General properties of the game.   \n1      2                    Format                  Format of the game.   \n2      3                      Time                          Time model.   \n3      4                  Discrete  Players move at discrete intervals.   \n4      5                  Realtime                  Moves not discrete.   \n..   ...                       ...                                  ...   \n804  805                SkillTrace                         Skill Trace.   \n805  806           SkillTraceScore                   Skill Trace Score.   \n806  807          SkillTraceTrials                  Skill Trace Trials.   \n807  808      SkillTraceErrorSlope             Skill Trace Error Slope.   \n808  809  SkillTraceErrorIntercept         Skill Trace Error Intercept.   \n\n     TypeId  DataTypeId  ComputationTypeId TaxonomyString  LeafNode  \\\n0         1           1                  1              1         0   \n1         1           1                  1            1.1         0   \n2         1           1                  1          1.1.1         0   \n3         1           1                  1        1.1.1.1         1   \n4         1           1                  1        1.1.1.2         1   \n..      ...         ...                ...            ...       ...   \n804       7           1                  2           4.13         0   \n805       7           4                  2         4.13.1         1   \n806       7           4                  2         4.13.2         1   \n807       7           4                  2         4.13.3         1   \n808       7           4                  2         4.13.4         1   \n\n     ShowOnWebsite  \n0                0  \n1                0  \n2                0  \n3                1  \n4                1  \n..             ...  \n804              1  \n805              1  \n806              1  \n807              1  \n808              1  \n\n[809 rows x 9 columns]",
      "text/html": "<div>\n<style scoped>\n    .dataframe tbody tr th:only-of-type {\n        vertical-align: middle;\n    }\n\n    .dataframe tbody tr th {\n        vertical-align: top;\n    }\n\n    .dataframe thead th {\n        text-align: right;\n    }\n</style>\n<table border=\"1\" class=\"dataframe\">\n  <thead>\n    <tr style=\"text-align: right;\">\n      <th></th>\n      <th>Id</th>\n      <th>Name</th>\n      <th>Description</th>\n      <th>TypeId</th>\n      <th>DataTypeId</th>\n      <th>ComputationTypeId</th>\n      <th>TaxonomyString</th>\n      <th>LeafNode</th>\n      <th>ShowOnWebsite</th>\n    </tr>\n  </thead>\n  <tbody>\n    <tr>\n      <th>0</th>\n      <td>1</td>\n      <td>Properties</td>\n      <td>General properties of the game.</td>\n      <td>1</td>\n      <td>1</td>\n      <td>1</td>\n      <td>1</td>\n      <td>0</td>\n      <td>0</td>\n    </tr>\n    <tr>\n      <th>1</th>\n      <td>2</td>\n      <td>Format</td>\n      <td>Format of the game.</td>\n      <td>1</td>\n      <td>1</td>\n      <td>1</td>\n      <td>1.1</td>\n      <td>0</td>\n      <td>0</td>\n    </tr>\n    <tr>\n      <th>2</th>\n      <td>3</td>\n      <td>Time</td>\n      <td>Time model.</td>\n      <td>1</td>\n      <td>1</td>\n      <td>1</td>\n      <td>1.1.1</td>\n      <td>0</td>\n      <td>0</td>\n    </tr>\n    <tr>\n      <th>3</th>\n      <td>4</td>\n      <td>Discrete</td>\n      <td>Players move at discrete intervals.</td>\n      <td>1</td>\n      <td>1</td>\n      <td>1</td>\n      <td>1.1.1.1</td>\n      <td>1</td>\n      <td>1</td>\n    </tr>\n    <tr>\n      <th>4</th>\n      <td>5</td>\n      <td>Realtime</td>\n      <td>Moves not discrete.</td>\n      <td>1</td>\n      <td>1</td>\n      <td>1</td>\n      <td>1.1.1.2</td>\n      <td>1</td>\n      <td>1</td>\n    </tr>\n    <tr>\n      <th>...</th>\n      <td>...</td>\n      <td>...</td>\n      <td>...</td>\n      <td>...</td>\n      <td>...</td>\n      <td>...</td>\n      <td>...</td>\n      <td>...</td>\n      <td>...</td>\n    </tr>\n    <tr>\n      <th>804</th>\n      <td>805</td>\n      <td>SkillTrace</td>\n      <td>Skill Trace.</td>\n      <td>7</td>\n      <td>1</td>\n      <td>2</td>\n      <td>4.13</td>\n      <td>0</td>\n      <td>1</td>\n    </tr>\n    <tr>\n      <th>805</th>\n      <td>806</td>\n      <td>SkillTraceScore</td>\n      <td>Skill Trace Score.</td>\n      <td>7</td>\n      <td>4</td>\n      <td>2</td>\n      <td>4.13.1</td>\n      <td>1</td>\n      <td>1</td>\n    </tr>\n    <tr>\n      <th>806</th>\n      <td>807</td>\n      <td>SkillTraceTrials</td>\n      <td>Skill Trace Trials.</td>\n      <td>7</td>\n      <td>4</td>\n      <td>2</td>\n      <td>4.13.2</td>\n      <td>1</td>\n      <td>1</td>\n    </tr>\n    <tr>\n      <th>807</th>\n      <td>808</td>\n      <td>SkillTraceErrorSlope</td>\n      <td>Skill Trace Error Slope.</td>\n      <td>7</td>\n      <td>4</td>\n      <td>2</td>\n      <td>4.13.3</td>\n      <td>1</td>\n      <td>1</td>\n    </tr>\n    <tr>\n      <th>808</th>\n      <td>809</td>\n      <td>SkillTraceErrorIntercept</td>\n      <td>Skill Trace Error Intercept.</td>\n      <td>7</td>\n      <td>4</td>\n      <td>2</td>\n      <td>4.13.4</td>\n      <td>1</td>\n      <td>1</td>\n    </tr>\n  </tbody>\n</table>\n<p>809 rows × 9 columns</p>\n</div>"
     },
     "execution_count": 26,
     "metadata": {},
     "output_type": "execute_result"
    }
   ],
   "source": [
    "# Remove concepts that are computed after play by agents\n",
    "\n",
    "concepts = pd.read_csv(\"../data/ludii-database-files/Concepts.csv\")\n",
    "concepts"
   ],
   "metadata": {
    "collapsed": false,
    "ExecuteTime": {
     "end_time": "2024-01-14T14:23:30.870174400Z",
     "start_time": "2024-01-14T14:23:30.855039400Z"
    }
   },
   "id": "8a8686b0f2b6a957",
   "execution_count": 26
  },
  {
   "cell_type": "code",
   "outputs": [
    {
     "name": "stdout",
     "output_type": "stream",
     "text": [
      "Removing 164 concepts that are determined after play by agents\n"
     ]
    }
   ],
   "source": [
    "# Variable \"ComputationTypeId\":\n",
    "# 1 -> value of concept is static\n",
    "# 2 -> value of concept is dynamic, i.e., determined after play by agents\n",
    "\n",
    "dynamicConcepts = concepts[concepts[\"ComputationTypeId\"] == 2][\"Name\"]\n",
    "\n",
    "# Remove those dynamic concepts that are not in the data\n",
    "tmp = []\n",
    "for concept in dynamicConcepts:\n",
    "    if concept in data.columns:\n",
    "        tmp.append(concept)\n",
    "dynamicConcepts = tmp\n",
    "\n",
    "print(f\"Removing {len(dynamicConcepts)} concepts that are determined after play by agents\")\n",
    "data = data.drop(columns=dynamicConcepts)"
   ],
   "metadata": {
    "collapsed": false,
    "ExecuteTime": {
     "end_time": "2024-01-14T14:23:31.086470100Z",
     "start_time": "2024-01-14T14:23:30.872174600Z"
    }
   },
   "id": "9c8ec9e824b9a80f",
   "execution_count": 27
  },
  {
   "cell_type": "code",
   "outputs": [
    {
     "name": "stdout",
     "output_type": "stream",
     "text": [
      "Removing 63 variables that are single-valued\n"
     ]
    }
   ],
   "source": [
    "# Remove single-valued variables\n",
    "\n",
    "singles = []\n",
    "for var in data.columns:\n",
    "    if data[var].nunique() == 1:\n",
    "        singles.append(var)\n",
    "\n",
    "print(f\"Removing {len(singles)} variables that are single-valued\")\n",
    "data = data.drop(columns=singles)"
   ],
   "metadata": {
    "collapsed": false,
    "ExecuteTime": {
     "end_time": "2024-01-14T14:23:31.912895Z",
     "start_time": "2024-01-14T14:23:31.079469300Z"
    }
   },
   "id": "ab964d874399c905",
   "execution_count": 28
  },
  {
   "cell_type": "code",
   "outputs": [
    {
     "name": "stdout",
     "output_type": "stream",
     "text": [
      "Removing 155 concepts that are not leaf nodes\n"
     ]
    }
   ],
   "source": [
    "# Remove concepts that are not leaf nodes (variable \"LeafNode\" alone will not suffice -> removal of concepts causes the hierarchy to change)\n",
    "# Note: it is important this step happens last due to the dependency on the presence of other variables\n",
    "\n",
    "\n",
    "def is_leafnode(conceptName):\n",
    "    taxonomy = concepts[concepts[\"Name\"] == conceptName].iloc[0][\"TaxonomyString\"]\n",
    "\n",
    "    cntr = 1\n",
    "    while True:\n",
    "        taxonomy_child = f\"{taxonomy}.{cntr}\"\n",
    "\n",
    "        data_child = concepts[concepts[\"TaxonomyString\"] == taxonomy_child]\n",
    "\n",
    "        if data_child.shape[0] == 0:\n",
    "            return True\n",
    "\n",
    "        if data_child.iloc[0][\"Name\"] in data.columns:\n",
    "            return False\n",
    "\n",
    "        cntr += 1\n",
    "\n",
    "\n",
    "internalConcepts = concepts[concepts[\"LeafNode\"] == 0][\"Name\"]\n",
    "\n",
    "trulyInternalConcepts = []\n",
    "for concept in internalConcepts:\n",
    "    if concept in data.columns and ~is_leafnode(concept):\n",
    "        trulyInternalConcepts.append(concept)\n",
    "\n",
    "print(f\"Removing {len(trulyInternalConcepts)} concepts that are not leaf nodes\")\n",
    "data = data.drop(columns=trulyInternalConcepts)"
   ],
   "metadata": {
    "collapsed": false,
    "ExecuteTime": {
     "end_time": "2024-01-14T14:23:32.126945800Z",
     "start_time": "2024-01-14T14:23:31.909894200Z"
    }
   },
   "id": "ed384b90f9cccd6f",
   "execution_count": 29
  },
  {
   "cell_type": "code",
   "outputs": [],
   "source": [
    "# Remove the annoying ' characters from \"agent1\" and \"agent2\"\n",
    "\n",
    "for var in [\"agent1\", \"agent2\"]:\n",
    "    data[var] = data[var].apply(lambda x: x.replace(\"'\", \"\"))"
   ],
   "metadata": {
    "collapsed": false,
    "ExecuteTime": {
     "end_time": "2024-01-14T14:23:32.261982300Z",
     "start_time": "2024-01-14T14:23:32.122946200Z"
    }
   },
   "id": "3e5656f0c7c1633b",
   "execution_count": 30
  },
  {
   "cell_type": "code",
   "outputs": [],
   "source": [
    "# Restore proper data types\n",
    "\n",
    "# Non-concept variables\n",
    "for var in [\"GameRulesetName\", \"Id\", \"agent1\", \"agent2\"]:\n",
    "    data[var] = data[var].astype(\"string\")\n",
    "\n",
    "for var in [\"utility_agent1\", \"utility_agent2\"]:\n",
    "    data[var] = data[var].astype(\"int8\")\n",
    "\n",
    "# Concept variables\n",
    "# Variable \"DataTypeId\":\n",
    "# 1 --> boolean\n",
    "# 2 --> integer\n",
    "# 4 --> float\n",
    "\n",
    "for var in data.columns[6:]:\n",
    "    dataType = concepts[concepts[\"Name\"] == var].iloc[0][\"DataTypeId\"]\n",
    "\n",
    "    if dataType == 1:\n",
    "        # Test for boolean\n",
    "        uniques = data[var].unique()\n",
    "        uniques.sort()\n",
    "\n",
    "        if not (uniques == [0, 1]).all():\n",
    "            print(f\"Investigate variable '{var}'\")\n",
    "            continue\n",
    "        \n",
    "        # Convert to boolean\n",
    "        data[var] = data[var].astype(\"bool\")\n",
    "    elif dataType == 2:\n",
    "        # Test for integer\n",
    "        if not ((data[var] % 1) == 0).all():\n",
    "            print(f\"Investigate variable '{var}'\")\n",
    "            continue\n",
    "\n",
    "        # Convert to integer\n",
    "        data[var] = data[var].astype(\"int16\")\n",
    "    else:\n",
    "        # Test for float\n",
    "        if not ((data[var] % 1) != 0).any():\n",
    "            print(f\"Investigate variable '{var}'\")\n",
    "            continue\n",
    "\n",
    "        # Convert to float\n",
    "        data[var] = data[var].astype(\"float16\")"
   ],
   "metadata": {
    "collapsed": false,
    "ExecuteTime": {
     "end_time": "2024-01-14T14:23:33.041166400Z",
     "start_time": "2024-01-14T14:23:32.264981Z"
    }
   },
   "id": "77402808106db3e1",
   "execution_count": 31
  },
  {
   "cell_type": "code",
   "outputs": [
    {
     "data": {
      "text/plain": "bool       130\nint16       24\nfloat16      6\nName: count, dtype: int64"
     },
     "execution_count": 32,
     "metadata": {},
     "output_type": "execute_result"
    }
   ],
   "source": [
    "# Display distribution of data types among features\n",
    "\n",
    "data.dtypes[6:].value_counts()"
   ],
   "metadata": {
    "collapsed": false,
    "ExecuteTime": {
     "end_time": "2024-01-14T14:23:33.051169Z",
     "start_time": "2024-01-14T14:23:33.042166700Z"
    }
   },
   "id": "5e5395582fd20246",
   "execution_count": 32
  },
  {
   "cell_type": "code",
   "outputs": [
    {
     "name": "stdout",
     "output_type": "stream",
     "text": [
      "MCTS-UCB1-0.6-NST: 60\n",
      "Random: 0\n",
      "MCTS-UCB1-0.6-Random4: 20\n",
      "MCTS-UCB1GRAVE-0.6-Random4: 20\n",
      "MCTS-ProgressiveHistory-1.41421356237-Random0: 0\n",
      "MCTS-UCB1Tuned-0.6-Random0: 0\n",
      "MCTS-UCB1Tuned-1.41421356237-MAST: 40\n",
      "MCTS-UCB1Tuned-1.41421356237-Random0: 40\n",
      "MCTS-ProgressiveHistory-0.6-NST: 35\n",
      "MCTS-ProgressiveHistory-0.1-Random200: 20\n",
      "MCTS-ProgressiveHistory-0.1-MAST: 60\n",
      "MCTS-ProgressiveHistory-0.1-NST: 120\n",
      "MCTS-UCB1-0.1-Random0: 18\n",
      "MCTS-UCB1-1.41421356237-NST: 0\n",
      "MCTS-UCB1GRAVE-0.1-Random200: 60\n",
      "MCTS-UCB1Tuned-0.1-Random4: 0\n",
      "MCTS-UCB1Tuned-0.6-NST: 0\n",
      "MCTS-ProgressiveHistory-0.6-Random0: 20\n",
      "MCTS-UCB1-0.6-MAST: 76\n",
      "MCTS-ProgressiveHistory-0.6-Random200: 60\n",
      "MCTS-UCB1-0.6-Random0: 20\n",
      "MCTS-UCB1-1.41421356237-Random0: 40\n",
      "MCTS-UCB1-0.1-Random200: 60\n",
      "MCTS-UCB1GRAVE-0.1-Random4: 82\n",
      "MCTS-UCB1Tuned-0.1-Random200: 40\n",
      "MCTS-UCB1Tuned-0.1-MAST: 0\n",
      "MCTS-UCB1Tuned-0.1-NST: 40\n",
      "MCTS-UCB1GRAVE-0.6-NST: 20\n",
      "MCTS-UCB1Tuned-0.6-MAST: 40\n",
      "MCTS-UCB1GRAVE-1.41421356237-MAST: 20\n",
      "MCTS-UCB1-1.41421356237-MAST: 40\n",
      "MCTS-UCB1GRAVE-0.1-NST: 0\n",
      "MCTS-UCB1GRAVE-1.41421356237-Random4: 80\n",
      "MCTS-ProgressiveHistory-0.1-Random4: 40\n",
      "MCTS-ProgressiveHistory-0.1-Random0: 40\n",
      "MCTS-UCB1GRAVE-0.1-MAST: 53\n",
      "MCTS-ProgressiveHistory-0.6-MAST: 60\n",
      "MCTS-UCB1-1.41421356237-Random4: 69\n",
      "MCTS-UCB1Tuned-1.41421356237-Random4: 75\n",
      "MCTS-UCB1GRAVE-0.1-Random0: 0\n",
      "MCTS-UCB1Tuned-0.1-Random0: 0\n",
      "MCTS-UCB1-0.6-Random200: 40\n",
      "MCTS-UCB1Tuned-0.6-Random200: 20\n",
      "MCTS-UCB1Tuned-0.6-Random4: 0\n",
      "MCTS-ProgressiveHistory-1.41421356237-NST: 40\n",
      "MCTS-UCB1GRAVE-1.41421356237-NST: 20\n",
      "MCTS-ProgressiveHistory-1.41421356237-Random4: 20\n",
      "MCTS-UCB1GRAVE-0.6-MAST: 60\n",
      "MCTS-ProgressiveHistory-1.41421356237-MAST: 40\n",
      "MCTS-UCB1Tuned-1.41421356237-Random200: 0\n",
      "MCTS-UCB1-0.1-MAST: 0\n",
      "MCTS-ProgressiveHistory-1.41421356237-Random200: 0\n",
      "MCTS-ProgressiveHistory-0.6-Random4: 0\n",
      "MCTS-UCB1GRAVE-1.41421356237-Random200: 0\n",
      "MCTS-UCB1-0.1-NST: 60\n",
      "MCTS-UCB1GRAVE-0.6-Random200: 54\n",
      "MCTS-UCB1GRAVE-0.6-Random0: 20\n",
      "MCTS-UCB1-0.1-Random4: 58\n",
      "MCTS-UCB1-1.41421356237-Random200: 20\n",
      "MCTS-UCB1GRAVE-1.41421356237-Random0: 20\n",
      "MCTS-UCB1Tuned-1.41421356237-NST: 54\n"
     ]
    }
   ],
   "source": [
    "# Remove matches in which both agents are the same\n",
    "\n",
    "agents = data[\"agent1\"].unique()\n",
    "\n",
    "for agent in agents:\n",
    "    f = (data[\"agent1\"] == agent) & (data[\"agent2\"] == agent)\n",
    "    print(f\"{agent}: {f.sum()}\")\n",
    "    data = data[~f]"
   ],
   "metadata": {
    "collapsed": false,
    "ExecuteTime": {
     "end_time": "2024-01-14T14:23:43.209084900Z",
     "start_time": "2024-01-14T14:23:33.051169Z"
    }
   },
   "id": "3a58c2df44f62628",
   "execution_count": 33
  },
  {
   "cell_type": "code",
   "outputs": [
    {
     "data": {
      "text/plain": "      0\n9     1\n1208  1\n768   1\n654   1\n552   3\n...  ..\n581   1\n996   1\n108   1\n439   1\n440   1\n\n[1029 rows x 1 columns]",
      "text/html": "<div>\n<style scoped>\n    .dataframe tbody tr th:only-of-type {\n        vertical-align: middle;\n    }\n\n    .dataframe tbody tr th {\n        vertical-align: top;\n    }\n\n    .dataframe thead th {\n        text-align: right;\n    }\n</style>\n<table border=\"1\" class=\"dataframe\">\n  <thead>\n    <tr style=\"text-align: right;\">\n      <th></th>\n      <th>0</th>\n    </tr>\n  </thead>\n  <tbody>\n    <tr>\n      <th>9</th>\n      <td>1</td>\n    </tr>\n    <tr>\n      <th>1208</th>\n      <td>1</td>\n    </tr>\n    <tr>\n      <th>768</th>\n      <td>1</td>\n    </tr>\n    <tr>\n      <th>654</th>\n      <td>1</td>\n    </tr>\n    <tr>\n      <th>552</th>\n      <td>3</td>\n    </tr>\n    <tr>\n      <th>...</th>\n      <td>...</td>\n    </tr>\n    <tr>\n      <th>581</th>\n      <td>1</td>\n    </tr>\n    <tr>\n      <th>996</th>\n      <td>1</td>\n    </tr>\n    <tr>\n      <th>108</th>\n      <td>1</td>\n    </tr>\n    <tr>\n      <th>439</th>\n      <td>1</td>\n    </tr>\n    <tr>\n      <th>440</th>\n      <td>1</td>\n    </tr>\n  </tbody>\n</table>\n<p>1029 rows × 1 columns</p>\n</div>"
     },
     "execution_count": 34,
     "metadata": {},
     "output_type": "execute_result"
    }
   ],
   "source": [
    "# Investigate multiple rulesets per game\n",
    "\n",
    "rulesets = pd.read_csv(\"../data/ludii-database-files/GameRulesets.csv\")\n",
    "games = pd.read_csv(\"../data/ludii-database-files/Games.csv\")\n",
    "\n",
    "# Count the number of rulesets per game\n",
    "cntr = {}\n",
    "\n",
    "for rulesetId in data[\"Id\"].unique():\n",
    "    gameId = rulesets[rulesets[\"Id\"] == int(rulesetId)].iloc[0][\"GameId\"]\n",
    "\n",
    "    if gameId not in cntr:\n",
    "        cntr[gameId] = 0\n",
    "\n",
    "    cntr[gameId] += 1\n",
    "\n",
    "cntr = pd.DataFrame.from_dict(cntr, orient=\"index\")\n",
    "cntr"
   ],
   "metadata": {
    "collapsed": false,
    "ExecuteTime": {
     "end_time": "2024-01-14T14:23:43.758106Z",
     "start_time": "2024-01-14T14:23:43.213085900Z"
    }
   },
   "id": "c58e78e8f4668ad8",
   "execution_count": 34
  },
  {
   "cell_type": "code",
   "outputs": [
    {
     "data": {
      "text/plain": "1      953\n2       50\n3       13\n4        5\n5        2\n6        1\n14       1\n19       1\n30       1\n51       1\n134      1\nName: count, dtype: int64"
     },
     "execution_count": 35,
     "metadata": {},
     "output_type": "execute_result"
    }
   ],
   "source": [
    "cntr.value_counts()"
   ],
   "metadata": {
    "collapsed": false,
    "ExecuteTime": {
     "end_time": "2024-01-14T14:23:43.772853200Z",
     "start_time": "2024-01-14T14:23:43.758106Z"
    }
   },
   "id": "5aefd2491d40faf4",
   "execution_count": 35
  },
  {
   "cell_type": "code",
   "outputs": [
    {
     "name": "stdout",
     "output_type": "stream",
     "text": [
      "Game #552 reduced to only main ruleset #632\n",
      "Game #10 reduced to only main ruleset #38\n",
      "Game #364 reduced to only main ruleset #383\n",
      "Game #394 reduced to only main ruleset #411\n",
      "Game #1005 reduced to only main ruleset #1163\n",
      "Game #658 reduced to only main ruleset #770\n",
      "Game #923 reduced to only main ruleset #1082\n",
      "Game #924 reduced to only main ruleset #1083\n",
      "Game #507 reduced to only main ruleset #521\n",
      "Game #913 reduced to only main ruleset #1072\n",
      "Game #368 reduced to only main ruleset #387\n",
      "Game #149 reduced to only main ruleset #170\n",
      "Game #318 reduced to only main ruleset #338\n",
      "Game #1460 reduced to only Ludii ruleset #1673\n",
      "Game #834 reduced to only main ruleset #988\n",
      "Game #828 reduced to only main ruleset #981\n",
      "Game #687 reduced to only main ruleset #806\n",
      "Game #1008 reduced to only main ruleset #1166\n",
      "Game #150 reduced to only main ruleset #171\n",
      "Game #8 reduced to only Ludii ruleset #36\n",
      "Game #625 reduced to only main ruleset #732\n",
      "Game #50 reduced to only Ludii ruleset #77\n",
      "Game #3 reduced to only Ludii ruleset #529\n",
      "Game #879 reduced to only main ruleset #1036\n",
      "Game #1433 reduced to only main ruleset #1647\n",
      "Game #707 reduced to only main ruleset #830\n",
      "Game #115 reduced to only first-occurring ruleset #785\n",
      "Game #235 reduced to only main ruleset #256\n",
      "Game #356 reduced to only main ruleset #375\n",
      "Game #227 reduced to only main ruleset #248\n",
      "Game #1134 reduced to only main ruleset #1291\n",
      "Game #1133 reduced to only main ruleset #1290\n",
      "Game #238 reduced to only main ruleset #259\n",
      "Game #248 reduced to only main ruleset #269\n",
      "Game #213 reduced to only main ruleset #234\n",
      "Game #215 reduced to only main ruleset #30\n",
      "Game #38 reduced to only main ruleset #65\n",
      "Game #325 reduced to only main ruleset #345\n",
      "Game #184 reduced to only main ruleset #205\n",
      "Game #346 reduced to only main ruleset #366\n",
      "Game #334 reduced to only main ruleset #354\n",
      "Game #668 reduced to only main ruleset #781\n",
      "Game #816 reduced to only main ruleset #965\n",
      "Game #263 reduced to only main ruleset #284\n",
      "Game #42 reduced to only main ruleset #69\n",
      "Game #1147 reduced to only main ruleset #1308\n",
      "Game #1495 reduced to only main ruleset #1783\n",
      "Game #421 reduced to only main ruleset #640\n",
      "Game #54 reduced to only main ruleset #2017\n",
      "Game #1535 reduced to only main ruleset #1825\n",
      "Game #851 reduced to only main ruleset #1007\n",
      "Game #57 reduced to only main ruleset #563\n",
      "Game #63 reduced to only Ludii ruleset #90\n",
      "Game #163 reduced to only main ruleset #184\n",
      "Game #392 reduced to only Ludii ruleset #587\n",
      "Game #70 reduced to only Ludii ruleset #96\n",
      "Game #75 reduced to only main ruleset #101\n",
      "Game #4 reduced to only Ludii ruleset #534\n",
      "Game #912 reduced to only first-occurring ruleset #1604\n",
      "Game #128 reduced to only main ruleset #150\n",
      "Game #354 reduced to only main ruleset #373\n",
      "Game #26 reduced to only main ruleset #54\n",
      "Game #24 reduced to only main ruleset #52\n",
      "Game #366 reduced to only main ruleset #1934\n",
      "Game #34 reduced to only main ruleset #61\n",
      "Game #820 reduced to only main ruleset #972\n",
      "Game #31 reduced to only main ruleset #59\n",
      "Game #1039 reduced to only main ruleset #1517\n",
      "Game #123 reduced to only main ruleset #145\n",
      "Game #273 reduced to only main ruleset #293\n",
      "Game #292 reduced to only main ruleset #312\n",
      "Game #719 reduced to only main ruleset #846\n",
      "Game #1018 reduced to only main ruleset #1177\n",
      "Game #1624 reduced to only main ruleset #2878\n",
      "Game #1602 reduced to only main ruleset #1999\n",
      "Game #1604 reduced to only main ruleset #2001\n"
     ]
    }
   ],
   "source": [
    "# We observe that the vast majority of games has only one ruleset in our data\n",
    "\n",
    "# After some exploration, it seems that:\n",
    "# - Some game's MainRuleset is based on \"Historical Information\", which are not implemented in Ludii\n",
    "# - Instead, the game uses the LudiiRuleset, which is some dude's interpretation of the game's rules\n",
    "# - Occasionally, this LudiiRuleset is set to NULL\n",
    "# (Honestly, I would not bother trying to figure out the relationship between rulesets, the games they belong to and those games' MainRuleset and LudiiRuleset, as it is very confusing)\n",
    "\n",
    "# Ensure each game has only one ruleset in the data\n",
    "\n",
    "from numpy import isnan\n",
    "\n",
    "for gameId in cntr.index:\n",
    "    noRulesets = cntr.loc[gameId][0]\n",
    "    if noRulesets == 1:\n",
    "        # Game has only one ruleset -> skip\n",
    "        continue\n",
    "\n",
    "    # Game has multiple rulesets -> identify them\n",
    "    # Inefficient code (yummy)\n",
    "    rulesetIds = []\n",
    "    for rulesetId in data[\"Id\"].unique():\n",
    "        if rulesets[rulesets[\"Id\"] == int(rulesetId)].iloc[0][\"GameId\"] == gameId:\n",
    "            rulesetIds.append(rulesetId)\n",
    "\n",
    "    mainRulesetId = str(games[games[\"Id\"] == gameId].iloc[0][\"MainRuleset\"])\n",
    "    if mainRulesetId in data[\"Id\"].unique():\n",
    "        # Game's main ruleset is present in the data -> keep only main ruleset\n",
    "        for rulesetId in rulesetIds:\n",
    "            if rulesetId != mainRulesetId:\n",
    "                data = data[data[\"Id\"] != rulesetId]\n",
    "\n",
    "        print(f\"Game #{gameId} reduced to only main ruleset #{mainRulesetId}\")\n",
    "\n",
    "        continue\n",
    "\n",
    "    ludiiRulesetId = games[games[\"Id\"] == gameId].iloc[0][\"LudiiRuleset\"]\n",
    "    if not isnan(ludiiRulesetId):\n",
    "        ludiiRulesetId = str(int(ludiiRulesetId))\n",
    "\n",
    "        if ludiiRulesetId in data[\"Id\"].unique():\n",
    "            # Game's Ludii ruleset is present in the data -> keep only Ludii ruleset\n",
    "            for rulesetId in rulesetIds:\n",
    "                if rulesetId != ludiiRulesetId:\n",
    "                    data = data[data[\"Id\"] != rulesetId]\n",
    "\n",
    "            print(f\"Game #{gameId} reduced to only Ludii ruleset #{ludiiRulesetId}\")\n",
    "\n",
    "            continue\n",
    "\n",
    "    # Neither the game's main nor Ludii ruleset is present in the data -> keep only first-occurring ruleset\n",
    "    for rulesetId in rulesetIds[1:]:\n",
    "        data = data[data[\"Id\"] != rulesetId]\n",
    "\n",
    "    print(f\"Game #{gameId} reduced to only first-occurring ruleset #{rulesetIds[0]}\")"
   ],
   "metadata": {
    "collapsed": false,
    "ExecuteTime": {
     "end_time": "2024-01-14T14:25:03.437618400Z",
     "start_time": "2024-01-14T14:23:43.767852Z"
    }
   },
   "id": "fe9a092e78148181",
   "execution_count": 36
  },
  {
   "cell_type": "code",
   "outputs": [
    {
     "data": {
      "text/plain": "              Id  RulesetId  ConceptId      Value\n0              1       4035          1       1.00\n1              2       4035          2       1.00\n2              3       4035          3       1.00\n3              4       4035          4       1.00\n4              5       4035          5       0.00\n...          ...        ...        ...        ...\n2260341  2260342       1571        807       0.00\n2260342  2260343       1571        808       0.00\n2260343  2260344       1571        809       0.00\n2260344  2260345       1571        777     167.75\n2260345  2260346       1571        778  167456.18\n\n[2260346 rows x 4 columns]",
      "text/html": "<div>\n<style scoped>\n    .dataframe tbody tr th:only-of-type {\n        vertical-align: middle;\n    }\n\n    .dataframe tbody tr th {\n        vertical-align: top;\n    }\n\n    .dataframe thead th {\n        text-align: right;\n    }\n</style>\n<table border=\"1\" class=\"dataframe\">\n  <thead>\n    <tr style=\"text-align: right;\">\n      <th></th>\n      <th>Id</th>\n      <th>RulesetId</th>\n      <th>ConceptId</th>\n      <th>Value</th>\n    </tr>\n  </thead>\n  <tbody>\n    <tr>\n      <th>0</th>\n      <td>1</td>\n      <td>4035</td>\n      <td>1</td>\n      <td>1.00</td>\n    </tr>\n    <tr>\n      <th>1</th>\n      <td>2</td>\n      <td>4035</td>\n      <td>2</td>\n      <td>1.00</td>\n    </tr>\n    <tr>\n      <th>2</th>\n      <td>3</td>\n      <td>4035</td>\n      <td>3</td>\n      <td>1.00</td>\n    </tr>\n    <tr>\n      <th>3</th>\n      <td>4</td>\n      <td>4035</td>\n      <td>4</td>\n      <td>1.00</td>\n    </tr>\n    <tr>\n      <th>4</th>\n      <td>5</td>\n      <td>4035</td>\n      <td>5</td>\n      <td>0.00</td>\n    </tr>\n    <tr>\n      <th>...</th>\n      <td>...</td>\n      <td>...</td>\n      <td>...</td>\n      <td>...</td>\n    </tr>\n    <tr>\n      <th>2260341</th>\n      <td>2260342</td>\n      <td>1571</td>\n      <td>807</td>\n      <td>0.00</td>\n    </tr>\n    <tr>\n      <th>2260342</th>\n      <td>2260343</td>\n      <td>1571</td>\n      <td>808</td>\n      <td>0.00</td>\n    </tr>\n    <tr>\n      <th>2260343</th>\n      <td>2260344</td>\n      <td>1571</td>\n      <td>809</td>\n      <td>0.00</td>\n    </tr>\n    <tr>\n      <th>2260344</th>\n      <td>2260345</td>\n      <td>1571</td>\n      <td>777</td>\n      <td>167.75</td>\n    </tr>\n    <tr>\n      <th>2260345</th>\n      <td>2260346</td>\n      <td>1571</td>\n      <td>778</td>\n      <td>167456.18</td>\n    </tr>\n  </tbody>\n</table>\n<p>2260346 rows × 4 columns</p>\n</div>"
     },
     "execution_count": 37,
     "metadata": {},
     "output_type": "execute_result"
    }
   ],
   "source": [
    "# Investigate the presence of puzzling games\n",
    "\n",
    "conceptValues = pd.read_csv(\"../data/ludii-database-files/RulesetConcepts.csv\")\n",
    "conceptValues"
   ],
   "metadata": {
    "collapsed": false,
    "ExecuteTime": {
     "end_time": "2024-01-14T14:25:03.945955400Z",
     "start_time": "2024-01-14T14:25:03.432617800Z"
    }
   },
   "id": "6bc33cfb10957909",
   "execution_count": 37
  },
  {
   "cell_type": "code",
   "outputs": [],
   "source": [
    "# Four concepts are indicative of whether a game is a puzzle: Puzzle, DeductionPuzzle, PlanningPuzzle and SolvedEnd\n",
    "# These have IDs 28, 29, 30 and 804, respectively, are all booleans and are not determined after play by agents\n",
    "\n",
    "for rulesetId in data[\"Id\"].unique():\n",
    "    rulesetData = conceptValues[conceptValues[\"RulesetId\"] == int(rulesetId)]\n",
    "    \n",
    "    for conceptId in [28, 29, 30, 804]:\n",
    "        if rulesetData[rulesetData[\"ConceptId\"] == conceptId].iloc[0][\"Value\"] == 1.0:\n",
    "            print(f\"Ruleset #{rulesetId} is a puzzling game #{conceptId}\")"
   ],
   "metadata": {
    "collapsed": false,
    "ExecuteTime": {
     "end_time": "2024-01-14T14:25:06.816295400Z",
     "start_time": "2024-01-14T14:25:03.945955400Z"
    }
   },
   "id": "db6218b67df38d91",
   "execution_count": 38
  },
  {
   "cell_type": "code",
   "outputs": [],
   "source": [
    "# There are no puzzling games\n",
    "\n",
    "# As a side note, it seems the rulesets are partially incorrect at times. An example of this is \"Safe Passage\", which is clearly marked as \"Puzzle\" and \"Planning\" on https://ludii.games/details.php?keyword=Safe%20Passage, but not in our data."
   ],
   "metadata": {
    "collapsed": false,
    "ExecuteTime": {
     "end_time": "2024-01-14T14:25:06.827548Z",
     "start_time": "2024-01-14T14:25:06.816295400Z"
    }
   },
   "id": "a31bf715ad461672",
   "execution_count": 39
  },
  {
   "cell_type": "code",
   "outputs": [
    {
     "data": {
      "text/plain": "       GameRulesetName   Id                      agent1  agent2  \\\n0                Adugo   37           MCTS-UCB1-0.6-NST  Random   \n1                Adugo   37           MCTS-UCB1-0.6-NST  Random   \n2                Adugo   37           MCTS-UCB1-0.6-NST  Random   \n3                Adugo   37           MCTS-UCB1-0.6-NST  Random   \n4                Adugo   37           MCTS-UCB1-0.6-NST  Random   \n...                ...  ...                         ...     ...   \n266304    Shogi_Puzzle  456  MCTS-UCB1GRAVE-0.6-Random0  Random   \n266305    Shogi_Puzzle  456  MCTS-UCB1GRAVE-0.6-Random0  Random   \n266306    Shogi_Puzzle  456  MCTS-UCB1GRAVE-0.6-Random0  Random   \n266307    Shogi_Puzzle  456  MCTS-UCB1GRAVE-0.6-Random0  Random   \n266308    Shogi_Puzzle  456  MCTS-UCB1GRAVE-0.6-Random0  Random   \n\n        utility_agent1  utility_agent2  Stochastic  HiddenInformation  \\\n0                    1              -1       False              False   \n1                    1              -1       False              False   \n2                    1              -1       False              False   \n3                    1              -1       False              False   \n4                    1              -1       False              False   \n...                ...             ...         ...                ...   \n266304               1              -1       False              False   \n266305               1              -1       False              False   \n266306               1              -1       False              False   \n266307               1              -1       False              False   \n266308               1              -1       False              False   \n\n        AsymmetricPiecesType  SquareShape  ...  StarBoard  CrossBoard  \\\n0                       True        False  ...      False       False   \n1                       True        False  ...      False       False   \n2                       True        False  ...      False       False   \n3                       True        False  ...      False       False   \n4                       True        False  ...      False       False   \n...                      ...          ...  ...        ...         ...   \n266304                 False         True  ...      False       False   \n266305                 False         True  ...      False       False   \n266306                 False         True  ...      False       False   \n266307                 False         True  ...      False       False   \n266308                 False         True  ...      False       False   \n\n        KintsBoard  PachisiBoard  FortyStonesWithFourGapsBoard  DiceD2  \\\n0            False         False                         False   False   \n1            False         False                         False   False   \n2            False         False                         False   False   \n3            False         False                         False   False   \n4            False         False                         False   False   \n...            ...           ...                           ...     ...   \n266304       False         False                         False   False   \n266305       False         False                         False   False   \n266306       False         False                         False   False   \n266307       False         False                         False   False   \n266308       False         False                         False   False   \n\n        DiceD4  DiceD6  PlayersWithDirections  IsPieceAt  \n0        False   False                  False      False  \n1        False   False                  False      False  \n2        False   False                  False      False  \n3        False   False                  False      False  \n4        False   False                  False      False  \n...        ...     ...                    ...        ...  \n266304   False   False                   True      False  \n266305   False   False                   True      False  \n266306   False   False                   True      False  \n266307   False   False                   True      False  \n266308   False   False                   True      False  \n\n[179700 rows x 166 columns]",
      "text/html": "<div>\n<style scoped>\n    .dataframe tbody tr th:only-of-type {\n        vertical-align: middle;\n    }\n\n    .dataframe tbody tr th {\n        vertical-align: top;\n    }\n\n    .dataframe thead th {\n        text-align: right;\n    }\n</style>\n<table border=\"1\" class=\"dataframe\">\n  <thead>\n    <tr style=\"text-align: right;\">\n      <th></th>\n      <th>GameRulesetName</th>\n      <th>Id</th>\n      <th>agent1</th>\n      <th>agent2</th>\n      <th>utility_agent1</th>\n      <th>utility_agent2</th>\n      <th>Stochastic</th>\n      <th>HiddenInformation</th>\n      <th>AsymmetricPiecesType</th>\n      <th>SquareShape</th>\n      <th>...</th>\n      <th>StarBoard</th>\n      <th>CrossBoard</th>\n      <th>KintsBoard</th>\n      <th>PachisiBoard</th>\n      <th>FortyStonesWithFourGapsBoard</th>\n      <th>DiceD2</th>\n      <th>DiceD4</th>\n      <th>DiceD6</th>\n      <th>PlayersWithDirections</th>\n      <th>IsPieceAt</th>\n    </tr>\n  </thead>\n  <tbody>\n    <tr>\n      <th>0</th>\n      <td>Adugo</td>\n      <td>37</td>\n      <td>MCTS-UCB1-0.6-NST</td>\n      <td>Random</td>\n      <td>1</td>\n      <td>-1</td>\n      <td>False</td>\n      <td>False</td>\n      <td>True</td>\n      <td>False</td>\n      <td>...</td>\n      <td>False</td>\n      <td>False</td>\n      <td>False</td>\n      <td>False</td>\n      <td>False</td>\n      <td>False</td>\n      <td>False</td>\n      <td>False</td>\n      <td>False</td>\n      <td>False</td>\n    </tr>\n    <tr>\n      <th>1</th>\n      <td>Adugo</td>\n      <td>37</td>\n      <td>MCTS-UCB1-0.6-NST</td>\n      <td>Random</td>\n      <td>1</td>\n      <td>-1</td>\n      <td>False</td>\n      <td>False</td>\n      <td>True</td>\n      <td>False</td>\n      <td>...</td>\n      <td>False</td>\n      <td>False</td>\n      <td>False</td>\n      <td>False</td>\n      <td>False</td>\n      <td>False</td>\n      <td>False</td>\n      <td>False</td>\n      <td>False</td>\n      <td>False</td>\n    </tr>\n    <tr>\n      <th>2</th>\n      <td>Adugo</td>\n      <td>37</td>\n      <td>MCTS-UCB1-0.6-NST</td>\n      <td>Random</td>\n      <td>1</td>\n      <td>-1</td>\n      <td>False</td>\n      <td>False</td>\n      <td>True</td>\n      <td>False</td>\n      <td>...</td>\n      <td>False</td>\n      <td>False</td>\n      <td>False</td>\n      <td>False</td>\n      <td>False</td>\n      <td>False</td>\n      <td>False</td>\n      <td>False</td>\n      <td>False</td>\n      <td>False</td>\n    </tr>\n    <tr>\n      <th>3</th>\n      <td>Adugo</td>\n      <td>37</td>\n      <td>MCTS-UCB1-0.6-NST</td>\n      <td>Random</td>\n      <td>1</td>\n      <td>-1</td>\n      <td>False</td>\n      <td>False</td>\n      <td>True</td>\n      <td>False</td>\n      <td>...</td>\n      <td>False</td>\n      <td>False</td>\n      <td>False</td>\n      <td>False</td>\n      <td>False</td>\n      <td>False</td>\n      <td>False</td>\n      <td>False</td>\n      <td>False</td>\n      <td>False</td>\n    </tr>\n    <tr>\n      <th>4</th>\n      <td>Adugo</td>\n      <td>37</td>\n      <td>MCTS-UCB1-0.6-NST</td>\n      <td>Random</td>\n      <td>1</td>\n      <td>-1</td>\n      <td>False</td>\n      <td>False</td>\n      <td>True</td>\n      <td>False</td>\n      <td>...</td>\n      <td>False</td>\n      <td>False</td>\n      <td>False</td>\n      <td>False</td>\n      <td>False</td>\n      <td>False</td>\n      <td>False</td>\n      <td>False</td>\n      <td>False</td>\n      <td>False</td>\n    </tr>\n    <tr>\n      <th>...</th>\n      <td>...</td>\n      <td>...</td>\n      <td>...</td>\n      <td>...</td>\n      <td>...</td>\n      <td>...</td>\n      <td>...</td>\n      <td>...</td>\n      <td>...</td>\n      <td>...</td>\n      <td>...</td>\n      <td>...</td>\n      <td>...</td>\n      <td>...</td>\n      <td>...</td>\n      <td>...</td>\n      <td>...</td>\n      <td>...</td>\n      <td>...</td>\n      <td>...</td>\n      <td>...</td>\n    </tr>\n    <tr>\n      <th>266304</th>\n      <td>Shogi_Puzzle</td>\n      <td>456</td>\n      <td>MCTS-UCB1GRAVE-0.6-Random0</td>\n      <td>Random</td>\n      <td>1</td>\n      <td>-1</td>\n      <td>False</td>\n      <td>False</td>\n      <td>False</td>\n      <td>True</td>\n      <td>...</td>\n      <td>False</td>\n      <td>False</td>\n      <td>False</td>\n      <td>False</td>\n      <td>False</td>\n      <td>False</td>\n      <td>False</td>\n      <td>False</td>\n      <td>True</td>\n      <td>False</td>\n    </tr>\n    <tr>\n      <th>266305</th>\n      <td>Shogi_Puzzle</td>\n      <td>456</td>\n      <td>MCTS-UCB1GRAVE-0.6-Random0</td>\n      <td>Random</td>\n      <td>1</td>\n      <td>-1</td>\n      <td>False</td>\n      <td>False</td>\n      <td>False</td>\n      <td>True</td>\n      <td>...</td>\n      <td>False</td>\n      <td>False</td>\n      <td>False</td>\n      <td>False</td>\n      <td>False</td>\n      <td>False</td>\n      <td>False</td>\n      <td>False</td>\n      <td>True</td>\n      <td>False</td>\n    </tr>\n    <tr>\n      <th>266306</th>\n      <td>Shogi_Puzzle</td>\n      <td>456</td>\n      <td>MCTS-UCB1GRAVE-0.6-Random0</td>\n      <td>Random</td>\n      <td>1</td>\n      <td>-1</td>\n      <td>False</td>\n      <td>False</td>\n      <td>False</td>\n      <td>True</td>\n      <td>...</td>\n      <td>False</td>\n      <td>False</td>\n      <td>False</td>\n      <td>False</td>\n      <td>False</td>\n      <td>False</td>\n      <td>False</td>\n      <td>False</td>\n      <td>True</td>\n      <td>False</td>\n    </tr>\n    <tr>\n      <th>266307</th>\n      <td>Shogi_Puzzle</td>\n      <td>456</td>\n      <td>MCTS-UCB1GRAVE-0.6-Random0</td>\n      <td>Random</td>\n      <td>1</td>\n      <td>-1</td>\n      <td>False</td>\n      <td>False</td>\n      <td>False</td>\n      <td>True</td>\n      <td>...</td>\n      <td>False</td>\n      <td>False</td>\n      <td>False</td>\n      <td>False</td>\n      <td>False</td>\n      <td>False</td>\n      <td>False</td>\n      <td>False</td>\n      <td>True</td>\n      <td>False</td>\n    </tr>\n    <tr>\n      <th>266308</th>\n      <td>Shogi_Puzzle</td>\n      <td>456</td>\n      <td>MCTS-UCB1GRAVE-0.6-Random0</td>\n      <td>Random</td>\n      <td>1</td>\n      <td>-1</td>\n      <td>False</td>\n      <td>False</td>\n      <td>False</td>\n      <td>True</td>\n      <td>...</td>\n      <td>False</td>\n      <td>False</td>\n      <td>False</td>\n      <td>False</td>\n      <td>False</td>\n      <td>False</td>\n      <td>False</td>\n      <td>False</td>\n      <td>True</td>\n      <td>False</td>\n    </tr>\n  </tbody>\n</table>\n<p>179700 rows × 166 columns</p>\n</div>"
     },
     "execution_count": 40,
     "metadata": {},
     "output_type": "execute_result"
    }
   ],
   "source": [
    "data"
   ],
   "metadata": {
    "collapsed": false,
    "ExecuteTime": {
     "end_time": "2024-01-14T14:25:06.951617500Z",
     "start_time": "2024-01-14T14:25:06.820547Z"
    }
   },
   "id": "9c4e85d5ee9ea111",
   "execution_count": 40
  },
  {
   "cell_type": "code",
   "outputs": [
    {
     "data": {
      "text/plain": "                              Random     Others\nGames                                          \nAdugo                      73.750000  26.250000\nAsalto                     67.500000  32.500000\nBagh_Bandi                 86.250000  13.750000\nBagh_Batti                 62.500000  37.500000\nBagh_GutiKarwi_Described   61.000000  39.000000\n...                              ...        ...\nChomp                      98.333333   1.666667\nFibonacci_Nim              96.666667   3.333333\nNimBasic_Described        100.000000   0.000000\nChess_Puzzle              100.000000   0.000000\nShogi_Puzzle               98.750000   1.250000\n\n[1017 rows x 2 columns]",
      "text/html": "<div>\n<style scoped>\n    .dataframe tbody tr th:only-of-type {\n        vertical-align: middle;\n    }\n\n    .dataframe tbody tr th {\n        vertical-align: top;\n    }\n\n    .dataframe thead th {\n        text-align: right;\n    }\n</style>\n<table border=\"1\" class=\"dataframe\">\n  <thead>\n    <tr style=\"text-align: right;\">\n      <th></th>\n      <th>Random</th>\n      <th>Others</th>\n    </tr>\n    <tr>\n      <th>Games</th>\n      <th></th>\n      <th></th>\n    </tr>\n  </thead>\n  <tbody>\n    <tr>\n      <th>Adugo</th>\n      <td>73.750000</td>\n      <td>26.250000</td>\n    </tr>\n    <tr>\n      <th>Asalto</th>\n      <td>67.500000</td>\n      <td>32.500000</td>\n    </tr>\n    <tr>\n      <th>Bagh_Bandi</th>\n      <td>86.250000</td>\n      <td>13.750000</td>\n    </tr>\n    <tr>\n      <th>Bagh_Batti</th>\n      <td>62.500000</td>\n      <td>37.500000</td>\n    </tr>\n    <tr>\n      <th>Bagh_GutiKarwi_Described</th>\n      <td>61.000000</td>\n      <td>39.000000</td>\n    </tr>\n    <tr>\n      <th>...</th>\n      <td>...</td>\n      <td>...</td>\n    </tr>\n    <tr>\n      <th>Chomp</th>\n      <td>98.333333</td>\n      <td>1.666667</td>\n    </tr>\n    <tr>\n      <th>Fibonacci_Nim</th>\n      <td>96.666667</td>\n      <td>3.333333</td>\n    </tr>\n    <tr>\n      <th>NimBasic_Described</th>\n      <td>100.000000</td>\n      <td>0.000000</td>\n    </tr>\n    <tr>\n      <th>Chess_Puzzle</th>\n      <td>100.000000</td>\n      <td>0.000000</td>\n    </tr>\n    <tr>\n      <th>Shogi_Puzzle</th>\n      <td>98.750000</td>\n      <td>1.250000</td>\n    </tr>\n  </tbody>\n</table>\n<p>1017 rows × 2 columns</p>\n</div>"
     },
     "execution_count": 26,
     "metadata": {},
     "output_type": "execute_result"
    }
   ],
   "source": [
    "# Investigate game complexity\n",
    "\n",
    "lossPercData = {\n",
    "    \"Games\": [],\n",
    "    \"Random\": [],\n",
    "    \"Others\": []\n",
    "}\n",
    "\n",
    "# Why loss percentage instead of win percentage? Because we want to include draws as well.\n",
    "\n",
    "for game in data[\"GameRulesetName\"].unique():\n",
    "    gameData = data[data[\"GameRulesetName\"] == game]\n",
    "    \n",
    "    # Limit the game data to matches containing exactly one Random agent\n",
    "    gameData = gameData[(gameData[\"agent1\"] == \"Random\") ^ (gameData[\"agent2\"] == \"Random\")]\n",
    "    \n",
    "    if gameData.shape[0] == 0:\n",
    "        continue\n",
    "    \n",
    "    lossPercData[\"Games\"].append(game)\n",
    "    \n",
    "    random1 = gameData[gameData[\"agent1\"] == \"Random\"][\"utility_agent1\"]\n",
    "    random2 = gameData[gameData[\"agent2\"] == \"Random\"][\"utility_agent2\"]\n",
    "\n",
    "    noLossesRandom = (random1 == -1).sum() + (random2 == -1).sum()\n",
    "    noMatches = gameData.shape[0]\n",
    "    \n",
    "    lossPercData[\"Random\"].append(noLossesRandom / noMatches * 100)\n",
    "    lossPercData[\"Others\"].append((noMatches - noLossesRandom) / noMatches * 100)\n",
    "\n",
    "lossPercData = pd.DataFrame.from_dict(lossPercData)\n",
    "lossPercData = lossPercData.set_index(\"Games\")\n",
    "lossPercData"
   ],
   "metadata": {
    "collapsed": false,
    "ExecuteTime": {
     "end_time": "2024-01-13T19:36:01.760436500Z",
     "start_time": "2024-01-13T19:35:54.090346400Z"
    }
   },
   "id": "5b35f1981eea1cbd",
   "execution_count": 26
  },
  {
   "cell_type": "code",
   "outputs": [],
   "source": [
    "# Things we can look into:\n",
    "# - Use data from match-ups that involve a Random agent to remove games that are either too simple or too complex\n",
    "# - Reverting the one-hot encoding of categorical variables, e.g., figuring out what board shapes are possible (You may think \"Why on earth would we do this?\". Some quick testing shows this is not so straight forward. I am concerned we may have some rulesets for which the board shape or tiling is NULL.)\n",
    "# - Duplicate rulesets\n",
    "# - Duplicate columns\n",
    "# - Outliers"
   ],
   "metadata": {
    "collapsed": false,
    "ExecuteTime": {
     "end_time": "2024-01-13T19:36:01.768943Z",
     "start_time": "2024-01-13T19:36:01.753931500Z"
    }
   },
   "id": "559dc9e72339a0ad",
   "execution_count": 27
  },
  {
   "cell_type": "code",
   "outputs": [],
   "source": [
    "data.to_csv('../new_csv/data_max.csv')"
   ],
   "metadata": {
    "collapsed": false,
    "ExecuteTime": {
     "end_time": "2024-01-14T14:25:53.049423500Z",
     "start_time": "2024-01-14T14:25:47.789300Z"
    }
   },
   "id": "7a75241d9b7ffbe7",
   "execution_count": 42
  },
  {
   "cell_type": "code",
   "outputs": [],
   "source": [],
   "metadata": {
    "collapsed": false
   },
   "id": "80ebbcc724d9dd8e"
  }
 ],
 "metadata": {
  "kernelspec": {
   "display_name": "Python 3",
   "language": "python",
   "name": "python3"
  },
  "language_info": {
   "codemirror_mode": {
    "name": "ipython",
    "version": 2
   },
   "file_extension": ".py",
   "mimetype": "text/x-python",
   "name": "python",
   "nbconvert_exporter": "python",
   "pygments_lexer": "ipython2",
   "version": "2.7.6"
  }
 },
 "nbformat": 4,
 "nbformat_minor": 5
}
