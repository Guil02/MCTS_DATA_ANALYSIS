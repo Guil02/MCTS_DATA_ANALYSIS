{
 "cells": [
  {
   "cell_type": "code",
   "execution_count": 1,
   "id": "initial_id",
   "metadata": {
    "collapsed": true,
    "ExecuteTime": {
     "end_time": "2024-01-23T15:46:30.436794600Z",
     "start_time": "2024-01-23T15:46:29.705074700Z"
    }
   },
   "outputs": [],
   "source": [
    "from training_data import import_training_set\n",
    "\n",
    "data, weights, rulesetIds = import_training_set(\"components classification\")"
   ]
  },
  {
   "cell_type": "code",
   "outputs": [
    {
     "data": {
      "text/plain": "       Selection 1 - ProgressiveHistory  Selection 1 - Random  \\\n0                                 False                 False   \n1                                 False                  True   \n2                                 False                  True   \n3                                 False                 False   \n4                                 False                  True   \n...                                 ...                   ...   \n17877                             False                 False   \n17878                             False                 False   \n17879                             False                 False   \n17880                             False                  True   \n17881                             False                 False   \n\n       Selection 1 - UCB1  Selection 1 - UCB1GRAVE  Selection 1 - UCB1Tuned  \\\n0                    True                    False                    False   \n1                   False                    False                    False   \n2                   False                    False                    False   \n3                    True                    False                    False   \n4                   False                    False                    False   \n...                   ...                      ...                      ...   \n17877                True                    False                    False   \n17878                True                    False                    False   \n17879                True                    False                    False   \n17880               False                    False                    False   \n17881               False                     True                    False   \n\n       Selection 2 - ProgressiveHistory  Selection 2 - Random  \\\n0                                 False                  True   \n1                                 False                 False   \n2                                 False                 False   \n3                                 False                  True   \n4                                 False                 False   \n...                                 ...                   ...   \n17877                             False                  True   \n17878                             False                 False   \n17879                             False                 False   \n17880                             False                 False   \n17881                             False                  True   \n\n       Selection 2 - UCB1  Selection 2 - UCB1GRAVE  Selection 2 - UCB1Tuned  \\\n0                   False                    False                    False   \n1                    True                    False                    False   \n2                    True                    False                    False   \n3                   False                    False                    False   \n4                   False                     True                    False   \n...                   ...                      ...                      ...   \n17877               False                    False                    False   \n17878                True                    False                    False   \n17879                True                    False                    False   \n17880               False                     True                    False   \n17881               False                    False                    False   \n\n       ...  CrossBoard  KintsBoard  PachisiBoard  \\\n0      ...       False       False         False   \n1      ...       False       False         False   \n2      ...       False       False         False   \n3      ...       False       False         False   \n4      ...       False       False         False   \n...    ...         ...         ...           ...   \n17877  ...       False       False         False   \n17878  ...       False       False         False   \n17879  ...       False       False         False   \n17880  ...       False       False         False   \n17881  ...       False       False         False   \n\n       FortyStonesWithFourGapsBoard  DiceD2  DiceD4  DiceD6  \\\n0                             False   False   False   False   \n1                             False   False   False   False   \n2                             False   False   False   False   \n3                             False   False   False   False   \n4                             False   False   False   False   \n...                             ...     ...     ...     ...   \n17877                         False   False   False   False   \n17878                         False   False   False   False   \n17879                         False   False   False   False   \n17880                         False   False   False   False   \n17881                         False   False   False   False   \n\n       PlayersWithDirections  IsPieceAt  Most common outcome for Agent 1  \n0                      False      False                              Win  \n1                      False      False                              Win  \n2                      False      False                             Loss  \n3                      False      False                              Win  \n4                      False      False                             Loss  \n...                      ...        ...                              ...  \n17877                   True      False                              Win  \n17878                   True      False                              Win  \n17879                   True      False                              Win  \n17880                   True      False                             Loss  \n17881                   True      False                              Win  \n\n[17882 rows x 185 columns]",
      "text/html": "<div>\n<style scoped>\n    .dataframe tbody tr th:only-of-type {\n        vertical-align: middle;\n    }\n\n    .dataframe tbody tr th {\n        vertical-align: top;\n    }\n\n    .dataframe thead th {\n        text-align: right;\n    }\n</style>\n<table border=\"1\" class=\"dataframe\">\n  <thead>\n    <tr style=\"text-align: right;\">\n      <th></th>\n      <th>Selection 1 - ProgressiveHistory</th>\n      <th>Selection 1 - Random</th>\n      <th>Selection 1 - UCB1</th>\n      <th>Selection 1 - UCB1GRAVE</th>\n      <th>Selection 1 - UCB1Tuned</th>\n      <th>Selection 2 - ProgressiveHistory</th>\n      <th>Selection 2 - Random</th>\n      <th>Selection 2 - UCB1</th>\n      <th>Selection 2 - UCB1GRAVE</th>\n      <th>Selection 2 - UCB1Tuned</th>\n      <th>...</th>\n      <th>CrossBoard</th>\n      <th>KintsBoard</th>\n      <th>PachisiBoard</th>\n      <th>FortyStonesWithFourGapsBoard</th>\n      <th>DiceD2</th>\n      <th>DiceD4</th>\n      <th>DiceD6</th>\n      <th>PlayersWithDirections</th>\n      <th>IsPieceAt</th>\n      <th>Most common outcome for Agent 1</th>\n    </tr>\n  </thead>\n  <tbody>\n    <tr>\n      <th>0</th>\n      <td>False</td>\n      <td>False</td>\n      <td>True</td>\n      <td>False</td>\n      <td>False</td>\n      <td>False</td>\n      <td>True</td>\n      <td>False</td>\n      <td>False</td>\n      <td>False</td>\n      <td>...</td>\n      <td>False</td>\n      <td>False</td>\n      <td>False</td>\n      <td>False</td>\n      <td>False</td>\n      <td>False</td>\n      <td>False</td>\n      <td>False</td>\n      <td>False</td>\n      <td>Win</td>\n    </tr>\n    <tr>\n      <th>1</th>\n      <td>False</td>\n      <td>True</td>\n      <td>False</td>\n      <td>False</td>\n      <td>False</td>\n      <td>False</td>\n      <td>False</td>\n      <td>True</td>\n      <td>False</td>\n      <td>False</td>\n      <td>...</td>\n      <td>False</td>\n      <td>False</td>\n      <td>False</td>\n      <td>False</td>\n      <td>False</td>\n      <td>False</td>\n      <td>False</td>\n      <td>False</td>\n      <td>False</td>\n      <td>Win</td>\n    </tr>\n    <tr>\n      <th>2</th>\n      <td>False</td>\n      <td>True</td>\n      <td>False</td>\n      <td>False</td>\n      <td>False</td>\n      <td>False</td>\n      <td>False</td>\n      <td>True</td>\n      <td>False</td>\n      <td>False</td>\n      <td>...</td>\n      <td>False</td>\n      <td>False</td>\n      <td>False</td>\n      <td>False</td>\n      <td>False</td>\n      <td>False</td>\n      <td>False</td>\n      <td>False</td>\n      <td>False</td>\n      <td>Loss</td>\n    </tr>\n    <tr>\n      <th>3</th>\n      <td>False</td>\n      <td>False</td>\n      <td>True</td>\n      <td>False</td>\n      <td>False</td>\n      <td>False</td>\n      <td>True</td>\n      <td>False</td>\n      <td>False</td>\n      <td>False</td>\n      <td>...</td>\n      <td>False</td>\n      <td>False</td>\n      <td>False</td>\n      <td>False</td>\n      <td>False</td>\n      <td>False</td>\n      <td>False</td>\n      <td>False</td>\n      <td>False</td>\n      <td>Win</td>\n    </tr>\n    <tr>\n      <th>4</th>\n      <td>False</td>\n      <td>True</td>\n      <td>False</td>\n      <td>False</td>\n      <td>False</td>\n      <td>False</td>\n      <td>False</td>\n      <td>False</td>\n      <td>True</td>\n      <td>False</td>\n      <td>...</td>\n      <td>False</td>\n      <td>False</td>\n      <td>False</td>\n      <td>False</td>\n      <td>False</td>\n      <td>False</td>\n      <td>False</td>\n      <td>False</td>\n      <td>False</td>\n      <td>Loss</td>\n    </tr>\n    <tr>\n      <th>...</th>\n      <td>...</td>\n      <td>...</td>\n      <td>...</td>\n      <td>...</td>\n      <td>...</td>\n      <td>...</td>\n      <td>...</td>\n      <td>...</td>\n      <td>...</td>\n      <td>...</td>\n      <td>...</td>\n      <td>...</td>\n      <td>...</td>\n      <td>...</td>\n      <td>...</td>\n      <td>...</td>\n      <td>...</td>\n      <td>...</td>\n      <td>...</td>\n      <td>...</td>\n      <td>...</td>\n    </tr>\n    <tr>\n      <th>17877</th>\n      <td>False</td>\n      <td>False</td>\n      <td>True</td>\n      <td>False</td>\n      <td>False</td>\n      <td>False</td>\n      <td>True</td>\n      <td>False</td>\n      <td>False</td>\n      <td>False</td>\n      <td>...</td>\n      <td>False</td>\n      <td>False</td>\n      <td>False</td>\n      <td>False</td>\n      <td>False</td>\n      <td>False</td>\n      <td>False</td>\n      <td>True</td>\n      <td>False</td>\n      <td>Win</td>\n    </tr>\n    <tr>\n      <th>17878</th>\n      <td>False</td>\n      <td>False</td>\n      <td>True</td>\n      <td>False</td>\n      <td>False</td>\n      <td>False</td>\n      <td>False</td>\n      <td>True</td>\n      <td>False</td>\n      <td>False</td>\n      <td>...</td>\n      <td>False</td>\n      <td>False</td>\n      <td>False</td>\n      <td>False</td>\n      <td>False</td>\n      <td>False</td>\n      <td>False</td>\n      <td>True</td>\n      <td>False</td>\n      <td>Win</td>\n    </tr>\n    <tr>\n      <th>17879</th>\n      <td>False</td>\n      <td>False</td>\n      <td>True</td>\n      <td>False</td>\n      <td>False</td>\n      <td>False</td>\n      <td>False</td>\n      <td>True</td>\n      <td>False</td>\n      <td>False</td>\n      <td>...</td>\n      <td>False</td>\n      <td>False</td>\n      <td>False</td>\n      <td>False</td>\n      <td>False</td>\n      <td>False</td>\n      <td>False</td>\n      <td>True</td>\n      <td>False</td>\n      <td>Win</td>\n    </tr>\n    <tr>\n      <th>17880</th>\n      <td>False</td>\n      <td>True</td>\n      <td>False</td>\n      <td>False</td>\n      <td>False</td>\n      <td>False</td>\n      <td>False</td>\n      <td>False</td>\n      <td>True</td>\n      <td>False</td>\n      <td>...</td>\n      <td>False</td>\n      <td>False</td>\n      <td>False</td>\n      <td>False</td>\n      <td>False</td>\n      <td>False</td>\n      <td>False</td>\n      <td>True</td>\n      <td>False</td>\n      <td>Loss</td>\n    </tr>\n    <tr>\n      <th>17881</th>\n      <td>False</td>\n      <td>False</td>\n      <td>False</td>\n      <td>True</td>\n      <td>False</td>\n      <td>False</td>\n      <td>True</td>\n      <td>False</td>\n      <td>False</td>\n      <td>False</td>\n      <td>...</td>\n      <td>False</td>\n      <td>False</td>\n      <td>False</td>\n      <td>False</td>\n      <td>False</td>\n      <td>False</td>\n      <td>False</td>\n      <td>True</td>\n      <td>False</td>\n      <td>Win</td>\n    </tr>\n  </tbody>\n</table>\n<p>17882 rows × 185 columns</p>\n</div>"
     },
     "execution_count": 2,
     "metadata": {},
     "output_type": "execute_result"
    }
   ],
   "source": [
    "data"
   ],
   "metadata": {
    "collapsed": false,
    "ExecuteTime": {
     "end_time": "2024-01-23T15:46:30.479831900Z",
     "start_time": "2024-01-23T15:46:30.437895600Z"
    }
   },
   "id": "8c0c4b6774067ee3",
   "execution_count": 2
  },
  {
   "cell_type": "code",
   "outputs": [
    {
     "data": {
      "text/plain": "0        0.612842\n1        0.612842\n2        0.612842\n3        0.612842\n4        0.612842\n           ...   \n17877    0.987500\n17878    0.987500\n17879    0.987500\n17880    0.987500\n17881    0.987500\nName: 0, Length: 17882, dtype: float64"
     },
     "execution_count": 3,
     "metadata": {},
     "output_type": "execute_result"
    }
   ],
   "source": [
    "weights"
   ],
   "metadata": {
    "collapsed": false,
    "ExecuteTime": {
     "end_time": "2024-01-23T15:46:30.503351600Z",
     "start_time": "2024-01-23T15:46:30.468322100Z"
    }
   },
   "id": "9eda6e93965757f1",
   "execution_count": 3
  },
  {
   "cell_type": "code",
   "execution_count": 4,
   "outputs": [
    {
     "data": {
      "text/plain": "0         37\n1         37\n2         37\n3         37\n4         37\n        ... \n17877    456\n17878    456\n17879    456\n17880    456\n17881    456\nName: 0, Length: 17882, dtype: category\nCategories (1017, int64): [17, 18, 30, 33, ..., 4096, 4118, 4186, 4187]"
     },
     "execution_count": 4,
     "metadata": {},
     "output_type": "execute_result"
    }
   ],
   "source": [
    "rulesetIds"
   ],
   "metadata": {
    "collapsed": false,
    "ExecuteTime": {
     "end_time": "2024-01-23T15:46:30.510857500Z",
     "start_time": "2024-01-23T15:46:30.483333900Z"
    }
   },
   "id": "9e719c2f9e686cd2"
  },
  {
   "cell_type": "code",
   "outputs": [
    {
     "name": "stdout",
     "output_type": "stream",
     "text": [
      "Progress: 50/1017; Time elapsed (s): 20.56; Estimated time left (s): 397.64\n",
      "Progress: 100/1017; Time elapsed (s): 41.08; Estimated time left (s): 376.73\n",
      "Progress: 150/1017; Time elapsed (s): 61.68; Estimated time left (s): 356.49\n",
      "Progress: 200/1017; Time elapsed (s): 82.37; Estimated time left (s): 336.49\n",
      "Progress: 250/1017; Time elapsed (s): 103.19; Estimated time left (s): 316.59\n",
      "Progress: 300/1017; Time elapsed (s): 123.96; Estimated time left (s): 296.26\n",
      "Progress: 350/1017; Time elapsed (s): 144.67; Estimated time left (s): 275.69\n",
      "Progress: 400/1017; Time elapsed (s): 165.45; Estimated time left (s): 255.21\n",
      "Progress: 450/1017; Time elapsed (s): 186.13; Estimated time left (s): 234.52\n",
      "Progress: 500/1017; Time elapsed (s): 206.80; Estimated time left (s): 213.83\n",
      "Progress: 550/1017; Time elapsed (s): 227.75; Estimated time left (s): 193.38\n",
      "Progress: 600/1017; Time elapsed (s): 248.34; Estimated time left (s): 172.60\n",
      "Progress: 650/1017; Time elapsed (s): 268.95; Estimated time left (s): 151.85\n",
      "Progress: 700/1017; Time elapsed (s): 289.60; Estimated time left (s): 131.15\n",
      "Progress: 750/1017; Time elapsed (s): 310.09; Estimated time left (s): 110.39\n",
      "Progress: 800/1017; Time elapsed (s): 330.64; Estimated time left (s): 89.69\n",
      "Progress: 850/1017; Time elapsed (s): 351.14; Estimated time left (s): 68.99\n",
      "Progress: 900/1017; Time elapsed (s): 371.65; Estimated time left (s): 48.31\n",
      "Progress: 950/1017; Time elapsed (s): 392.30; Estimated time left (s): 27.67\n",
      "Progress: 1000/1017; Time elapsed (s): 413.01; Estimated time left (s): 7.02\n",
      "Progress: 1017/1017; Time elapsed (s): 420.00\n",
      "\n",
      "-- Results (F1-score) --\n",
      "Minimum: 0.000\n",
      "Maximum: 1.000\n",
      "\n",
      "Unweighted average: 0.699\n",
      "Weighted average: 0.731\n",
      "\n",
      "Std: 0.187\n"
     ]
    },
    {
     "data": {
      "text/plain": "<Figure size 640x480 with 1 Axes>",
      "image/png": "[encoded data removed]"
     },
     "metadata": {},
     "output_type": "display_data"
    }
   ],
   "source": [
    "import time\n",
    "import numpy as np\n",
    "from matplotlib import pyplot as plt\n",
    "from sklearn.metrics import f1_score\n",
    "from sklearn.tree import DecisionTreeClassifier\n",
    "\n",
    "# Prepare data\n",
    "X = data.drop(columns=[\"Most common outcome for Agent 1\"])\n",
    "y = data[\"Most common outcome for Agent 1\"]\n",
    "\n",
    "# Custom implementation of Leave-One-Out Cross-Validation\n",
    "scores = []\n",
    "rulesetWeights = []\n",
    "featureImportance = {}\n",
    "\n",
    "startTime = time.time()\n",
    "noIterations = 0\n",
    "noRulesets = rulesetIds.unique().shape[0]\n",
    "\n",
    "for rulesetId in rulesetIds.unique():\n",
    "    # Train/test split\n",
    "    trainIdx = (rulesetIds != rulesetId)\n",
    "    X_train = X[trainIdx]\n",
    "    y_train = y[trainIdx]\n",
    "\n",
    "    testIdx = (rulesetIds == rulesetId)\n",
    "    X_test = X[testIdx]\n",
    "    y_test = y[testIdx]\n",
    "\n",
    "    # Train classifier\n",
    "    clf = DecisionTreeClassifier().fit(X_train, y_train, sample_weight=weights[trainIdx])\n",
    "\n",
    "    # Predict on the test set\n",
    "    y_pred = clf.predict(X_test)\n",
    "    \n",
    "    # Determine performance of classifier\n",
    "    scores.append(f1_score(y_test, y_pred, average=\"weighted\"))\n",
    "    \n",
    "    # Log other important information\n",
    "    rulesetWeights.append(weights[testIdx].iloc[0])\n",
    "    featureImportance[rulesetId] = clf.feature_importances_\n",
    "    \n",
    "    # Output progress\n",
    "    noIterations += 1\n",
    "    if noIterations % 50 == 0:\n",
    "        elapsedTime = time.time() - startTime\n",
    "        avgTimePerIteration = elapsedTime / noIterations\n",
    "        print(f\"Progress: {noIterations}/{noRulesets}; Time elapsed (s): {elapsedTime:.2f}; Estimated time left (s): {(noRulesets - noIterations) * avgTimePerIteration:.2f}\")\n",
    "\n",
    "print(f\"Progress: {noIterations}/{noRulesets}; Time elapsed (s): {time.time() - startTime:.2f}\")\n",
    "\n",
    "# Output results\n",
    "print(f\"\\n-- Results (F1-score) --\")\n",
    "print(f\"Minimum: {np.min(scores):.3f}\\nMaximum: {np.max(scores):.3f}\")\n",
    "print(f\"\\nUnweighted average: {np.average(scores):.3f}\\nWeighted average: {np.average(scores, weights=rulesetWeights):.3f}\")\n",
    "print(f\"\\nStd: {np.std(scores):.3f}\")\n",
    "\n",
    "plt.hist(scores, bins=15)\n",
    "plt.xlabel(\"F1-score\")\n",
    "plt.ylabel(\"Count\")\n",
    "plt.title(\"Distribution of F1-scores\");"
   ],
   "metadata": {
    "collapsed": false,
    "ExecuteTime": {
     "end_time": "2024-01-23T15:53:31.980442900Z",
     "start_time": "2024-01-23T15:46:30.502351200Z"
    }
   },
   "id": "f41438a58316aa8f",
   "execution_count": 5
  },
  {
   "cell_type": "code",
   "outputs": [
    {
     "data": {
      "text/plain": "Selection 1 - Random                1.410771e-01\nPlay-out 1 - Random                 1.364435e-01\nSelection 2 - Random                6.417634e-02\nPlay-out 2 - Random                 6.133901e-02\nExploration 1                       2.256154e-02\n                                        ...     \nSpiralTiling                        4.515088e-07\nAlquerqueBoardWithEightTriangles    6.568976e-20\nSpiralShape                         1.111493e-20\nLeftwardsDirection                  7.902089e-21\nRightwardsDirection                 6.952896e-21\nLength: 184, dtype: float64"
     },
     "execution_count": 6,
     "metadata": {},
     "output_type": "execute_result"
    }
   ],
   "source": [
    "import pandas as pd\n",
    "\n",
    "featureImportance = pd.DataFrame.from_dict(featureImportance, orient=\"index\", columns=X.columns)\n",
    "\n",
    "# Rank features from most to least important\n",
    "avgFeatureImportance = featureImportance.mean()\n",
    "order = avgFeatureImportance.argsort()\n",
    "avgFeatureImportance.iloc[order[::-1]]"
   ],
   "metadata": {
    "collapsed": false,
    "ExecuteTime": {
     "end_time": "2024-01-23T15:53:32.037493200Z",
     "start_time": "2024-01-23T15:53:31.980950200Z"
    }
   },
   "id": "7784eb0020853985",
   "execution_count": 6
  },
  {
   "cell_type": "code",
   "outputs": [],
   "source": [
    "# Adding weights:\n",
    "# (V) Add weights to training of classifier\n",
    "# (V) Compute weighted average of f1-score\n",
    "# (X) Compute weighted standard deviation of f1-score (?)\n",
    "# (X) Change from unweighted to weighted average feature importance"
   ],
   "metadata": {
    "collapsed": false,
    "ExecuteTime": {
     "end_time": "2024-01-23T15:53:32.048001400Z",
     "start_time": "2024-01-23T15:53:32.027483200Z"
    }
   },
   "id": "4e476cd3ea72eab3",
   "execution_count": 7
  }
 ],
 "metadata": {
  "kernelspec": {
   "display_name": "Python 3",
   "language": "python",
   "name": "python3"
  },
  "language_info": {
   "codemirror_mode": {
    "name": "ipython",
    "version": 2
   },
   "file_extension": ".py",
   "mimetype": "text/x-python",
   "name": "python",
   "nbconvert_exporter": "python",
   "pygments_lexer": "ipython2",
   "version": "2.7.6"
  }
 },
 "nbformat": 4,
 "nbformat_minor": 5
}
