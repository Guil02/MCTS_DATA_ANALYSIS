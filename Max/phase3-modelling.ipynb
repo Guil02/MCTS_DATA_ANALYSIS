{
 "cells": [
  {
   "cell_type": "code",
   "execution_count": 1,
   "id": "initial_id",
   "metadata": {
    "collapsed": true,
    "ExecuteTime": {
     "end_time": "2024-01-21T17:22:40.026759400Z",
     "start_time": "2024-01-21T17:22:39.264104100Z"
    }
   },
   "outputs": [],
   "source": [
    "import pandas as pd\n",
    "\n",
    "from training_data import import_training_set\n",
    "\n",
    "data, weights = import_training_set(\"components classification\")"
   ]
  },
  {
   "cell_type": "code",
   "outputs": [
    {
     "data": {
      "text/plain": "       Selection 1 - ProgressiveHistory  Selection 1 - Random  \\\n0                                 False                 False   \n1                                 False                  True   \n2                                 False                  True   \n3                                 False                 False   \n4                                 False                  True   \n...                                 ...                   ...   \n17877                             False                 False   \n17878                             False                 False   \n17879                             False                 False   \n17880                             False                  True   \n17881                             False                 False   \n\n       Selection 1 - UCB1  Selection 1 - UCB1GRAVE  Selection 1 - UCB1Tuned  \\\n0                    True                    False                    False   \n1                   False                    False                    False   \n2                   False                    False                    False   \n3                    True                    False                    False   \n4                   False                    False                    False   \n...                   ...                      ...                      ...   \n17877                True                    False                    False   \n17878                True                    False                    False   \n17879                True                    False                    False   \n17880               False                    False                    False   \n17881               False                     True                    False   \n\n       Selection 2 - ProgressiveHistory  Selection 2 - Random  \\\n0                                 False                  True   \n1                                 False                 False   \n2                                 False                 False   \n3                                 False                  True   \n4                                 False                 False   \n...                                 ...                   ...   \n17877                             False                  True   \n17878                             False                 False   \n17879                             False                 False   \n17880                             False                 False   \n17881                             False                  True   \n\n       Selection 2 - UCB1  Selection 2 - UCB1GRAVE  Selection 2 - UCB1Tuned  \\\n0                   False                    False                    False   \n1                    True                    False                    False   \n2                    True                    False                    False   \n3                   False                    False                    False   \n4                   False                     True                    False   \n...                   ...                      ...                      ...   \n17877               False                    False                    False   \n17878                True                    False                    False   \n17879                True                    False                    False   \n17880               False                     True                    False   \n17881               False                    False                    False   \n\n       ...  CrossBoard  KintsBoard  PachisiBoard  \\\n0      ...       False       False         False   \n1      ...       False       False         False   \n2      ...       False       False         False   \n3      ...       False       False         False   \n4      ...       False       False         False   \n...    ...         ...         ...           ...   \n17877  ...       False       False         False   \n17878  ...       False       False         False   \n17879  ...       False       False         False   \n17880  ...       False       False         False   \n17881  ...       False       False         False   \n\n       FortyStonesWithFourGapsBoard  DiceD2  DiceD4  DiceD6  \\\n0                             False   False   False   False   \n1                             False   False   False   False   \n2                             False   False   False   False   \n3                             False   False   False   False   \n4                             False   False   False   False   \n...                             ...     ...     ...     ...   \n17877                         False   False   False   False   \n17878                         False   False   False   False   \n17879                         False   False   False   False   \n17880                         False   False   False   False   \n17881                         False   False   False   False   \n\n       PlayersWithDirections  IsPieceAt  Most common outcome for Agent 1  \n0                      False      False                              Win  \n1                      False      False                              Win  \n2                      False      False                             Loss  \n3                      False      False                              Win  \n4                      False      False                             Loss  \n...                      ...        ...                              ...  \n17877                   True      False                              Win  \n17878                   True      False                              Win  \n17879                   True      False                              Win  \n17880                   True      False                             Loss  \n17881                   True      False                              Win  \n\n[17882 rows x 185 columns]",
      "text/html": "<div>\n<style scoped>\n    .dataframe tbody tr th:only-of-type {\n        vertical-align: middle;\n    }\n\n    .dataframe tbody tr th {\n        vertical-align: top;\n    }\n\n    .dataframe thead th {\n        text-align: right;\n    }\n</style>\n<table border=\"1\" class=\"dataframe\">\n  <thead>\n    <tr style=\"text-align: right;\">\n      <th></th>\n      <th>Selection 1 - ProgressiveHistory</th>\n      <th>Selection 1 - Random</th>\n      <th>Selection 1 - UCB1</th>\n      <th>Selection 1 - UCB1GRAVE</th>\n      <th>Selection 1 - UCB1Tuned</th>\n      <th>Selection 2 - ProgressiveHistory</th>\n      <th>Selection 2 - Random</th>\n      <th>Selection 2 - UCB1</th>\n      <th>Selection 2 - UCB1GRAVE</th>\n      <th>Selection 2 - UCB1Tuned</th>\n      <th>...</th>\n      <th>CrossBoard</th>\n      <th>KintsBoard</th>\n      <th>PachisiBoard</th>\n      <th>FortyStonesWithFourGapsBoard</th>\n      <th>DiceD2</th>\n      <th>DiceD4</th>\n      <th>DiceD6</th>\n      <th>PlayersWithDirections</th>\n      <th>IsPieceAt</th>\n      <th>Most common outcome for Agent 1</th>\n    </tr>\n  </thead>\n  <tbody>\n    <tr>\n      <th>0</th>\n      <td>False</td>\n      <td>False</td>\n      <td>True</td>\n      <td>False</td>\n      <td>False</td>\n      <td>False</td>\n      <td>True</td>\n      <td>False</td>\n      <td>False</td>\n      <td>False</td>\n      <td>...</td>\n      <td>False</td>\n      <td>False</td>\n      <td>False</td>\n      <td>False</td>\n      <td>False</td>\n      <td>False</td>\n      <td>False</td>\n      <td>False</td>\n      <td>False</td>\n      <td>Win</td>\n    </tr>\n    <tr>\n      <th>1</th>\n      <td>False</td>\n      <td>True</td>\n      <td>False</td>\n      <td>False</td>\n      <td>False</td>\n      <td>False</td>\n      <td>False</td>\n      <td>True</td>\n      <td>False</td>\n      <td>False</td>\n      <td>...</td>\n      <td>False</td>\n      <td>False</td>\n      <td>False</td>\n      <td>False</td>\n      <td>False</td>\n      <td>False</td>\n      <td>False</td>\n      <td>False</td>\n      <td>False</td>\n      <td>Win</td>\n    </tr>\n    <tr>\n      <th>2</th>\n      <td>False</td>\n      <td>True</td>\n      <td>False</td>\n      <td>False</td>\n      <td>False</td>\n      <td>False</td>\n      <td>False</td>\n      <td>True</td>\n      <td>False</td>\n      <td>False</td>\n      <td>...</td>\n      <td>False</td>\n      <td>False</td>\n      <td>False</td>\n      <td>False</td>\n      <td>False</td>\n      <td>False</td>\n      <td>False</td>\n      <td>False</td>\n      <td>False</td>\n      <td>Loss</td>\n    </tr>\n    <tr>\n      <th>3</th>\n      <td>False</td>\n      <td>False</td>\n      <td>True</td>\n      <td>False</td>\n      <td>False</td>\n      <td>False</td>\n      <td>True</td>\n      <td>False</td>\n      <td>False</td>\n      <td>False</td>\n      <td>...</td>\n      <td>False</td>\n      <td>False</td>\n      <td>False</td>\n      <td>False</td>\n      <td>False</td>\n      <td>False</td>\n      <td>False</td>\n      <td>False</td>\n      <td>False</td>\n      <td>Win</td>\n    </tr>\n    <tr>\n      <th>4</th>\n      <td>False</td>\n      <td>True</td>\n      <td>False</td>\n      <td>False</td>\n      <td>False</td>\n      <td>False</td>\n      <td>False</td>\n      <td>False</td>\n      <td>True</td>\n      <td>False</td>\n      <td>...</td>\n      <td>False</td>\n      <td>False</td>\n      <td>False</td>\n      <td>False</td>\n      <td>False</td>\n      <td>False</td>\n      <td>False</td>\n      <td>False</td>\n      <td>False</td>\n      <td>Loss</td>\n    </tr>\n    <tr>\n      <th>...</th>\n      <td>...</td>\n      <td>...</td>\n      <td>...</td>\n      <td>...</td>\n      <td>...</td>\n      <td>...</td>\n      <td>...</td>\n      <td>...</td>\n      <td>...</td>\n      <td>...</td>\n      <td>...</td>\n      <td>...</td>\n      <td>...</td>\n      <td>...</td>\n      <td>...</td>\n      <td>...</td>\n      <td>...</td>\n      <td>...</td>\n      <td>...</td>\n      <td>...</td>\n      <td>...</td>\n    </tr>\n    <tr>\n      <th>17877</th>\n      <td>False</td>\n      <td>False</td>\n      <td>True</td>\n      <td>False</td>\n      <td>False</td>\n      <td>False</td>\n      <td>True</td>\n      <td>False</td>\n      <td>False</td>\n      <td>False</td>\n      <td>...</td>\n      <td>False</td>\n      <td>False</td>\n      <td>False</td>\n      <td>False</td>\n      <td>False</td>\n      <td>False</td>\n      <td>False</td>\n      <td>True</td>\n      <td>False</td>\n      <td>Win</td>\n    </tr>\n    <tr>\n      <th>17878</th>\n      <td>False</td>\n      <td>False</td>\n      <td>True</td>\n      <td>False</td>\n      <td>False</td>\n      <td>False</td>\n      <td>False</td>\n      <td>True</td>\n      <td>False</td>\n      <td>False</td>\n      <td>...</td>\n      <td>False</td>\n      <td>False</td>\n      <td>False</td>\n      <td>False</td>\n      <td>False</td>\n      <td>False</td>\n      <td>False</td>\n      <td>True</td>\n      <td>False</td>\n      <td>Win</td>\n    </tr>\n    <tr>\n      <th>17879</th>\n      <td>False</td>\n      <td>False</td>\n      <td>True</td>\n      <td>False</td>\n      <td>False</td>\n      <td>False</td>\n      <td>False</td>\n      <td>True</td>\n      <td>False</td>\n      <td>False</td>\n      <td>...</td>\n      <td>False</td>\n      <td>False</td>\n      <td>False</td>\n      <td>False</td>\n      <td>False</td>\n      <td>False</td>\n      <td>False</td>\n      <td>True</td>\n      <td>False</td>\n      <td>Win</td>\n    </tr>\n    <tr>\n      <th>17880</th>\n      <td>False</td>\n      <td>True</td>\n      <td>False</td>\n      <td>False</td>\n      <td>False</td>\n      <td>False</td>\n      <td>False</td>\n      <td>False</td>\n      <td>True</td>\n      <td>False</td>\n      <td>...</td>\n      <td>False</td>\n      <td>False</td>\n      <td>False</td>\n      <td>False</td>\n      <td>False</td>\n      <td>False</td>\n      <td>False</td>\n      <td>True</td>\n      <td>False</td>\n      <td>Loss</td>\n    </tr>\n    <tr>\n      <th>17881</th>\n      <td>False</td>\n      <td>False</td>\n      <td>False</td>\n      <td>True</td>\n      <td>False</td>\n      <td>False</td>\n      <td>True</td>\n      <td>False</td>\n      <td>False</td>\n      <td>False</td>\n      <td>...</td>\n      <td>False</td>\n      <td>False</td>\n      <td>False</td>\n      <td>False</td>\n      <td>False</td>\n      <td>False</td>\n      <td>False</td>\n      <td>True</td>\n      <td>False</td>\n      <td>Win</td>\n    </tr>\n  </tbody>\n</table>\n<p>17882 rows × 185 columns</p>\n</div>"
     },
     "execution_count": 2,
     "metadata": {},
     "output_type": "execute_result"
    }
   ],
   "source": [
    "data"
   ],
   "metadata": {
    "collapsed": false,
    "ExecuteTime": {
     "end_time": "2024-01-21T17:22:40.059787300Z",
     "start_time": "2024-01-21T17:22:40.028659900Z"
    }
   },
   "id": "8c0c4b6774067ee3",
   "execution_count": 2
  },
  {
   "cell_type": "code",
   "outputs": [
    {
     "data": {
      "text/plain": "array([0.61284247, 0.61284247, 0.61284247, ..., 0.9875    , 0.9875    ,\n       0.9875    ])"
     },
     "execution_count": 3,
     "metadata": {},
     "output_type": "execute_result"
    }
   ],
   "source": [
    "weights"
   ],
   "metadata": {
    "collapsed": false,
    "ExecuteTime": {
     "end_time": "2024-01-21T17:22:40.088812500Z",
     "start_time": "2024-01-21T17:22:40.058786400Z"
    }
   },
   "id": "9eda6e93965757f1",
   "execution_count": 3
  },
  {
   "cell_type": "code",
   "outputs": [
    {
     "name": "stdout",
     "output_type": "stream",
     "text": [
      "Progress: 1000/17882; Time elapsed (s): 373.78; Estimated time left (s): 6310.10\n"
     ]
    },
    {
     "ename": "KeyboardInterrupt",
     "evalue": "",
     "output_type": "error",
     "traceback": [
      "\u001B[1;31m---------------------------------------------------------------------------\u001B[0m",
      "\u001B[1;31mKeyboardInterrupt\u001B[0m                         Traceback (most recent call last)",
      "Cell \u001B[1;32mIn[4], line 23\u001B[0m\n\u001B[0;32m     20\u001B[0m X_test \u001B[38;5;241m=\u001B[39m X\u001B[38;5;241m.\u001B[39mloc[i]\n\u001B[0;32m     22\u001B[0m \u001B[38;5;66;03m# Train classifier\u001B[39;00m\n\u001B[1;32m---> 23\u001B[0m clf \u001B[38;5;241m=\u001B[39m \u001B[43mDecisionTreeClassifier\u001B[49m\u001B[43m(\u001B[49m\u001B[43m)\u001B[49m\u001B[38;5;241;43m.\u001B[39;49m\u001B[43mfit\u001B[49m\u001B[43m(\u001B[49m\u001B[43mX_train\u001B[49m\u001B[43m,\u001B[49m\u001B[43m \u001B[49m\u001B[43my_train\u001B[49m\u001B[43m)\u001B[49m\n\u001B[0;32m     25\u001B[0m \u001B[38;5;66;03m# Predict on the test instance\u001B[39;00m\n\u001B[0;32m     26\u001B[0m y_pred\u001B[38;5;241m.\u001B[39mappend(clf\u001B[38;5;241m.\u001B[39mpredict(pd\u001B[38;5;241m.\u001B[39mDataFrame(X_test)\u001B[38;5;241m.\u001B[39mtranspose()))\n",
      "File \u001B[1;32m~\\MCTS_DATA_ANALYSIS\\venv\\lib\\site-packages\\sklearn\\base.py:1152\u001B[0m, in \u001B[0;36m_fit_context.<locals>.decorator.<locals>.wrapper\u001B[1;34m(estimator, *args, **kwargs)\u001B[0m\n\u001B[0;32m   1145\u001B[0m     estimator\u001B[38;5;241m.\u001B[39m_validate_params()\n\u001B[0;32m   1147\u001B[0m \u001B[38;5;28;01mwith\u001B[39;00m config_context(\n\u001B[0;32m   1148\u001B[0m     skip_parameter_validation\u001B[38;5;241m=\u001B[39m(\n\u001B[0;32m   1149\u001B[0m         prefer_skip_nested_validation \u001B[38;5;129;01mor\u001B[39;00m global_skip_validation\n\u001B[0;32m   1150\u001B[0m     )\n\u001B[0;32m   1151\u001B[0m ):\n\u001B[1;32m-> 1152\u001B[0m     \u001B[38;5;28;01mreturn\u001B[39;00m fit_method(estimator, \u001B[38;5;241m*\u001B[39margs, \u001B[38;5;241m*\u001B[39m\u001B[38;5;241m*\u001B[39mkwargs)\n",
      "File \u001B[1;32m~\\MCTS_DATA_ANALYSIS\\venv\\lib\\site-packages\\sklearn\\tree\\_classes.py:959\u001B[0m, in \u001B[0;36mDecisionTreeClassifier.fit\u001B[1;34m(self, X, y, sample_weight, check_input)\u001B[0m\n\u001B[0;32m    928\u001B[0m \u001B[38;5;129m@_fit_context\u001B[39m(prefer_skip_nested_validation\u001B[38;5;241m=\u001B[39m\u001B[38;5;28;01mTrue\u001B[39;00m)\n\u001B[0;32m    929\u001B[0m \u001B[38;5;28;01mdef\u001B[39;00m \u001B[38;5;21mfit\u001B[39m(\u001B[38;5;28mself\u001B[39m, X, y, sample_weight\u001B[38;5;241m=\u001B[39m\u001B[38;5;28;01mNone\u001B[39;00m, check_input\u001B[38;5;241m=\u001B[39m\u001B[38;5;28;01mTrue\u001B[39;00m):\n\u001B[0;32m    930\u001B[0m \u001B[38;5;250m    \u001B[39m\u001B[38;5;124;03m\"\"\"Build a decision tree classifier from the training set (X, y).\u001B[39;00m\n\u001B[0;32m    931\u001B[0m \n\u001B[0;32m    932\u001B[0m \u001B[38;5;124;03m    Parameters\u001B[39;00m\n\u001B[1;32m   (...)\u001B[0m\n\u001B[0;32m    956\u001B[0m \u001B[38;5;124;03m        Fitted estimator.\u001B[39;00m\n\u001B[0;32m    957\u001B[0m \u001B[38;5;124;03m    \"\"\"\u001B[39;00m\n\u001B[1;32m--> 959\u001B[0m     \u001B[38;5;28;43msuper\u001B[39;49m\u001B[43m(\u001B[49m\u001B[43m)\u001B[49m\u001B[38;5;241;43m.\u001B[39;49m\u001B[43m_fit\u001B[49m\u001B[43m(\u001B[49m\n\u001B[0;32m    960\u001B[0m \u001B[43m        \u001B[49m\u001B[43mX\u001B[49m\u001B[43m,\u001B[49m\n\u001B[0;32m    961\u001B[0m \u001B[43m        \u001B[49m\u001B[43my\u001B[49m\u001B[43m,\u001B[49m\n\u001B[0;32m    962\u001B[0m \u001B[43m        \u001B[49m\u001B[43msample_weight\u001B[49m\u001B[38;5;241;43m=\u001B[39;49m\u001B[43msample_weight\u001B[49m\u001B[43m,\u001B[49m\n\u001B[0;32m    963\u001B[0m \u001B[43m        \u001B[49m\u001B[43mcheck_input\u001B[49m\u001B[38;5;241;43m=\u001B[39;49m\u001B[43mcheck_input\u001B[49m\u001B[43m,\u001B[49m\n\u001B[0;32m    964\u001B[0m \u001B[43m    \u001B[49m\u001B[43m)\u001B[49m\n\u001B[0;32m    965\u001B[0m     \u001B[38;5;28;01mreturn\u001B[39;00m \u001B[38;5;28mself\u001B[39m\n",
      "File \u001B[1;32m~\\MCTS_DATA_ANALYSIS\\venv\\lib\\site-packages\\sklearn\\tree\\_classes.py:443\u001B[0m, in \u001B[0;36mBaseDecisionTree._fit\u001B[1;34m(self, X, y, sample_weight, check_input, missing_values_in_feature_mask)\u001B[0m\n\u001B[0;32m    432\u001B[0m \u001B[38;5;28;01melse\u001B[39;00m:\n\u001B[0;32m    433\u001B[0m     builder \u001B[38;5;241m=\u001B[39m BestFirstTreeBuilder(\n\u001B[0;32m    434\u001B[0m         splitter,\n\u001B[0;32m    435\u001B[0m         min_samples_split,\n\u001B[1;32m   (...)\u001B[0m\n\u001B[0;32m    440\u001B[0m         \u001B[38;5;28mself\u001B[39m\u001B[38;5;241m.\u001B[39mmin_impurity_decrease,\n\u001B[0;32m    441\u001B[0m     )\n\u001B[1;32m--> 443\u001B[0m \u001B[43mbuilder\u001B[49m\u001B[38;5;241;43m.\u001B[39;49m\u001B[43mbuild\u001B[49m\u001B[43m(\u001B[49m\u001B[38;5;28;43mself\u001B[39;49m\u001B[38;5;241;43m.\u001B[39;49m\u001B[43mtree_\u001B[49m\u001B[43m,\u001B[49m\u001B[43m \u001B[49m\u001B[43mX\u001B[49m\u001B[43m,\u001B[49m\u001B[43m \u001B[49m\u001B[43my\u001B[49m\u001B[43m,\u001B[49m\u001B[43m \u001B[49m\u001B[43msample_weight\u001B[49m\u001B[43m,\u001B[49m\u001B[43m \u001B[49m\u001B[43mmissing_values_in_feature_mask\u001B[49m\u001B[43m)\u001B[49m\n\u001B[0;32m    445\u001B[0m \u001B[38;5;28;01mif\u001B[39;00m \u001B[38;5;28mself\u001B[39m\u001B[38;5;241m.\u001B[39mn_outputs_ \u001B[38;5;241m==\u001B[39m \u001B[38;5;241m1\u001B[39m \u001B[38;5;129;01mand\u001B[39;00m is_classifier(\u001B[38;5;28mself\u001B[39m):\n\u001B[0;32m    446\u001B[0m     \u001B[38;5;28mself\u001B[39m\u001B[38;5;241m.\u001B[39mn_classes_ \u001B[38;5;241m=\u001B[39m \u001B[38;5;28mself\u001B[39m\u001B[38;5;241m.\u001B[39mn_classes_[\u001B[38;5;241m0\u001B[39m]\n",
      "\u001B[1;31mKeyboardInterrupt\u001B[0m: "
     ]
    }
   ],
   "source": [
    "import time\n",
    "from sklearn.tree import DecisionTreeClassifier\n",
    "from sklearn.metrics import f1_score\n",
    "\n",
    "# Evaluate the model ruleset by ruleset -> assume that the model has not seen the supplied ruleset before\n",
    "\n",
    "# Prepare data\n",
    "X = data.drop(columns=[\"Most common outcome for Agent 1\"])\n",
    "y = data[\"Most common outcome for Agent 1\"]\n",
    "\n",
    "# Custom implementation of Leave-One-Out Cross-Validation\n",
    "startTime = time.time()\n",
    "y_pred = []\n",
    "\n",
    "for i in range(X.shape[0]):\n",
    "    # Train/test split\n",
    "    X_train = X.drop(index=[i])\n",
    "    y_train = y.drop(index=[i])\n",
    "    \n",
    "    X_test = X.loc[i]\n",
    "    \n",
    "    # Train classifier\n",
    "    clf = DecisionTreeClassifier().fit(X_train, y_train)\n",
    "    \n",
    "    # Predict on the test instance\n",
    "    y_pred.append(clf.predict(pd.DataFrame(X_test).transpose()))\n",
    "    \n",
    "    # Output progress\n",
    "    if (i + 1) % 1000 == 0:\n",
    "        elapsedTime = time.time() - startTime\n",
    "        avgTimePerInstance = elapsedTime / (i + 1)\n",
    "        print(f\"Progress: {i + 1}/{X.shape[0]}; Time elapsed (s): {elapsedTime:.2f}; Estimated time left (s): {(X.shape[0] - (i + 1)) * avgTimePerInstance:.2f}\")\n",
    "\n",
    "print(\"Progress: done\")\n",
    "\n",
    "print(f\"F1-score: {f1_score(y_true=y, y_pred=y_pred)}\")"
   ],
   "metadata": {
    "collapsed": false,
    "ExecuteTime": {
     "end_time": "2024-01-21T17:29:48.410292700Z",
     "start_time": "2024-01-21T17:22:40.077303Z"
    }
   },
   "id": "f41438a58316aa8f",
   "execution_count": 4
  },
  {
   "cell_type": "code",
   "outputs": [],
   "source": [],
   "metadata": {
    "collapsed": false,
    "ExecuteTime": {
     "end_time": "2024-01-21T17:29:48.415796800Z",
     "start_time": "2024-01-21T17:29:48.412794300Z"
    }
   },
   "id": "65f6dbfd010b1368"
  }
 ],
 "metadata": {
  "kernelspec": {
   "display_name": "Python 3",
   "language": "python",
   "name": "python3"
  },
  "language_info": {
   "codemirror_mode": {
    "name": "ipython",
    "version": 2
   },
   "file_extension": ".py",
   "mimetype": "text/x-python",
   "name": "python",
   "nbconvert_exporter": "python",
   "pygments_lexer": "ipython2",
   "version": "2.7.6"
  }
 },
 "nbformat": 4,
 "nbformat_minor": 5
}
