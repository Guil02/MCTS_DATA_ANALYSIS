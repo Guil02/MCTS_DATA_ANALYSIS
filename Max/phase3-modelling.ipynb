{
 "cells": [
  {
   "cell_type": "code",
   "execution_count": 1,
   "id": "initial_id",
   "metadata": {
    "collapsed": true,
    "ExecuteTime": {
     "end_time": "2024-01-22T11:44:43.140358Z",
     "start_time": "2024-01-22T11:44:42.126082700Z"
    }
   },
   "outputs": [],
   "source": [
    "import pandas as pd\n",
    "from training_data import import_training_set\n",
    "\n",
    "data, weights, rulesetIds = import_training_set(\"components classification\")"
   ]
  },
  {
   "cell_type": "code",
   "outputs": [
    {
     "data": {
      "text/plain": "       Selection 1 - ProgressiveHistory  Selection 1 - Random  \\\n0                                 False                 False   \n1                                 False                  True   \n2                                 False                  True   \n3                                 False                 False   \n4                                 False                  True   \n...                                 ...                   ...   \n17877                             False                 False   \n17878                             False                 False   \n17879                             False                 False   \n17880                             False                  True   \n17881                             False                 False   \n\n       Selection 1 - UCB1  Selection 1 - UCB1GRAVE  Selection 1 - UCB1Tuned  \\\n0                    True                    False                    False   \n1                   False                    False                    False   \n2                   False                    False                    False   \n3                    True                    False                    False   \n4                   False                    False                    False   \n...                   ...                      ...                      ...   \n17877                True                    False                    False   \n17878                True                    False                    False   \n17879                True                    False                    False   \n17880               False                    False                    False   \n17881               False                     True                    False   \n\n       Selection 2 - ProgressiveHistory  Selection 2 - Random  \\\n0                                 False                  True   \n1                                 False                 False   \n2                                 False                 False   \n3                                 False                  True   \n4                                 False                 False   \n...                                 ...                   ...   \n17877                             False                  True   \n17878                             False                 False   \n17879                             False                 False   \n17880                             False                 False   \n17881                             False                  True   \n\n       Selection 2 - UCB1  Selection 2 - UCB1GRAVE  Selection 2 - UCB1Tuned  \\\n0                   False                    False                    False   \n1                    True                    False                    False   \n2                    True                    False                    False   \n3                   False                    False                    False   \n4                   False                     True                    False   \n...                   ...                      ...                      ...   \n17877               False                    False                    False   \n17878                True                    False                    False   \n17879                True                    False                    False   \n17880               False                     True                    False   \n17881               False                    False                    False   \n\n       ...  CrossBoard  KintsBoard  PachisiBoard  \\\n0      ...       False       False         False   \n1      ...       False       False         False   \n2      ...       False       False         False   \n3      ...       False       False         False   \n4      ...       False       False         False   \n...    ...         ...         ...           ...   \n17877  ...       False       False         False   \n17878  ...       False       False         False   \n17879  ...       False       False         False   \n17880  ...       False       False         False   \n17881  ...       False       False         False   \n\n       FortyStonesWithFourGapsBoard  DiceD2  DiceD4  DiceD6  \\\n0                             False   False   False   False   \n1                             False   False   False   False   \n2                             False   False   False   False   \n3                             False   False   False   False   \n4                             False   False   False   False   \n...                             ...     ...     ...     ...   \n17877                         False   False   False   False   \n17878                         False   False   False   False   \n17879                         False   False   False   False   \n17880                         False   False   False   False   \n17881                         False   False   False   False   \n\n       PlayersWithDirections  IsPieceAt  Most common outcome for Agent 1  \n0                      False      False                              Win  \n1                      False      False                              Win  \n2                      False      False                             Loss  \n3                      False      False                              Win  \n4                      False      False                             Loss  \n...                      ...        ...                              ...  \n17877                   True      False                              Win  \n17878                   True      False                              Win  \n17879                   True      False                              Win  \n17880                   True      False                             Loss  \n17881                   True      False                              Win  \n\n[17882 rows x 185 columns]",
      "text/html": "<div>\n<style scoped>\n    .dataframe tbody tr th:only-of-type {\n        vertical-align: middle;\n    }\n\n    .dataframe tbody tr th {\n        vertical-align: top;\n    }\n\n    .dataframe thead th {\n        text-align: right;\n    }\n</style>\n<table border=\"1\" class=\"dataframe\">\n  <thead>\n    <tr style=\"text-align: right;\">\n      <th></th>\n      <th>Selection 1 - ProgressiveHistory</th>\n      <th>Selection 1 - Random</th>\n      <th>Selection 1 - UCB1</th>\n      <th>Selection 1 - UCB1GRAVE</th>\n      <th>Selection 1 - UCB1Tuned</th>\n      <th>Selection 2 - ProgressiveHistory</th>\n      <th>Selection 2 - Random</th>\n      <th>Selection 2 - UCB1</th>\n      <th>Selection 2 - UCB1GRAVE</th>\n      <th>Selection 2 - UCB1Tuned</th>\n      <th>...</th>\n      <th>CrossBoard</th>\n      <th>KintsBoard</th>\n      <th>PachisiBoard</th>\n      <th>FortyStonesWithFourGapsBoard</th>\n      <th>DiceD2</th>\n      <th>DiceD4</th>\n      <th>DiceD6</th>\n      <th>PlayersWithDirections</th>\n      <th>IsPieceAt</th>\n      <th>Most common outcome for Agent 1</th>\n    </tr>\n  </thead>\n  <tbody>\n    <tr>\n      <th>0</th>\n      <td>False</td>\n      <td>False</td>\n      <td>True</td>\n      <td>False</td>\n      <td>False</td>\n      <td>False</td>\n      <td>True</td>\n      <td>False</td>\n      <td>False</td>\n      <td>False</td>\n      <td>...</td>\n      <td>False</td>\n      <td>False</td>\n      <td>False</td>\n      <td>False</td>\n      <td>False</td>\n      <td>False</td>\n      <td>False</td>\n      <td>False</td>\n      <td>False</td>\n      <td>Win</td>\n    </tr>\n    <tr>\n      <th>1</th>\n      <td>False</td>\n      <td>True</td>\n      <td>False</td>\n      <td>False</td>\n      <td>False</td>\n      <td>False</td>\n      <td>False</td>\n      <td>True</td>\n      <td>False</td>\n      <td>False</td>\n      <td>...</td>\n      <td>False</td>\n      <td>False</td>\n      <td>False</td>\n      <td>False</td>\n      <td>False</td>\n      <td>False</td>\n      <td>False</td>\n      <td>False</td>\n      <td>False</td>\n      <td>Win</td>\n    </tr>\n    <tr>\n      <th>2</th>\n      <td>False</td>\n      <td>True</td>\n      <td>False</td>\n      <td>False</td>\n      <td>False</td>\n      <td>False</td>\n      <td>False</td>\n      <td>True</td>\n      <td>False</td>\n      <td>False</td>\n      <td>...</td>\n      <td>False</td>\n      <td>False</td>\n      <td>False</td>\n      <td>False</td>\n      <td>False</td>\n      <td>False</td>\n      <td>False</td>\n      <td>False</td>\n      <td>False</td>\n      <td>Loss</td>\n    </tr>\n    <tr>\n      <th>3</th>\n      <td>False</td>\n      <td>False</td>\n      <td>True</td>\n      <td>False</td>\n      <td>False</td>\n      <td>False</td>\n      <td>True</td>\n      <td>False</td>\n      <td>False</td>\n      <td>False</td>\n      <td>...</td>\n      <td>False</td>\n      <td>False</td>\n      <td>False</td>\n      <td>False</td>\n      <td>False</td>\n      <td>False</td>\n      <td>False</td>\n      <td>False</td>\n      <td>False</td>\n      <td>Win</td>\n    </tr>\n    <tr>\n      <th>4</th>\n      <td>False</td>\n      <td>True</td>\n      <td>False</td>\n      <td>False</td>\n      <td>False</td>\n      <td>False</td>\n      <td>False</td>\n      <td>False</td>\n      <td>True</td>\n      <td>False</td>\n      <td>...</td>\n      <td>False</td>\n      <td>False</td>\n      <td>False</td>\n      <td>False</td>\n      <td>False</td>\n      <td>False</td>\n      <td>False</td>\n      <td>False</td>\n      <td>False</td>\n      <td>Loss</td>\n    </tr>\n    <tr>\n      <th>...</th>\n      <td>...</td>\n      <td>...</td>\n      <td>...</td>\n      <td>...</td>\n      <td>...</td>\n      <td>...</td>\n      <td>...</td>\n      <td>...</td>\n      <td>...</td>\n      <td>...</td>\n      <td>...</td>\n      <td>...</td>\n      <td>...</td>\n      <td>...</td>\n      <td>...</td>\n      <td>...</td>\n      <td>...</td>\n      <td>...</td>\n      <td>...</td>\n      <td>...</td>\n      <td>...</td>\n    </tr>\n    <tr>\n      <th>17877</th>\n      <td>False</td>\n      <td>False</td>\n      <td>True</td>\n      <td>False</td>\n      <td>False</td>\n      <td>False</td>\n      <td>True</td>\n      <td>False</td>\n      <td>False</td>\n      <td>False</td>\n      <td>...</td>\n      <td>False</td>\n      <td>False</td>\n      <td>False</td>\n      <td>False</td>\n      <td>False</td>\n      <td>False</td>\n      <td>False</td>\n      <td>True</td>\n      <td>False</td>\n      <td>Win</td>\n    </tr>\n    <tr>\n      <th>17878</th>\n      <td>False</td>\n      <td>False</td>\n      <td>True</td>\n      <td>False</td>\n      <td>False</td>\n      <td>False</td>\n      <td>False</td>\n      <td>True</td>\n      <td>False</td>\n      <td>False</td>\n      <td>...</td>\n      <td>False</td>\n      <td>False</td>\n      <td>False</td>\n      <td>False</td>\n      <td>False</td>\n      <td>False</td>\n      <td>False</td>\n      <td>True</td>\n      <td>False</td>\n      <td>Win</td>\n    </tr>\n    <tr>\n      <th>17879</th>\n      <td>False</td>\n      <td>False</td>\n      <td>True</td>\n      <td>False</td>\n      <td>False</td>\n      <td>False</td>\n      <td>False</td>\n      <td>True</td>\n      <td>False</td>\n      <td>False</td>\n      <td>...</td>\n      <td>False</td>\n      <td>False</td>\n      <td>False</td>\n      <td>False</td>\n      <td>False</td>\n      <td>False</td>\n      <td>False</td>\n      <td>True</td>\n      <td>False</td>\n      <td>Win</td>\n    </tr>\n    <tr>\n      <th>17880</th>\n      <td>False</td>\n      <td>True</td>\n      <td>False</td>\n      <td>False</td>\n      <td>False</td>\n      <td>False</td>\n      <td>False</td>\n      <td>False</td>\n      <td>True</td>\n      <td>False</td>\n      <td>...</td>\n      <td>False</td>\n      <td>False</td>\n      <td>False</td>\n      <td>False</td>\n      <td>False</td>\n      <td>False</td>\n      <td>False</td>\n      <td>True</td>\n      <td>False</td>\n      <td>Loss</td>\n    </tr>\n    <tr>\n      <th>17881</th>\n      <td>False</td>\n      <td>False</td>\n      <td>False</td>\n      <td>True</td>\n      <td>False</td>\n      <td>False</td>\n      <td>True</td>\n      <td>False</td>\n      <td>False</td>\n      <td>False</td>\n      <td>...</td>\n      <td>False</td>\n      <td>False</td>\n      <td>False</td>\n      <td>False</td>\n      <td>False</td>\n      <td>False</td>\n      <td>False</td>\n      <td>True</td>\n      <td>False</td>\n      <td>Win</td>\n    </tr>\n  </tbody>\n</table>\n<p>17882 rows × 185 columns</p>\n</div>"
     },
     "execution_count": 2,
     "metadata": {},
     "output_type": "execute_result"
    }
   ],
   "source": [
    "data"
   ],
   "metadata": {
    "collapsed": false,
    "ExecuteTime": {
     "end_time": "2024-01-22T11:44:43.174343600Z",
     "start_time": "2024-01-22T11:44:43.141372900Z"
    }
   },
   "id": "8c0c4b6774067ee3",
   "execution_count": 2
  },
  {
   "cell_type": "code",
   "outputs": [
    {
     "data": {
      "text/plain": "array([0.61284247, 0.61284247, 0.61284247, ..., 0.9875    , 0.9875    ,\n       0.9875    ])"
     },
     "execution_count": 3,
     "metadata": {},
     "output_type": "execute_result"
    }
   ],
   "source": [
    "weights"
   ],
   "metadata": {
    "collapsed": false,
    "ExecuteTime": {
     "end_time": "2024-01-22T11:44:43.175353500Z",
     "start_time": "2024-01-22T11:44:43.163833100Z"
    }
   },
   "id": "9eda6e93965757f1",
   "execution_count": 3
  },
  {
   "cell_type": "code",
   "execution_count": 4,
   "outputs": [
    {
     "data": {
      "text/plain": "array(['37', '37', '37', ..., '456', '456', '456'], dtype='<U21')"
     },
     "execution_count": 4,
     "metadata": {},
     "output_type": "execute_result"
    }
   ],
   "source": [
    "rulesetIds"
   ],
   "metadata": {
    "collapsed": false,
    "ExecuteTime": {
     "end_time": "2024-01-22T11:44:43.223351300Z",
     "start_time": "2024-01-22T11:44:43.171572900Z"
    }
   },
   "id": "9e719c2f9e686cd2"
  },
  {
   "cell_type": "code",
   "outputs": [
    {
     "name": "stdout",
     "output_type": "stream",
     "text": [
      "Progress: 10/1017; Time elapsed (s): 4.73; Estimated time left (s): 475.97\n",
      "Progress: 20/1017; Time elapsed (s): 9.15; Estimated time left (s): 455.94\n",
      "Progress: 30/1017; Time elapsed (s): 13.19; Estimated time left (s): 433.88\n",
      "Progress: 40/1017; Time elapsed (s): 17.20; Estimated time left (s): 420.04\n",
      "Progress: 50/1017; Time elapsed (s): 21.17; Estimated time left (s): 409.48\n",
      "Progress: 60/1017; Time elapsed (s): 25.19; Estimated time left (s): 401.82\n",
      "Progress: 70/1017; Time elapsed (s): 29.41; Estimated time left (s): 397.92\n",
      "Progress: 80/1017; Time elapsed (s): 33.53; Estimated time left (s): 392.72\n",
      "Progress: 90/1017; Time elapsed (s): 37.89; Estimated time left (s): 390.29\n",
      "Progress: 100/1017; Time elapsed (s): 42.28; Estimated time left (s): 387.66\n",
      "Progress: 110/1017; Time elapsed (s): 46.38; Estimated time left (s): 382.43\n",
      "Progress: 120/1017; Time elapsed (s): 50.45; Estimated time left (s): 377.13\n",
      "Progress: 130/1017; Time elapsed (s): 54.60; Estimated time left (s): 372.52\n",
      "Progress: 140/1017; Time elapsed (s): 58.71; Estimated time left (s): 367.78\n",
      "Progress: 150/1017; Time elapsed (s): 62.91; Estimated time left (s): 363.62\n",
      "Progress: 160/1017; Time elapsed (s): 67.00; Estimated time left (s): 358.84\n",
      "Progress: 170/1017; Time elapsed (s): 71.04; Estimated time left (s): 353.95\n",
      "Progress: 180/1017; Time elapsed (s): 75.12; Estimated time left (s): 349.29\n",
      "Progress: 190/1017; Time elapsed (s): 79.19; Estimated time left (s): 344.67\n",
      "Progress: 200/1017; Time elapsed (s): 83.16; Estimated time left (s): 339.72\n",
      "Progress: 210/1017; Time elapsed (s): 87.19; Estimated time left (s): 335.06\n",
      "Progress: 220/1017; Time elapsed (s): 91.20; Estimated time left (s): 330.40\n",
      "Progress: 230/1017; Time elapsed (s): 95.25; Estimated time left (s): 325.92\n",
      "Progress: 240/1017; Time elapsed (s): 99.17; Estimated time left (s): 321.05\n",
      "Progress: 250/1017; Time elapsed (s): 103.17; Estimated time left (s): 316.53\n",
      "Progress: 260/1017; Time elapsed (s): 107.26; Estimated time left (s): 312.30\n",
      "Progress: 270/1017; Time elapsed (s): 111.26; Estimated time left (s): 307.81\n",
      "Progress: 280/1017; Time elapsed (s): 115.25; Estimated time left (s): 303.36\n",
      "Progress: 290/1017; Time elapsed (s): 119.29; Estimated time left (s): 299.06\n",
      "Progress: 300/1017; Time elapsed (s): 123.89; Estimated time left (s): 296.10\n",
      "Progress: 310/1017; Time elapsed (s): 128.48; Estimated time left (s): 293.02\n",
      "Progress: 320/1017; Time elapsed (s): 132.69; Estimated time left (s): 289.00\n",
      "Progress: 330/1017; Time elapsed (s): 137.14; Estimated time left (s): 285.49\n",
      "Progress: 340/1017; Time elapsed (s): 141.31; Estimated time left (s): 281.38\n",
      "Progress: 350/1017; Time elapsed (s): 145.69; Estimated time left (s): 277.64\n",
      "Progress: 360/1017; Time elapsed (s): 149.97; Estimated time left (s): 273.69\n",
      "Progress: 370/1017; Time elapsed (s): 154.04; Estimated time left (s): 269.36\n",
      "Progress: 380/1017; Time elapsed (s): 158.08; Estimated time left (s): 265.00\n",
      "Progress: 390/1017; Time elapsed (s): 162.15; Estimated time left (s): 260.69\n",
      "Progress: 400/1017; Time elapsed (s): 166.20; Estimated time left (s): 256.37\n",
      "Progress: 410/1017; Time elapsed (s): 170.25; Estimated time left (s): 252.05\n",
      "Progress: 420/1017; Time elapsed (s): 174.29; Estimated time left (s): 247.74\n",
      "Progress: 430/1017; Time elapsed (s): 178.33; Estimated time left (s): 243.44\n",
      "Progress: 440/1017; Time elapsed (s): 182.38; Estimated time left (s): 239.17\n",
      "Progress: 450/1017; Time elapsed (s): 186.44; Estimated time left (s): 234.91\n",
      "Progress: 460/1017; Time elapsed (s): 190.48; Estimated time left (s): 230.64\n",
      "Progress: 470/1017; Time elapsed (s): 194.54; Estimated time left (s): 226.41\n",
      "Progress: 480/1017; Time elapsed (s): 198.59; Estimated time left (s): 222.18\n",
      "Progress: 490/1017; Time elapsed (s): 202.65; Estimated time left (s): 217.95\n",
      "Progress: 500/1017; Time elapsed (s): 207.58; Estimated time left (s): 214.64\n",
      "Progress: 510/1017; Time elapsed (s): 212.80; Estimated time left (s): 211.55\n",
      "Progress: 520/1017; Time elapsed (s): 217.84; Estimated time left (s): 208.21\n",
      "Progress: 530/1017; Time elapsed (s): 223.00; Estimated time left (s): 204.91\n",
      "Progress: 540/1017; Time elapsed (s): 213.10; Estimated time left (s): 188.24\n",
      "Progress: 550/1017; Time elapsed (s): 217.41; Estimated time left (s): 184.60\n",
      "Progress: 560/1017; Time elapsed (s): 221.66; Estimated time left (s): 180.89\n",
      "Progress: 570/1017; Time elapsed (s): 225.95; Estimated time left (s): 177.20\n",
      "Progress: 580/1017; Time elapsed (s): 230.34; Estimated time left (s): 173.55\n",
      "Progress: 590/1017; Time elapsed (s): 234.74; Estimated time left (s): 169.89\n",
      "Progress: 600/1017; Time elapsed (s): 239.08; Estimated time left (s): 166.16\n",
      "Progress: 610/1017; Time elapsed (s): 243.44; Estimated time left (s): 162.43\n",
      "Progress: 620/1017; Time elapsed (s): 247.70; Estimated time left (s): 158.61\n",
      "Progress: 630/1017; Time elapsed (s): 252.10; Estimated time left (s): 154.86\n",
      "Progress: 640/1017; Time elapsed (s): 256.50; Estimated time left (s): 151.09\n",
      "Progress: 650/1017; Time elapsed (s): 260.84; Estimated time left (s): 147.27\n",
      "Progress: 660/1017; Time elapsed (s): 265.17; Estimated time left (s): 143.43\n",
      "Progress: 670/1017; Time elapsed (s): 269.50; Estimated time left (s): 139.58\n",
      "Progress: 680/1017; Time elapsed (s): 273.85; Estimated time left (s): 135.72\n",
      "Progress: 690/1017; Time elapsed (s): 278.16; Estimated time left (s): 131.82\n",
      "Progress: 700/1017; Time elapsed (s): 282.50; Estimated time left (s): 127.93\n",
      "Progress: 710/1017; Time elapsed (s): 286.83; Estimated time left (s): 124.02\n",
      "Progress: 720/1017; Time elapsed (s): 291.09; Estimated time left (s): 120.08\n",
      "Progress: 730/1017; Time elapsed (s): 295.36; Estimated time left (s): 116.12\n",
      "Progress: 740/1017; Time elapsed (s): 299.69; Estimated time left (s): 112.18\n",
      "Progress: 750/1017; Time elapsed (s): 303.98; Estimated time left (s): 108.22\n",
      "Progress: 760/1017; Time elapsed (s): 308.32; Estimated time left (s): 104.26\n",
      "Progress: 770/1017; Time elapsed (s): 312.64; Estimated time left (s): 100.29\n",
      "Progress: 780/1017; Time elapsed (s): 316.90; Estimated time left (s): 96.29\n",
      "Progress: 790/1017; Time elapsed (s): 321.18; Estimated time left (s): 92.29\n",
      "Progress: 800/1017; Time elapsed (s): 325.42; Estimated time left (s): 88.27\n",
      "Progress: 810/1017; Time elapsed (s): 329.84; Estimated time left (s): 84.29\n",
      "Progress: 820/1017; Time elapsed (s): 334.21; Estimated time left (s): 80.29\n",
      "Progress: 830/1017; Time elapsed (s): 338.58; Estimated time left (s): 76.28\n",
      "Progress: 840/1017; Time elapsed (s): 343.03; Estimated time left (s): 72.28\n",
      "Progress: 850/1017; Time elapsed (s): 347.40; Estimated time left (s): 68.25\n",
      "Progress: 860/1017; Time elapsed (s): 351.79; Estimated time left (s): 64.22\n",
      "Progress: 870/1017; Time elapsed (s): 356.15; Estimated time left (s): 60.18\n",
      "Progress: 880/1017; Time elapsed (s): 360.59; Estimated time left (s): 56.14\n",
      "Progress: 890/1017; Time elapsed (s): 365.06; Estimated time left (s): 52.09\n",
      "Progress: 900/1017; Time elapsed (s): 369.51; Estimated time left (s): 48.04\n",
      "Progress: 910/1017; Time elapsed (s): 373.96; Estimated time left (s): 43.97\n",
      "Progress: 920/1017; Time elapsed (s): 378.37; Estimated time left (s): 39.89\n",
      "Progress: 930/1017; Time elapsed (s): 382.86; Estimated time left (s): 35.82\n",
      "Progress: 940/1017; Time elapsed (s): 387.30; Estimated time left (s): 31.73\n",
      "Progress: 950/1017; Time elapsed (s): 391.87; Estimated time left (s): 27.64\n",
      "Progress: 960/1017; Time elapsed (s): 396.40; Estimated time left (s): 23.54\n",
      "Progress: 970/1017; Time elapsed (s): 401.00; Estimated time left (s): 19.43\n",
      "Progress: 980/1017; Time elapsed (s): 405.51; Estimated time left (s): 15.31\n",
      "Progress: 990/1017; Time elapsed (s): 410.01; Estimated time left (s): 11.18\n",
      "Progress: 1000/1017; Time elapsed (s): 414.53; Estimated time left (s): 7.05\n",
      "Progress: 1010/1017; Time elapsed (s): 419.06; Estimated time left (s): 2.90\n",
      "Progress: done\n"
     ]
    },
    {
     "ename": "ValueError",
     "evalue": "Target is multiclass but average='binary'. Please choose another average setting, one of [None, 'micro', 'macro', 'weighted'].",
     "output_type": "error",
     "traceback": [
      "\u001B[1;31m---------------------------------------------------------------------------\u001B[0m",
      "\u001B[1;31mValueError\u001B[0m                                Traceback (most recent call last)",
      "Cell \u001B[1;32mIn[5], line 63\u001B[0m\n\u001B[0;32m     42\u001B[0m \u001B[38;5;66;03m# for i in range(X.shape[0]):\u001B[39;00m\n\u001B[0;32m     43\u001B[0m \u001B[38;5;66;03m#     # Train/test split\u001B[39;00m\n\u001B[0;32m     44\u001B[0m \u001B[38;5;66;03m#     X_train = X.drop(index=[i])\u001B[39;00m\n\u001B[1;32m   (...)\u001B[0m\n\u001B[0;32m     58\u001B[0m \u001B[38;5;66;03m#         avgTimePerInstance = elapsedTime / (i + 1)\u001B[39;00m\n\u001B[0;32m     59\u001B[0m \u001B[38;5;66;03m#         print(f\"Progress: {i + 1}/{X.shape[0]}; Time elapsed (s): {elapsedTime:.2f}; Estimated time left (s): {(X.shape[0] - (i + 1)) * avgTimePerInstance:.2f}\")\u001B[39;00m\n\u001B[0;32m     61\u001B[0m \u001B[38;5;28mprint\u001B[39m(\u001B[38;5;124m\"\u001B[39m\u001B[38;5;124mProgress: done\u001B[39m\u001B[38;5;124m\"\u001B[39m)\n\u001B[1;32m---> 63\u001B[0m \u001B[38;5;28mprint\u001B[39m(\u001B[38;5;124mf\u001B[39m\u001B[38;5;124m\"\u001B[39m\u001B[38;5;124mF1-score: \u001B[39m\u001B[38;5;132;01m{\u001B[39;00m\u001B[43mf1_score\u001B[49m\u001B[43m(\u001B[49m\u001B[43my_true\u001B[49m\u001B[38;5;241;43m=\u001B[39;49m\u001B[43my_true\u001B[49m\u001B[43m,\u001B[49m\u001B[38;5;250;43m \u001B[39;49m\u001B[43my_pred\u001B[49m\u001B[38;5;241;43m=\u001B[39;49m\u001B[43my_pred\u001B[49m\u001B[43m)\u001B[49m\u001B[38;5;132;01m}\u001B[39;00m\u001B[38;5;124m\"\u001B[39m)\n",
      "File \u001B[1;32m~\\AppData\\Local\\Programs\\Python\\Python311\\Lib\\site-packages\\sklearn\\utils\\_param_validation.py:213\u001B[0m, in \u001B[0;36mvalidate_params.<locals>.decorator.<locals>.wrapper\u001B[1;34m(*args, **kwargs)\u001B[0m\n\u001B[0;32m    207\u001B[0m \u001B[38;5;28;01mtry\u001B[39;00m:\n\u001B[0;32m    208\u001B[0m     \u001B[38;5;28;01mwith\u001B[39;00m config_context(\n\u001B[0;32m    209\u001B[0m         skip_parameter_validation\u001B[38;5;241m=\u001B[39m(\n\u001B[0;32m    210\u001B[0m             prefer_skip_nested_validation \u001B[38;5;129;01mor\u001B[39;00m global_skip_validation\n\u001B[0;32m    211\u001B[0m         )\n\u001B[0;32m    212\u001B[0m     ):\n\u001B[1;32m--> 213\u001B[0m         \u001B[38;5;28;01mreturn\u001B[39;00m \u001B[43mfunc\u001B[49m\u001B[43m(\u001B[49m\u001B[38;5;241;43m*\u001B[39;49m\u001B[43margs\u001B[49m\u001B[43m,\u001B[49m\u001B[43m \u001B[49m\u001B[38;5;241;43m*\u001B[39;49m\u001B[38;5;241;43m*\u001B[39;49m\u001B[43mkwargs\u001B[49m\u001B[43m)\u001B[49m\n\u001B[0;32m    214\u001B[0m \u001B[38;5;28;01mexcept\u001B[39;00m InvalidParameterError \u001B[38;5;28;01mas\u001B[39;00m e:\n\u001B[0;32m    215\u001B[0m     \u001B[38;5;66;03m# When the function is just a wrapper around an estimator, we allow\u001B[39;00m\n\u001B[0;32m    216\u001B[0m     \u001B[38;5;66;03m# the function to delegate validation to the estimator, but we replace\u001B[39;00m\n\u001B[0;32m    217\u001B[0m     \u001B[38;5;66;03m# the name of the estimator by the name of the function in the error\u001B[39;00m\n\u001B[0;32m    218\u001B[0m     \u001B[38;5;66;03m# message to avoid confusion.\u001B[39;00m\n\u001B[0;32m    219\u001B[0m     msg \u001B[38;5;241m=\u001B[39m re\u001B[38;5;241m.\u001B[39msub(\n\u001B[0;32m    220\u001B[0m         \u001B[38;5;124mr\u001B[39m\u001B[38;5;124m\"\u001B[39m\u001B[38;5;124mparameter of \u001B[39m\u001B[38;5;124m\\\u001B[39m\u001B[38;5;124mw+ must be\u001B[39m\u001B[38;5;124m\"\u001B[39m,\n\u001B[0;32m    221\u001B[0m         \u001B[38;5;124mf\u001B[39m\u001B[38;5;124m\"\u001B[39m\u001B[38;5;124mparameter of \u001B[39m\u001B[38;5;132;01m{\u001B[39;00mfunc\u001B[38;5;241m.\u001B[39m\u001B[38;5;18m__qualname__\u001B[39m\u001B[38;5;132;01m}\u001B[39;00m\u001B[38;5;124m must be\u001B[39m\u001B[38;5;124m\"\u001B[39m,\n\u001B[0;32m    222\u001B[0m         \u001B[38;5;28mstr\u001B[39m(e),\n\u001B[0;32m    223\u001B[0m     )\n",
      "File \u001B[1;32m~\\AppData\\Local\\Programs\\Python\\Python311\\Lib\\site-packages\\sklearn\\metrics\\_classification.py:1269\u001B[0m, in \u001B[0;36mf1_score\u001B[1;34m(y_true, y_pred, labels, pos_label, average, sample_weight, zero_division)\u001B[0m\n\u001B[0;32m   1091\u001B[0m \u001B[38;5;129m@validate_params\u001B[39m(\n\u001B[0;32m   1092\u001B[0m     {\n\u001B[0;32m   1093\u001B[0m         \u001B[38;5;124m\"\u001B[39m\u001B[38;5;124my_true\u001B[39m\u001B[38;5;124m\"\u001B[39m: [\u001B[38;5;124m\"\u001B[39m\u001B[38;5;124marray-like\u001B[39m\u001B[38;5;124m\"\u001B[39m, \u001B[38;5;124m\"\u001B[39m\u001B[38;5;124msparse matrix\u001B[39m\u001B[38;5;124m\"\u001B[39m],\n\u001B[1;32m   (...)\u001B[0m\n\u001B[0;32m   1118\u001B[0m     zero_division\u001B[38;5;241m=\u001B[39m\u001B[38;5;124m\"\u001B[39m\u001B[38;5;124mwarn\u001B[39m\u001B[38;5;124m\"\u001B[39m,\n\u001B[0;32m   1119\u001B[0m ):\n\u001B[0;32m   1120\u001B[0m \u001B[38;5;250m    \u001B[39m\u001B[38;5;124;03m\"\"\"Compute the F1 score, also known as balanced F-score or F-measure.\u001B[39;00m\n\u001B[0;32m   1121\u001B[0m \n\u001B[0;32m   1122\u001B[0m \u001B[38;5;124;03m    The F1 score can be interpreted as a harmonic mean of the precision and\u001B[39;00m\n\u001B[1;32m   (...)\u001B[0m\n\u001B[0;32m   1267\u001B[0m \u001B[38;5;124;03m    array([0.66666667, 1.        , 0.66666667])\u001B[39;00m\n\u001B[0;32m   1268\u001B[0m \u001B[38;5;124;03m    \"\"\"\u001B[39;00m\n\u001B[1;32m-> 1269\u001B[0m     \u001B[38;5;28;01mreturn\u001B[39;00m \u001B[43mfbeta_score\u001B[49m\u001B[43m(\u001B[49m\n\u001B[0;32m   1270\u001B[0m \u001B[43m        \u001B[49m\u001B[43my_true\u001B[49m\u001B[43m,\u001B[49m\n\u001B[0;32m   1271\u001B[0m \u001B[43m        \u001B[49m\u001B[43my_pred\u001B[49m\u001B[43m,\u001B[49m\n\u001B[0;32m   1272\u001B[0m \u001B[43m        \u001B[49m\u001B[43mbeta\u001B[49m\u001B[38;5;241;43m=\u001B[39;49m\u001B[38;5;241;43m1\u001B[39;49m\u001B[43m,\u001B[49m\n\u001B[0;32m   1273\u001B[0m \u001B[43m        \u001B[49m\u001B[43mlabels\u001B[49m\u001B[38;5;241;43m=\u001B[39;49m\u001B[43mlabels\u001B[49m\u001B[43m,\u001B[49m\n\u001B[0;32m   1274\u001B[0m \u001B[43m        \u001B[49m\u001B[43mpos_label\u001B[49m\u001B[38;5;241;43m=\u001B[39;49m\u001B[43mpos_label\u001B[49m\u001B[43m,\u001B[49m\n\u001B[0;32m   1275\u001B[0m \u001B[43m        \u001B[49m\u001B[43maverage\u001B[49m\u001B[38;5;241;43m=\u001B[39;49m\u001B[43maverage\u001B[49m\u001B[43m,\u001B[49m\n\u001B[0;32m   1276\u001B[0m \u001B[43m        \u001B[49m\u001B[43msample_weight\u001B[49m\u001B[38;5;241;43m=\u001B[39;49m\u001B[43msample_weight\u001B[49m\u001B[43m,\u001B[49m\n\u001B[0;32m   1277\u001B[0m \u001B[43m        \u001B[49m\u001B[43mzero_division\u001B[49m\u001B[38;5;241;43m=\u001B[39;49m\u001B[43mzero_division\u001B[49m\u001B[43m,\u001B[49m\n\u001B[0;32m   1278\u001B[0m \u001B[43m    \u001B[49m\u001B[43m)\u001B[49m\n",
      "File \u001B[1;32m~\\AppData\\Local\\Programs\\Python\\Python311\\Lib\\site-packages\\sklearn\\utils\\_param_validation.py:186\u001B[0m, in \u001B[0;36mvalidate_params.<locals>.decorator.<locals>.wrapper\u001B[1;34m(*args, **kwargs)\u001B[0m\n\u001B[0;32m    184\u001B[0m global_skip_validation \u001B[38;5;241m=\u001B[39m get_config()[\u001B[38;5;124m\"\u001B[39m\u001B[38;5;124mskip_parameter_validation\u001B[39m\u001B[38;5;124m\"\u001B[39m]\n\u001B[0;32m    185\u001B[0m \u001B[38;5;28;01mif\u001B[39;00m global_skip_validation:\n\u001B[1;32m--> 186\u001B[0m     \u001B[38;5;28;01mreturn\u001B[39;00m \u001B[43mfunc\u001B[49m\u001B[43m(\u001B[49m\u001B[38;5;241;43m*\u001B[39;49m\u001B[43margs\u001B[49m\u001B[43m,\u001B[49m\u001B[43m \u001B[49m\u001B[38;5;241;43m*\u001B[39;49m\u001B[38;5;241;43m*\u001B[39;49m\u001B[43mkwargs\u001B[49m\u001B[43m)\u001B[49m\n\u001B[0;32m    188\u001B[0m func_sig \u001B[38;5;241m=\u001B[39m signature(func)\n\u001B[0;32m    190\u001B[0m \u001B[38;5;66;03m# Map *args/**kwargs to the function signature\u001B[39;00m\n",
      "File \u001B[1;32m~\\AppData\\Local\\Programs\\Python\\Python311\\Lib\\site-packages\\sklearn\\metrics\\_classification.py:1451\u001B[0m, in \u001B[0;36mfbeta_score\u001B[1;34m(y_true, y_pred, beta, labels, pos_label, average, sample_weight, zero_division)\u001B[0m\n\u001B[0;32m   1281\u001B[0m \u001B[38;5;129m@validate_params\u001B[39m(\n\u001B[0;32m   1282\u001B[0m     {\n\u001B[0;32m   1283\u001B[0m         \u001B[38;5;124m\"\u001B[39m\u001B[38;5;124my_true\u001B[39m\u001B[38;5;124m\"\u001B[39m: [\u001B[38;5;124m\"\u001B[39m\u001B[38;5;124marray-like\u001B[39m\u001B[38;5;124m\"\u001B[39m, \u001B[38;5;124m\"\u001B[39m\u001B[38;5;124msparse matrix\u001B[39m\u001B[38;5;124m\"\u001B[39m],\n\u001B[1;32m   (...)\u001B[0m\n\u001B[0;32m   1310\u001B[0m     zero_division\u001B[38;5;241m=\u001B[39m\u001B[38;5;124m\"\u001B[39m\u001B[38;5;124mwarn\u001B[39m\u001B[38;5;124m\"\u001B[39m,\n\u001B[0;32m   1311\u001B[0m ):\n\u001B[0;32m   1312\u001B[0m \u001B[38;5;250m    \u001B[39m\u001B[38;5;124;03m\"\"\"Compute the F-beta score.\u001B[39;00m\n\u001B[0;32m   1313\u001B[0m \n\u001B[0;32m   1314\u001B[0m \u001B[38;5;124;03m    The F-beta score is the weighted harmonic mean of precision and recall,\u001B[39;00m\n\u001B[1;32m   (...)\u001B[0m\n\u001B[0;32m   1448\u001B[0m \u001B[38;5;124;03m    0.12...\u001B[39;00m\n\u001B[0;32m   1449\u001B[0m \u001B[38;5;124;03m    \"\"\"\u001B[39;00m\n\u001B[1;32m-> 1451\u001B[0m     _, _, f, _ \u001B[38;5;241m=\u001B[39m \u001B[43mprecision_recall_fscore_support\u001B[49m\u001B[43m(\u001B[49m\n\u001B[0;32m   1452\u001B[0m \u001B[43m        \u001B[49m\u001B[43my_true\u001B[49m\u001B[43m,\u001B[49m\n\u001B[0;32m   1453\u001B[0m \u001B[43m        \u001B[49m\u001B[43my_pred\u001B[49m\u001B[43m,\u001B[49m\n\u001B[0;32m   1454\u001B[0m \u001B[43m        \u001B[49m\u001B[43mbeta\u001B[49m\u001B[38;5;241;43m=\u001B[39;49m\u001B[43mbeta\u001B[49m\u001B[43m,\u001B[49m\n\u001B[0;32m   1455\u001B[0m \u001B[43m        \u001B[49m\u001B[43mlabels\u001B[49m\u001B[38;5;241;43m=\u001B[39;49m\u001B[43mlabels\u001B[49m\u001B[43m,\u001B[49m\n\u001B[0;32m   1456\u001B[0m \u001B[43m        \u001B[49m\u001B[43mpos_label\u001B[49m\u001B[38;5;241;43m=\u001B[39;49m\u001B[43mpos_label\u001B[49m\u001B[43m,\u001B[49m\n\u001B[0;32m   1457\u001B[0m \u001B[43m        \u001B[49m\u001B[43maverage\u001B[49m\u001B[38;5;241;43m=\u001B[39;49m\u001B[43maverage\u001B[49m\u001B[43m,\u001B[49m\n\u001B[0;32m   1458\u001B[0m \u001B[43m        \u001B[49m\u001B[43mwarn_for\u001B[49m\u001B[38;5;241;43m=\u001B[39;49m\u001B[43m(\u001B[49m\u001B[38;5;124;43m\"\u001B[39;49m\u001B[38;5;124;43mf-score\u001B[39;49m\u001B[38;5;124;43m\"\u001B[39;49m\u001B[43m,\u001B[49m\u001B[43m)\u001B[49m\u001B[43m,\u001B[49m\n\u001B[0;32m   1459\u001B[0m \u001B[43m        \u001B[49m\u001B[43msample_weight\u001B[49m\u001B[38;5;241;43m=\u001B[39;49m\u001B[43msample_weight\u001B[49m\u001B[43m,\u001B[49m\n\u001B[0;32m   1460\u001B[0m \u001B[43m        \u001B[49m\u001B[43mzero_division\u001B[49m\u001B[38;5;241;43m=\u001B[39;49m\u001B[43mzero_division\u001B[49m\u001B[43m,\u001B[49m\n\u001B[0;32m   1461\u001B[0m \u001B[43m    \u001B[49m\u001B[43m)\u001B[49m\n\u001B[0;32m   1462\u001B[0m     \u001B[38;5;28;01mreturn\u001B[39;00m f\n",
      "File \u001B[1;32m~\\AppData\\Local\\Programs\\Python\\Python311\\Lib\\site-packages\\sklearn\\utils\\_param_validation.py:186\u001B[0m, in \u001B[0;36mvalidate_params.<locals>.decorator.<locals>.wrapper\u001B[1;34m(*args, **kwargs)\u001B[0m\n\u001B[0;32m    184\u001B[0m global_skip_validation \u001B[38;5;241m=\u001B[39m get_config()[\u001B[38;5;124m\"\u001B[39m\u001B[38;5;124mskip_parameter_validation\u001B[39m\u001B[38;5;124m\"\u001B[39m]\n\u001B[0;32m    185\u001B[0m \u001B[38;5;28;01mif\u001B[39;00m global_skip_validation:\n\u001B[1;32m--> 186\u001B[0m     \u001B[38;5;28;01mreturn\u001B[39;00m \u001B[43mfunc\u001B[49m\u001B[43m(\u001B[49m\u001B[38;5;241;43m*\u001B[39;49m\u001B[43margs\u001B[49m\u001B[43m,\u001B[49m\u001B[43m \u001B[49m\u001B[38;5;241;43m*\u001B[39;49m\u001B[38;5;241;43m*\u001B[39;49m\u001B[43mkwargs\u001B[49m\u001B[43m)\u001B[49m\n\u001B[0;32m    188\u001B[0m func_sig \u001B[38;5;241m=\u001B[39m signature(func)\n\u001B[0;32m    190\u001B[0m \u001B[38;5;66;03m# Map *args/**kwargs to the function signature\u001B[39;00m\n",
      "File \u001B[1;32m~\\AppData\\Local\\Programs\\Python\\Python311\\Lib\\site-packages\\sklearn\\metrics\\_classification.py:1755\u001B[0m, in \u001B[0;36mprecision_recall_fscore_support\u001B[1;34m(y_true, y_pred, beta, labels, pos_label, average, warn_for, sample_weight, zero_division)\u001B[0m\n\u001B[0;32m   1592\u001B[0m \u001B[38;5;250m\u001B[39m\u001B[38;5;124;03m\"\"\"Compute precision, recall, F-measure and support for each class.\u001B[39;00m\n\u001B[0;32m   1593\u001B[0m \n\u001B[0;32m   1594\u001B[0m \u001B[38;5;124;03mThe precision is the ratio ``tp / (tp + fp)`` where ``tp`` is the number of\u001B[39;00m\n\u001B[1;32m   (...)\u001B[0m\n\u001B[0;32m   1752\u001B[0m \u001B[38;5;124;03m array([2, 2, 2]))\u001B[39;00m\n\u001B[0;32m   1753\u001B[0m \u001B[38;5;124;03m\"\"\"\u001B[39;00m\n\u001B[0;32m   1754\u001B[0m _check_zero_division(zero_division)\n\u001B[1;32m-> 1755\u001B[0m labels \u001B[38;5;241m=\u001B[39m \u001B[43m_check_set_wise_labels\u001B[49m\u001B[43m(\u001B[49m\u001B[43my_true\u001B[49m\u001B[43m,\u001B[49m\u001B[43m \u001B[49m\u001B[43my_pred\u001B[49m\u001B[43m,\u001B[49m\u001B[43m \u001B[49m\u001B[43maverage\u001B[49m\u001B[43m,\u001B[49m\u001B[43m \u001B[49m\u001B[43mlabels\u001B[49m\u001B[43m,\u001B[49m\u001B[43m \u001B[49m\u001B[43mpos_label\u001B[49m\u001B[43m)\u001B[49m\n\u001B[0;32m   1757\u001B[0m \u001B[38;5;66;03m# Calculate tp_sum, pred_sum, true_sum ###\u001B[39;00m\n\u001B[0;32m   1758\u001B[0m samplewise \u001B[38;5;241m=\u001B[39m average \u001B[38;5;241m==\u001B[39m \u001B[38;5;124m\"\u001B[39m\u001B[38;5;124msamples\u001B[39m\u001B[38;5;124m\"\u001B[39m\n",
      "File \u001B[1;32m~\\AppData\\Local\\Programs\\Python\\Python311\\Lib\\site-packages\\sklearn\\metrics\\_classification.py:1544\u001B[0m, in \u001B[0;36m_check_set_wise_labels\u001B[1;34m(y_true, y_pred, average, labels, pos_label)\u001B[0m\n\u001B[0;32m   1542\u001B[0m         \u001B[38;5;28;01mif\u001B[39;00m y_type \u001B[38;5;241m==\u001B[39m \u001B[38;5;124m\"\u001B[39m\u001B[38;5;124mmulticlass\u001B[39m\u001B[38;5;124m\"\u001B[39m:\n\u001B[0;32m   1543\u001B[0m             average_options\u001B[38;5;241m.\u001B[39mremove(\u001B[38;5;124m\"\u001B[39m\u001B[38;5;124msamples\u001B[39m\u001B[38;5;124m\"\u001B[39m)\n\u001B[1;32m-> 1544\u001B[0m         \u001B[38;5;28;01mraise\u001B[39;00m \u001B[38;5;167;01mValueError\u001B[39;00m(\n\u001B[0;32m   1545\u001B[0m             \u001B[38;5;124m\"\u001B[39m\u001B[38;5;124mTarget is \u001B[39m\u001B[38;5;132;01m%s\u001B[39;00m\u001B[38;5;124m but average=\u001B[39m\u001B[38;5;124m'\u001B[39m\u001B[38;5;124mbinary\u001B[39m\u001B[38;5;124m'\u001B[39m\u001B[38;5;124m. Please \u001B[39m\u001B[38;5;124m\"\u001B[39m\n\u001B[0;32m   1546\u001B[0m             \u001B[38;5;124m\"\u001B[39m\u001B[38;5;124mchoose another average setting, one of \u001B[39m\u001B[38;5;132;01m%r\u001B[39;00m\u001B[38;5;124m.\u001B[39m\u001B[38;5;124m\"\u001B[39m \u001B[38;5;241m%\u001B[39m (y_type, average_options)\n\u001B[0;32m   1547\u001B[0m         )\n\u001B[0;32m   1548\u001B[0m \u001B[38;5;28;01melif\u001B[39;00m pos_label \u001B[38;5;129;01mnot\u001B[39;00m \u001B[38;5;129;01min\u001B[39;00m (\u001B[38;5;28;01mNone\u001B[39;00m, \u001B[38;5;241m1\u001B[39m):\n\u001B[0;32m   1549\u001B[0m     warnings\u001B[38;5;241m.\u001B[39mwarn(\n\u001B[0;32m   1550\u001B[0m         \u001B[38;5;124m\"\u001B[39m\u001B[38;5;124mNote that pos_label (set to \u001B[39m\u001B[38;5;132;01m%r\u001B[39;00m\u001B[38;5;124m) is ignored when \u001B[39m\u001B[38;5;124m\"\u001B[39m\n\u001B[0;32m   1551\u001B[0m         \u001B[38;5;124m\"\u001B[39m\u001B[38;5;124maverage != \u001B[39m\u001B[38;5;124m'\u001B[39m\u001B[38;5;124mbinary\u001B[39m\u001B[38;5;124m'\u001B[39m\u001B[38;5;124m (got \u001B[39m\u001B[38;5;132;01m%r\u001B[39;00m\u001B[38;5;124m). You may use \u001B[39m\u001B[38;5;124m\"\u001B[39m\n\u001B[1;32m   (...)\u001B[0m\n\u001B[0;32m   1554\u001B[0m         \u001B[38;5;167;01mUserWarning\u001B[39;00m,\n\u001B[0;32m   1555\u001B[0m     )\n",
      "\u001B[1;31mValueError\u001B[0m: Target is multiclass but average='binary'. Please choose another average setting, one of [None, 'micro', 'macro', 'weighted']."
     ]
    }
   ],
   "source": [
    "import time\n",
    "import numpy as np\n",
    "from sklearn.tree import DecisionTreeClassifier\n",
    "from sklearn.metrics import f1_score\n",
    "\n",
    "# Evaluate the model ruleset by ruleset -> assume that the model has not seen the supplied ruleset before\n",
    "\n",
    "# Prepare data\n",
    "X = data.drop(columns=[\"Most common outcome for Agent 1\"])\n",
    "y = data[\"Most common outcome for Agent 1\"]\n",
    "\n",
    "# Custom implementation of Leave-One-Out Cross-Validation\n",
    "y_true = []\n",
    "y_pred = []\n",
    "\n",
    "startTime = time.time()\n",
    "noIterations = 0\n",
    "noRulesets = np.unique(rulesetIds).shape[0]\n",
    "\n",
    "for rulesetId in np.unique(rulesetIds):\n",
    "    # Train/test split\n",
    "    X_train = X[rulesetIds != rulesetId]\n",
    "    y_train = y[rulesetIds != rulesetId]\n",
    "\n",
    "    X_test = X[rulesetIds == rulesetId]\n",
    "    y_test = y[rulesetIds == rulesetId]\n",
    "\n",
    "    # Train classifier\n",
    "    clf = DecisionTreeClassifier().fit(X_train, y_train)\n",
    "\n",
    "    # Predict on the test instance\n",
    "    y_true += list(y_test)\n",
    "    y_pred += list(clf.predict(X_test))\n",
    "\n",
    "    # Output progress\n",
    "    noIterations += 1\n",
    "    if noIterations % 10 == 0:\n",
    "        elapsedTime = time.time() - startTime\n",
    "        avgTimePerIteration = elapsedTime / noIterations\n",
    "        print(f\"Progress: {noIterations}/{noRulesets}; Time elapsed (s): {elapsedTime:.2f}; Estimated time left (s): {(noRulesets - noIterations) * avgTimePerIteration:.2f}\")\n",
    "\n",
    "# for i in range(X.shape[0]):\n",
    "#     # Train/test split\n",
    "#     X_train = X.drop(index=[i])\n",
    "#     y_train = y.drop(index=[i])\n",
    "#     \n",
    "#     X_test = X.loc[i]\n",
    "#     \n",
    "#     # Train classifier\n",
    "#     clf = DecisionTreeClassifier().fit(X_train, y_train)\n",
    "#     \n",
    "#     # Predict on the test instance\n",
    "#     y_pred.append(clf.predict(pd.DataFrame(X_test).transpose()))\n",
    "#     \n",
    "#     # Output progress\n",
    "#     if (i + 1) % 1000 == 0:\n",
    "#         elapsedTime = time.time() - startTime\n",
    "#         avgTimePerInstance = elapsedTime / (i + 1)\n",
    "#         print(f\"Progress: {i + 1}/{X.shape[0]}; Time elapsed (s): {elapsedTime:.2f}; Estimated time left (s): {(X.shape[0] - (i + 1)) * avgTimePerInstance:.2f}\")\n",
    "\n",
    "print(\"Progress: done\")\n",
    "\n",
    "print(f\"F1-score: {f1_score(y_true=y_true, y_pred=y_pred)}\")"
   ],
   "metadata": {
    "collapsed": false,
    "ExecuteTime": {
     "end_time": "2024-01-22T11:51:47.992233900Z",
     "start_time": "2024-01-22T11:44:43.180354300Z"
    }
   },
   "id": "f41438a58316aa8f",
   "execution_count": 5
  },
  {
   "cell_type": "code",
   "execution_count": 7,
   "outputs": [
    {
     "name": "stdout",
     "output_type": "stream",
     "text": [
      "F1-score: 0.6763010040707458\n"
     ]
    }
   ],
   "source": [
    "print(f\"F1-score: {f1_score(y_true=y_true, y_pred=y_pred, average='weighted')}\")"
   ],
   "metadata": {
    "collapsed": false,
    "ExecuteTime": {
     "end_time": "2024-01-22T11:57:12.882727500Z",
     "start_time": "2024-01-22T11:57:12.804142100Z"
    }
   },
   "id": "5bb64b4ef0226773"
  },
  {
   "cell_type": "code",
   "execution_count": null,
   "outputs": [],
   "source": [],
   "metadata": {
    "collapsed": false
   },
   "id": "6f295ed70af2cdfa"
  }
 ],
 "metadata": {
  "kernelspec": {
   "display_name": "Python 3",
   "language": "python",
   "name": "python3"
  },
  "language_info": {
   "codemirror_mode": {
    "name": "ipython",
    "version": 2
   },
   "file_extension": ".py",
   "mimetype": "text/x-python",
   "name": "python",
   "nbconvert_exporter": "python",
   "pygments_lexer": "ipython2",
   "version": "2.7.6"
  }
 },
 "nbformat": 4,
 "nbformat_minor": 5
}
