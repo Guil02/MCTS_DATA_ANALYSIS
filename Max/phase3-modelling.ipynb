{
 "cells": [
  {
   "cell_type": "code",
   "execution_count": 1,
   "id": "initial_id",
   "metadata": {
    "collapsed": true,
    "ExecuteTime": {
     "end_time": "2024-01-23T22:08:35.549577500Z",
     "start_time": "2024-01-23T22:08:34.791425900Z"
    }
   },
   "outputs": [],
   "source": [
    "from training_data import import_training_set\n",
    "\n",
    "data, weights, rulesetIds = import_training_set(\"components classification\")"
   ]
  },
  {
   "cell_type": "code",
   "outputs": [],
   "source": [
    "# Remove instances involving a Random agent\n",
    "\n",
    "remove = data[[\"Selection 1 - Random\", \"Selection 2 - Random\"]].any(axis=1)\n",
    "# data = data[~remove]\n",
    "# weights = weights[~remove]\n",
    "# rulesetIds = rulesetIds[~remove]"
   ],
   "metadata": {
    "collapsed": false,
    "ExecuteTime": {
     "end_time": "2024-01-23T22:08:35.568053500Z",
     "start_time": "2024-01-23T22:08:35.551079400Z"
    }
   },
   "id": "3bc6f066aff4fd57",
   "execution_count": 2
  },
  {
   "cell_type": "code",
   "outputs": [
    {
     "data": {
      "text/plain": "       Selection 1 - ProgressiveHistory  Selection 1 - Random  \\\n6                                 False                 False   \n7                                 False                 False   \n8                                  True                 False   \n9                                 False                 False   \n10                                False                 False   \n...                                 ...                   ...   \n17871                              True                 False   \n17874                             False                 False   \n17875                             False                 False   \n17878                             False                 False   \n17879                             False                 False   \n\n       Selection 1 - UCB1  Selection 1 - UCB1GRAVE  Selection 1 - UCB1Tuned  \\\n6                    True                    False                    False   \n7                   False                     True                    False   \n8                   False                    False                    False   \n9                   False                    False                     True   \n10                  False                    False                     True   \n...                   ...                      ...                      ...   \n17871               False                    False                    False   \n17874               False                     True                    False   \n17875               False                    False                     True   \n17878                True                    False                    False   \n17879                True                    False                    False   \n\n       Selection 2 - ProgressiveHistory  Selection 2 - Random  \\\n6                                 False                 False   \n7                                 False                 False   \n8                                 False                 False   \n9                                  True                 False   \n10                                False                 False   \n...                                 ...                   ...   \n17871                             False                 False   \n17874                             False                 False   \n17875                             False                 False   \n17878                             False                 False   \n17879                             False                 False   \n\n       Selection 2 - UCB1  Selection 2 - UCB1GRAVE  Selection 2 - UCB1Tuned  \\\n6                   False                     True                    False   \n7                    True                    False                    False   \n8                   False                    False                     True   \n9                   False                    False                    False   \n10                   True                    False                    False   \n...                   ...                      ...                      ...   \n17871               False                    False                     True   \n17874               False                    False                     True   \n17875               False                     True                    False   \n17878                True                    False                    False   \n17879                True                    False                    False   \n\n       ...  CrossBoard  KintsBoard  PachisiBoard  \\\n6      ...       False       False         False   \n7      ...       False       False         False   \n8      ...       False       False         False   \n9      ...       False       False         False   \n10     ...       False       False         False   \n...    ...         ...         ...           ...   \n17871  ...       False       False         False   \n17874  ...       False       False         False   \n17875  ...       False       False         False   \n17878  ...       False       False         False   \n17879  ...       False       False         False   \n\n       FortyStonesWithFourGapsBoard  DiceD2  DiceD4  DiceD6  \\\n6                             False   False   False   False   \n7                             False   False   False   False   \n8                             False   False   False   False   \n9                             False   False   False   False   \n10                            False   False   False   False   \n...                             ...     ...     ...     ...   \n17871                         False   False   False   False   \n17874                         False   False   False   False   \n17875                         False   False   False   False   \n17878                         False   False   False   False   \n17879                         False   False   False   False   \n\n       PlayersWithDirections  IsPieceAt  Most common outcome for Agent 1  \n6                      False      False                             Draw  \n7                      False      False                             Draw  \n8                      False      False                             Draw  \n9                      False      False                             Draw  \n10                     False      False                              Win  \n...                      ...        ...                              ...  \n17871                   True       True                              Win  \n17874                   True      False                              Win  \n17875                   True      False                              Win  \n17878                   True      False                              Win  \n17879                   True      False                              Win  \n\n[8956 rows x 185 columns]",
      "text/html": "<div>\n<style scoped>\n    .dataframe tbody tr th:only-of-type {\n        vertical-align: middle;\n    }\n\n    .dataframe tbody tr th {\n        vertical-align: top;\n    }\n\n    .dataframe thead th {\n        text-align: right;\n    }\n</style>\n<table border=\"1\" class=\"dataframe\">\n  <thead>\n    <tr style=\"text-align: right;\">\n      <th></th>\n      <th>Selection 1 - ProgressiveHistory</th>\n      <th>Selection 1 - Random</th>\n      <th>Selection 1 - UCB1</th>\n      <th>Selection 1 - UCB1GRAVE</th>\n      <th>Selection 1 - UCB1Tuned</th>\n      <th>Selection 2 - ProgressiveHistory</th>\n      <th>Selection 2 - Random</th>\n      <th>Selection 2 - UCB1</th>\n      <th>Selection 2 - UCB1GRAVE</th>\n      <th>Selection 2 - UCB1Tuned</th>\n      <th>...</th>\n      <th>CrossBoard</th>\n      <th>KintsBoard</th>\n      <th>PachisiBoard</th>\n      <th>FortyStonesWithFourGapsBoard</th>\n      <th>DiceD2</th>\n      <th>DiceD4</th>\n      <th>DiceD6</th>\n      <th>PlayersWithDirections</th>\n      <th>IsPieceAt</th>\n      <th>Most common outcome for Agent 1</th>\n    </tr>\n  </thead>\n  <tbody>\n    <tr>\n      <th>6</th>\n      <td>False</td>\n      <td>False</td>\n      <td>True</td>\n      <td>False</td>\n      <td>False</td>\n      <td>False</td>\n      <td>False</td>\n      <td>False</td>\n      <td>True</td>\n      <td>False</td>\n      <td>...</td>\n      <td>False</td>\n      <td>False</td>\n      <td>False</td>\n      <td>False</td>\n      <td>False</td>\n      <td>False</td>\n      <td>False</td>\n      <td>False</td>\n      <td>False</td>\n      <td>Draw</td>\n    </tr>\n    <tr>\n      <th>7</th>\n      <td>False</td>\n      <td>False</td>\n      <td>False</td>\n      <td>True</td>\n      <td>False</td>\n      <td>False</td>\n      <td>False</td>\n      <td>True</td>\n      <td>False</td>\n      <td>False</td>\n      <td>...</td>\n      <td>False</td>\n      <td>False</td>\n      <td>False</td>\n      <td>False</td>\n      <td>False</td>\n      <td>False</td>\n      <td>False</td>\n      <td>False</td>\n      <td>False</td>\n      <td>Draw</td>\n    </tr>\n    <tr>\n      <th>8</th>\n      <td>True</td>\n      <td>False</td>\n      <td>False</td>\n      <td>False</td>\n      <td>False</td>\n      <td>False</td>\n      <td>False</td>\n      <td>False</td>\n      <td>False</td>\n      <td>True</td>\n      <td>...</td>\n      <td>False</td>\n      <td>False</td>\n      <td>False</td>\n      <td>False</td>\n      <td>False</td>\n      <td>False</td>\n      <td>False</td>\n      <td>False</td>\n      <td>False</td>\n      <td>Draw</td>\n    </tr>\n    <tr>\n      <th>9</th>\n      <td>False</td>\n      <td>False</td>\n      <td>False</td>\n      <td>False</td>\n      <td>True</td>\n      <td>True</td>\n      <td>False</td>\n      <td>False</td>\n      <td>False</td>\n      <td>False</td>\n      <td>...</td>\n      <td>False</td>\n      <td>False</td>\n      <td>False</td>\n      <td>False</td>\n      <td>False</td>\n      <td>False</td>\n      <td>False</td>\n      <td>False</td>\n      <td>False</td>\n      <td>Draw</td>\n    </tr>\n    <tr>\n      <th>10</th>\n      <td>False</td>\n      <td>False</td>\n      <td>False</td>\n      <td>False</td>\n      <td>True</td>\n      <td>False</td>\n      <td>False</td>\n      <td>True</td>\n      <td>False</td>\n      <td>False</td>\n      <td>...</td>\n      <td>False</td>\n      <td>False</td>\n      <td>False</td>\n      <td>False</td>\n      <td>False</td>\n      <td>False</td>\n      <td>False</td>\n      <td>False</td>\n      <td>False</td>\n      <td>Win</td>\n    </tr>\n    <tr>\n      <th>...</th>\n      <td>...</td>\n      <td>...</td>\n      <td>...</td>\n      <td>...</td>\n      <td>...</td>\n      <td>...</td>\n      <td>...</td>\n      <td>...</td>\n      <td>...</td>\n      <td>...</td>\n      <td>...</td>\n      <td>...</td>\n      <td>...</td>\n      <td>...</td>\n      <td>...</td>\n      <td>...</td>\n      <td>...</td>\n      <td>...</td>\n      <td>...</td>\n      <td>...</td>\n      <td>...</td>\n    </tr>\n    <tr>\n      <th>17871</th>\n      <td>True</td>\n      <td>False</td>\n      <td>False</td>\n      <td>False</td>\n      <td>False</td>\n      <td>False</td>\n      <td>False</td>\n      <td>False</td>\n      <td>False</td>\n      <td>True</td>\n      <td>...</td>\n      <td>False</td>\n      <td>False</td>\n      <td>False</td>\n      <td>False</td>\n      <td>False</td>\n      <td>False</td>\n      <td>False</td>\n      <td>True</td>\n      <td>True</td>\n      <td>Win</td>\n    </tr>\n    <tr>\n      <th>17874</th>\n      <td>False</td>\n      <td>False</td>\n      <td>False</td>\n      <td>True</td>\n      <td>False</td>\n      <td>False</td>\n      <td>False</td>\n      <td>False</td>\n      <td>False</td>\n      <td>True</td>\n      <td>...</td>\n      <td>False</td>\n      <td>False</td>\n      <td>False</td>\n      <td>False</td>\n      <td>False</td>\n      <td>False</td>\n      <td>False</td>\n      <td>True</td>\n      <td>False</td>\n      <td>Win</td>\n    </tr>\n    <tr>\n      <th>17875</th>\n      <td>False</td>\n      <td>False</td>\n      <td>False</td>\n      <td>False</td>\n      <td>True</td>\n      <td>False</td>\n      <td>False</td>\n      <td>False</td>\n      <td>True</td>\n      <td>False</td>\n      <td>...</td>\n      <td>False</td>\n      <td>False</td>\n      <td>False</td>\n      <td>False</td>\n      <td>False</td>\n      <td>False</td>\n      <td>False</td>\n      <td>True</td>\n      <td>False</td>\n      <td>Win</td>\n    </tr>\n    <tr>\n      <th>17878</th>\n      <td>False</td>\n      <td>False</td>\n      <td>True</td>\n      <td>False</td>\n      <td>False</td>\n      <td>False</td>\n      <td>False</td>\n      <td>True</td>\n      <td>False</td>\n      <td>False</td>\n      <td>...</td>\n      <td>False</td>\n      <td>False</td>\n      <td>False</td>\n      <td>False</td>\n      <td>False</td>\n      <td>False</td>\n      <td>False</td>\n      <td>True</td>\n      <td>False</td>\n      <td>Win</td>\n    </tr>\n    <tr>\n      <th>17879</th>\n      <td>False</td>\n      <td>False</td>\n      <td>True</td>\n      <td>False</td>\n      <td>False</td>\n      <td>False</td>\n      <td>False</td>\n      <td>True</td>\n      <td>False</td>\n      <td>False</td>\n      <td>...</td>\n      <td>False</td>\n      <td>False</td>\n      <td>False</td>\n      <td>False</td>\n      <td>False</td>\n      <td>False</td>\n      <td>False</td>\n      <td>True</td>\n      <td>False</td>\n      <td>Win</td>\n    </tr>\n  </tbody>\n</table>\n<p>8956 rows × 185 columns</p>\n</div>"
     },
     "execution_count": 3,
     "metadata": {},
     "output_type": "execute_result"
    }
   ],
   "source": [
    "data"
   ],
   "metadata": {
    "collapsed": false,
    "ExecuteTime": {
     "end_time": "2024-01-23T22:08:35.599079900Z",
     "start_time": "2024-01-23T22:08:35.565050300Z"
    }
   },
   "id": "8c0c4b6774067ee3",
   "execution_count": 3
  },
  {
   "cell_type": "code",
   "outputs": [
    {
     "data": {
      "text/plain": "6        0.612842\n7        0.612842\n8        0.612842\n9        0.612842\n10       0.612842\n           ...   \n17871    1.000000\n17874    0.987500\n17875    0.987500\n17878    0.987500\n17879    0.987500\nName: 0, Length: 8956, dtype: float64"
     },
     "execution_count": 4,
     "metadata": {},
     "output_type": "execute_result"
    }
   ],
   "source": [
    "weights"
   ],
   "metadata": {
    "collapsed": false,
    "ExecuteTime": {
     "end_time": "2024-01-23T22:08:35.610881900Z",
     "start_time": "2024-01-23T22:08:35.595576300Z"
    }
   },
   "id": "9eda6e93965757f1",
   "execution_count": 4
  },
  {
   "cell_type": "code",
   "execution_count": 5,
   "outputs": [
    {
     "data": {
      "text/plain": "6         37\n7         37\n8         37\n9         37\n10        37\n        ... \n17871    455\n17874    456\n17875    456\n17878    456\n17879    456\nName: 0, Length: 8956, dtype: category\nCategories (1017, int64): [17, 18, 30, 33, ..., 4096, 4118, 4186, 4187]"
     },
     "execution_count": 5,
     "metadata": {},
     "output_type": "execute_result"
    }
   ],
   "source": [
    "rulesetIds"
   ],
   "metadata": {
    "collapsed": false,
    "ExecuteTime": {
     "end_time": "2024-01-23T22:08:35.636403800Z",
     "start_time": "2024-01-23T22:08:35.612383900Z"
    }
   },
   "id": "9e719c2f9e686cd2"
  },
  {
   "cell_type": "code",
   "outputs": [
    {
     "name": "stdout",
     "output_type": "stream",
     "text": [
      "Progress: 50/1003; Time elapsed (s): 11.97; Estimated time left (s): 228.09\n",
      "Progress: 100/1003; Time elapsed (s): 23.82; Estimated time left (s): 215.09\n",
      "Progress: 150/1003; Time elapsed (s): 35.89; Estimated time left (s): 204.08\n",
      "Progress: 200/1003; Time elapsed (s): 47.89; Estimated time left (s): 192.27\n",
      "Progress: 250/1003; Time elapsed (s): 59.91; Estimated time left (s): 180.44\n",
      "Progress: 300/1003; Time elapsed (s): 71.93; Estimated time left (s): 168.56\n",
      "Progress: 350/1003; Time elapsed (s): 83.81; Estimated time left (s): 156.36\n",
      "Progress: 400/1003; Time elapsed (s): 95.64; Estimated time left (s): 144.17\n",
      "Progress: 450/1003; Time elapsed (s): 107.54; Estimated time left (s): 132.15\n",
      "Progress: 500/1003; Time elapsed (s): 119.39; Estimated time left (s): 120.10\n",
      "Progress: 550/1003; Time elapsed (s): 131.16; Estimated time left (s): 108.03\n",
      "Progress: 600/1003; Time elapsed (s): 143.01; Estimated time left (s): 96.06\n",
      "Progress: 650/1003; Time elapsed (s): 154.74; Estimated time left (s): 84.04\n",
      "Progress: 700/1003; Time elapsed (s): 166.45; Estimated time left (s): 72.05\n",
      "Progress: 750/1003; Time elapsed (s): 178.17; Estimated time left (s): 60.10\n",
      "Progress: 800/1003; Time elapsed (s): 190.43; Estimated time left (s): 48.32\n",
      "Progress: 850/1003; Time elapsed (s): 202.73; Estimated time left (s): 36.49\n",
      "Progress: 900/1003; Time elapsed (s): 214.66; Estimated time left (s): 24.57\n",
      "Progress: 950/1003; Time elapsed (s): 226.62; Estimated time left (s): 12.64\n",
      "Progress: 1000/1003; Time elapsed (s): 238.54; Estimated time left (s): 0.72\n",
      "Progress: 1003/1003; Time elapsed (s): 239.26\n",
      "\n",
      "-- Results (F1-score) --\n",
      "Minimum: 0.000\n",
      "Maximum: 1.000\n",
      "\n",
      "Unweighted average: 0.520\n",
      "  Weighted average: 0.537\n",
      "\n",
      "Unweighted standard deviation: 0.245\n",
      "  Weighted standard deviation: 0.237\n"
     ]
    },
    {
     "data": {
      "text/plain": "<Figure size 640x480 with 1 Axes>",
      "image/png": "[encoded data removed]"
     },
     "metadata": {},
     "output_type": "display_data"
    }
   ],
   "source": [
    "import time\n",
    "import numpy as np\n",
    "from matplotlib import pyplot as plt\n",
    "from sklearn.metrics import f1_score\n",
    "from sklearn.tree import DecisionTreeClassifier\n",
    "\n",
    "# Prepare data\n",
    "X = data.drop(columns=[\"Most common outcome for Agent 1\"])\n",
    "y = data[\"Most common outcome for Agent 1\"]\n",
    "\n",
    "# Custom implementation of Leave-One-Out Cross-Validation\n",
    "scores = []\n",
    "rulesetWeights = []\n",
    "featureImportance = {}\n",
    "\n",
    "startTime = time.time()\n",
    "noIterations = 0\n",
    "noRulesets = rulesetIds.unique().shape[0]\n",
    "\n",
    "for rulesetId in rulesetIds.unique():\n",
    "    # Train/test split\n",
    "    trainIdx = (rulesetIds != rulesetId)\n",
    "    X_train = X[trainIdx]\n",
    "    y_train = y[trainIdx]\n",
    "\n",
    "    testIdx = (rulesetIds == rulesetId)\n",
    "    X_test = X[testIdx]\n",
    "    y_test = y[testIdx]\n",
    "\n",
    "    # Train classifier\n",
    "    clf = DecisionTreeClassifier().fit(X_train, y_train, sample_weight=weights[trainIdx])\n",
    "\n",
    "    # Predict on the test set\n",
    "    y_pred = clf.predict(X_test)\n",
    "    \n",
    "    # Determine performance of classifier\n",
    "    scores.append(f1_score(y_test, y_pred, average=\"weighted\"))\n",
    "    \n",
    "    # Log other important information\n",
    "    rulesetWeights.append(weights[testIdx].iloc[0])\n",
    "    featureImportance[rulesetId] = clf.feature_importances_\n",
    "    \n",
    "    # Output progress\n",
    "    noIterations += 1\n",
    "    if noIterations % 50 == 0:\n",
    "        elapsedTime = time.time() - startTime\n",
    "        avgTimePerIteration = elapsedTime / noIterations\n",
    "        print(f\"Progress: {noIterations}/{noRulesets}; Time elapsed (s): {elapsedTime:.2f}; Estimated time left (s): {(noRulesets - noIterations) * avgTimePerIteration:.2f}\")\n",
    "\n",
    "print(f\"Progress: {noIterations}/{noRulesets}; Time elapsed (s): {time.time() - startTime:.2f}\")\n",
    "\n",
    "# Output results\n",
    "print(f\"\\n-- Results (F1-score) --\")\n",
    "print(f\"Minimum: {np.min(scores):.3f}\\nMaximum: {np.max(scores):.3f}\")\n",
    "print(f\"\\nUnweighted average: {np.average(scores):.3f}\\n  Weighted average: {np.average(scores, weights=rulesetWeights):.3f}\")\n",
    "print(f\"\\nUnweighted standard deviation: {np.std(scores):.3f}\\n  Weighted standard deviation: {np.sqrt(np.cov(scores, aweights=rulesetWeights)):.3f}\")\n",
    " \n",
    "plt.hist(scores, bins=15)\n",
    "plt.xlabel(\"F1-score\")\n",
    "plt.ylabel(\"Count\")\n",
    "plt.title(\"Distribution of F1-scores\");"
   ],
   "metadata": {
    "collapsed": false,
    "ExecuteTime": {
     "end_time": "2024-01-23T22:12:36.379227400Z",
     "start_time": "2024-01-23T22:08:35.629898300Z"
    }
   },
   "id": "f41438a58316aa8f",
   "execution_count": 6
  },
  {
   "cell_type": "code",
   "outputs": [
    {
     "data": {
      "text/plain": "Exploration 1           3.872359e-02\nNumColumns              3.869986e-02\nExploration 2           3.581637e-02\nPlay-out 1 - Random0    3.495740e-02\nPlay-out 2 - Random0    2.600365e-02\n                            ...     \nLeftwardsDirection      4.209763e-21\nPlay-out 2 - Random     0.000000e+00\nSelection 2 - Random    0.000000e+00\nPlay-out 1 - Random     0.000000e+00\nSelection 1 - Random    0.000000e+00\nLength: 184, dtype: float64"
     },
     "execution_count": 7,
     "metadata": {},
     "output_type": "execute_result"
    }
   ],
   "source": [
    "import pandas as pd\n",
    "\n",
    "featureImportance = pd.DataFrame.from_dict(featureImportance, orient=\"index\", columns=X.columns)\n",
    "\n",
    "# Rank features from most to least important\n",
    "avgFeatureImportance = pd.Series(np.average(featureImportance, axis=0, weights=rulesetWeights), index=featureImportance.columns)\n",
    "order = avgFeatureImportance.argsort()\n",
    "avgFeatureImportance.iloc[order[::-1]]"
   ],
   "metadata": {
    "collapsed": false,
    "ExecuteTime": {
     "end_time": "2024-01-23T22:12:36.434273600Z",
     "start_time": "2024-01-23T22:12:36.378725900Z"
    }
   },
   "id": "7784eb0020853985",
   "execution_count": 7
  },
  {
   "cell_type": "code",
   "outputs": [],
   "source": [
    "# Adding weights:\n",
    "# (V) Add weights to training of classifier\n",
    "# (V) Compute weighted average of f1-score\n",
    "# (V) Compute weighted standard deviation of f1-score (?)\n",
    "# (V) Change from unweighted to weighted average feature importance"
   ],
   "metadata": {
    "collapsed": false,
    "ExecuteTime": {
     "end_time": "2024-01-23T22:12:36.448787100Z",
     "start_time": "2024-01-23T22:12:36.425767100Z"
    }
   },
   "id": "4e476cd3ea72eab3",
   "execution_count": 8
  },
  {
   "cell_type": "code",
   "outputs": [],
   "source": [],
   "metadata": {
    "collapsed": false,
    "ExecuteTime": {
     "end_time": "2024-01-23T22:12:36.462798800Z",
     "start_time": "2024-01-23T22:12:36.440279900Z"
    }
   },
   "id": "c3d8e368e9a4d335",
   "execution_count": 8
  }
 ],
 "metadata": {
  "kernelspec": {
   "display_name": "Python 3",
   "language": "python",
   "name": "python3"
  },
  "language_info": {
   "codemirror_mode": {
    "name": "ipython",
    "version": 2
   },
   "file_extension": ".py",
   "mimetype": "text/x-python",
   "name": "python",
   "nbconvert_exporter": "python",
   "pygments_lexer": "ipython2",
   "version": "2.7.6"
  }
 },
 "nbformat": 4,
 "nbformat_minor": 5
}
