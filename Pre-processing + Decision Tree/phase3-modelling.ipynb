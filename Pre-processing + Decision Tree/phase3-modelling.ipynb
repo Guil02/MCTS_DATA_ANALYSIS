{
 "cells": [
  {
   "cell_type": "code",
   "execution_count": 1,
   "id": "initial_id",
   "metadata": {
    "collapsed": true,
    "ExecuteTime": {
     "end_time": "2024-01-24T18:35:02.775063900Z",
     "start_time": "2024-01-24T18:35:01.974027200Z"
    }
   },
   "outputs": [],
   "source": [
    "from training_data import import_training_set\n",
    "\n",
    "data, weights, rulesetIds = import_training_set(\"components classification\")"
   ]
  },
  {
   "cell_type": "code",
   "outputs": [],
   "source": [
    "# Remove instances involving a Random agent\n",
    "\n",
    "# remove = data[[\"Selection 1 - Random\", \"Selection 2 - Random\"]].any(axis=1)\n",
    "# data = data[~remove]\n",
    "# weights = weights[~remove]\n",
    "# rulesetIds = rulesetIds[~remove]"
   ],
   "metadata": {
    "collapsed": false,
    "ExecuteTime": {
     "end_time": "2024-01-24T18:35:02.789576900Z",
     "start_time": "2024-01-24T18:35:02.775564700Z"
    }
   },
   "id": "3bc6f066aff4fd57",
   "execution_count": 2
  },
  {
   "cell_type": "code",
   "outputs": [
    {
     "data": {
      "text/plain": "       Selection 1 - ProgressiveHistory  Selection 1 - Random  \\\n0                                 False                 False   \n1                                 False                  True   \n2                                 False                  True   \n3                                 False                 False   \n4                                 False                  True   \n...                                 ...                   ...   \n17877                             False                 False   \n17878                             False                 False   \n17879                             False                 False   \n17880                             False                  True   \n17881                             False                 False   \n\n       Selection 1 - UCB1  Selection 1 - UCB1GRAVE  Selection 1 - UCB1Tuned  \\\n0                    True                    False                    False   \n1                   False                    False                    False   \n2                   False                    False                    False   \n3                    True                    False                    False   \n4                   False                    False                    False   \n...                   ...                      ...                      ...   \n17877                True                    False                    False   \n17878                True                    False                    False   \n17879                True                    False                    False   \n17880               False                    False                    False   \n17881               False                     True                    False   \n\n       Selection 2 - ProgressiveHistory  Selection 2 - Random  \\\n0                                 False                  True   \n1                                 False                 False   \n2                                 False                 False   \n3                                 False                  True   \n4                                 False                 False   \n...                                 ...                   ...   \n17877                             False                  True   \n17878                             False                 False   \n17879                             False                 False   \n17880                             False                 False   \n17881                             False                  True   \n\n       Selection 2 - UCB1  Selection 2 - UCB1GRAVE  Selection 2 - UCB1Tuned  \\\n0                   False                    False                    False   \n1                    True                    False                    False   \n2                    True                    False                    False   \n3                   False                    False                    False   \n4                   False                     True                    False   \n...                   ...                      ...                      ...   \n17877               False                    False                    False   \n17878                True                    False                    False   \n17879                True                    False                    False   \n17880               False                     True                    False   \n17881               False                    False                    False   \n\n       ...  CrossBoard  KintsBoard  PachisiBoard  \\\n0      ...       False       False         False   \n1      ...       False       False         False   \n2      ...       False       False         False   \n3      ...       False       False         False   \n4      ...       False       False         False   \n...    ...         ...         ...           ...   \n17877  ...       False       False         False   \n17878  ...       False       False         False   \n17879  ...       False       False         False   \n17880  ...       False       False         False   \n17881  ...       False       False         False   \n\n       FortyStonesWithFourGapsBoard  DiceD2  DiceD4  DiceD6  \\\n0                             False   False   False   False   \n1                             False   False   False   False   \n2                             False   False   False   False   \n3                             False   False   False   False   \n4                             False   False   False   False   \n...                             ...     ...     ...     ...   \n17877                         False   False   False   False   \n17878                         False   False   False   False   \n17879                         False   False   False   False   \n17880                         False   False   False   False   \n17881                         False   False   False   False   \n\n       PlayersWithDirections  IsPieceAt  Most common outcome for Agent 1  \n0                      False      False                              Win  \n1                      False      False                              Win  \n2                      False      False                             Loss  \n3                      False      False                              Win  \n4                      False      False                             Loss  \n...                      ...        ...                              ...  \n17877                   True      False                              Win  \n17878                   True      False                              Win  \n17879                   True      False                              Win  \n17880                   True      False                             Loss  \n17881                   True      False                              Win  \n\n[17882 rows x 185 columns]",
      "text/html": "<div>\n<style scoped>\n    .dataframe tbody tr th:only-of-type {\n        vertical-align: middle;\n    }\n\n    .dataframe tbody tr th {\n        vertical-align: top;\n    }\n\n    .dataframe thead th {\n        text-align: right;\n    }\n</style>\n<table border=\"1\" class=\"dataframe\">\n  <thead>\n    <tr style=\"text-align: right;\">\n      <th></th>\n      <th>Selection 1 - ProgressiveHistory</th>\n      <th>Selection 1 - Random</th>\n      <th>Selection 1 - UCB1</th>\n      <th>Selection 1 - UCB1GRAVE</th>\n      <th>Selection 1 - UCB1Tuned</th>\n      <th>Selection 2 - ProgressiveHistory</th>\n      <th>Selection 2 - Random</th>\n      <th>Selection 2 - UCB1</th>\n      <th>Selection 2 - UCB1GRAVE</th>\n      <th>Selection 2 - UCB1Tuned</th>\n      <th>...</th>\n      <th>CrossBoard</th>\n      <th>KintsBoard</th>\n      <th>PachisiBoard</th>\n      <th>FortyStonesWithFourGapsBoard</th>\n      <th>DiceD2</th>\n      <th>DiceD4</th>\n      <th>DiceD6</th>\n      <th>PlayersWithDirections</th>\n      <th>IsPieceAt</th>\n      <th>Most common outcome for Agent 1</th>\n    </tr>\n  </thead>\n  <tbody>\n    <tr>\n      <th>0</th>\n      <td>False</td>\n      <td>False</td>\n      <td>True</td>\n      <td>False</td>\n      <td>False</td>\n      <td>False</td>\n      <td>True</td>\n      <td>False</td>\n      <td>False</td>\n      <td>False</td>\n      <td>...</td>\n      <td>False</td>\n      <td>False</td>\n      <td>False</td>\n      <td>False</td>\n      <td>False</td>\n      <td>False</td>\n      <td>False</td>\n      <td>False</td>\n      <td>False</td>\n      <td>Win</td>\n    </tr>\n    <tr>\n      <th>1</th>\n      <td>False</td>\n      <td>True</td>\n      <td>False</td>\n      <td>False</td>\n      <td>False</td>\n      <td>False</td>\n      <td>False</td>\n      <td>True</td>\n      <td>False</td>\n      <td>False</td>\n      <td>...</td>\n      <td>False</td>\n      <td>False</td>\n      <td>False</td>\n      <td>False</td>\n      <td>False</td>\n      <td>False</td>\n      <td>False</td>\n      <td>False</td>\n      <td>False</td>\n      <td>Win</td>\n    </tr>\n    <tr>\n      <th>2</th>\n      <td>False</td>\n      <td>True</td>\n      <td>False</td>\n      <td>False</td>\n      <td>False</td>\n      <td>False</td>\n      <td>False</td>\n      <td>True</td>\n      <td>False</td>\n      <td>False</td>\n      <td>...</td>\n      <td>False</td>\n      <td>False</td>\n      <td>False</td>\n      <td>False</td>\n      <td>False</td>\n      <td>False</td>\n      <td>False</td>\n      <td>False</td>\n      <td>False</td>\n      <td>Loss</td>\n    </tr>\n    <tr>\n      <th>3</th>\n      <td>False</td>\n      <td>False</td>\n      <td>True</td>\n      <td>False</td>\n      <td>False</td>\n      <td>False</td>\n      <td>True</td>\n      <td>False</td>\n      <td>False</td>\n      <td>False</td>\n      <td>...</td>\n      <td>False</td>\n      <td>False</td>\n      <td>False</td>\n      <td>False</td>\n      <td>False</td>\n      <td>False</td>\n      <td>False</td>\n      <td>False</td>\n      <td>False</td>\n      <td>Win</td>\n    </tr>\n    <tr>\n      <th>4</th>\n      <td>False</td>\n      <td>True</td>\n      <td>False</td>\n      <td>False</td>\n      <td>False</td>\n      <td>False</td>\n      <td>False</td>\n      <td>False</td>\n      <td>True</td>\n      <td>False</td>\n      <td>...</td>\n      <td>False</td>\n      <td>False</td>\n      <td>False</td>\n      <td>False</td>\n      <td>False</td>\n      <td>False</td>\n      <td>False</td>\n      <td>False</td>\n      <td>False</td>\n      <td>Loss</td>\n    </tr>\n    <tr>\n      <th>...</th>\n      <td>...</td>\n      <td>...</td>\n      <td>...</td>\n      <td>...</td>\n      <td>...</td>\n      <td>...</td>\n      <td>...</td>\n      <td>...</td>\n      <td>...</td>\n      <td>...</td>\n      <td>...</td>\n      <td>...</td>\n      <td>...</td>\n      <td>...</td>\n      <td>...</td>\n      <td>...</td>\n      <td>...</td>\n      <td>...</td>\n      <td>...</td>\n      <td>...</td>\n      <td>...</td>\n    </tr>\n    <tr>\n      <th>17877</th>\n      <td>False</td>\n      <td>False</td>\n      <td>True</td>\n      <td>False</td>\n      <td>False</td>\n      <td>False</td>\n      <td>True</td>\n      <td>False</td>\n      <td>False</td>\n      <td>False</td>\n      <td>...</td>\n      <td>False</td>\n      <td>False</td>\n      <td>False</td>\n      <td>False</td>\n      <td>False</td>\n      <td>False</td>\n      <td>False</td>\n      <td>True</td>\n      <td>False</td>\n      <td>Win</td>\n    </tr>\n    <tr>\n      <th>17878</th>\n      <td>False</td>\n      <td>False</td>\n      <td>True</td>\n      <td>False</td>\n      <td>False</td>\n      <td>False</td>\n      <td>False</td>\n      <td>True</td>\n      <td>False</td>\n      <td>False</td>\n      <td>...</td>\n      <td>False</td>\n      <td>False</td>\n      <td>False</td>\n      <td>False</td>\n      <td>False</td>\n      <td>False</td>\n      <td>False</td>\n      <td>True</td>\n      <td>False</td>\n      <td>Win</td>\n    </tr>\n    <tr>\n      <th>17879</th>\n      <td>False</td>\n      <td>False</td>\n      <td>True</td>\n      <td>False</td>\n      <td>False</td>\n      <td>False</td>\n      <td>False</td>\n      <td>True</td>\n      <td>False</td>\n      <td>False</td>\n      <td>...</td>\n      <td>False</td>\n      <td>False</td>\n      <td>False</td>\n      <td>False</td>\n      <td>False</td>\n      <td>False</td>\n      <td>False</td>\n      <td>True</td>\n      <td>False</td>\n      <td>Win</td>\n    </tr>\n    <tr>\n      <th>17880</th>\n      <td>False</td>\n      <td>True</td>\n      <td>False</td>\n      <td>False</td>\n      <td>False</td>\n      <td>False</td>\n      <td>False</td>\n      <td>False</td>\n      <td>True</td>\n      <td>False</td>\n      <td>...</td>\n      <td>False</td>\n      <td>False</td>\n      <td>False</td>\n      <td>False</td>\n      <td>False</td>\n      <td>False</td>\n      <td>False</td>\n      <td>True</td>\n      <td>False</td>\n      <td>Loss</td>\n    </tr>\n    <tr>\n      <th>17881</th>\n      <td>False</td>\n      <td>False</td>\n      <td>False</td>\n      <td>True</td>\n      <td>False</td>\n      <td>False</td>\n      <td>True</td>\n      <td>False</td>\n      <td>False</td>\n      <td>False</td>\n      <td>...</td>\n      <td>False</td>\n      <td>False</td>\n      <td>False</td>\n      <td>False</td>\n      <td>False</td>\n      <td>False</td>\n      <td>False</td>\n      <td>True</td>\n      <td>False</td>\n      <td>Win</td>\n    </tr>\n  </tbody>\n</table>\n<p>17882 rows × 185 columns</p>\n</div>"
     },
     "execution_count": 3,
     "metadata": {},
     "output_type": "execute_result"
    }
   ],
   "source": [
    "data"
   ],
   "metadata": {
    "collapsed": false,
    "ExecuteTime": {
     "end_time": "2024-01-24T18:35:02.824606500Z",
     "start_time": "2024-01-24T18:35:02.790577100Z"
    }
   },
   "id": "8c0c4b6774067ee3",
   "execution_count": 3
  },
  {
   "cell_type": "code",
   "outputs": [
    {
     "data": {
      "text/plain": "0        0.612842\n1        0.612842\n2        0.612842\n3        0.612842\n4        0.612842\n           ...   \n17877    0.987500\n17878    0.987500\n17879    0.987500\n17880    0.987500\n17881    0.987500\nName: 0, Length: 17882, dtype: float64"
     },
     "execution_count": 4,
     "metadata": {},
     "output_type": "execute_result"
    }
   ],
   "source": [
    "weights"
   ],
   "metadata": {
    "collapsed": false,
    "ExecuteTime": {
     "end_time": "2024-01-24T18:35:02.842121500Z",
     "start_time": "2024-01-24T18:35:02.821604Z"
    }
   },
   "id": "9eda6e93965757f1",
   "execution_count": 4
  },
  {
   "cell_type": "code",
   "execution_count": 5,
   "outputs": [
    {
     "data": {
      "text/plain": "0         37\n1         37\n2         37\n3         37\n4         37\n        ... \n17877    456\n17878    456\n17879    456\n17880    456\n17881    456\nName: 0, Length: 17882, dtype: category\nCategories (1017, int64): [17, 18, 30, 33, ..., 4096, 4118, 4186, 4187]"
     },
     "execution_count": 5,
     "metadata": {},
     "output_type": "execute_result"
    }
   ],
   "source": [
    "rulesetIds"
   ],
   "metadata": {
    "collapsed": false,
    "ExecuteTime": {
     "end_time": "2024-01-24T18:35:02.883156900Z",
     "start_time": "2024-01-24T18:35:02.837618100Z"
    }
   },
   "id": "9e719c2f9e686cd2"
  },
  {
   "cell_type": "code",
   "outputs": [
    {
     "name": "stdout",
     "output_type": "stream",
     "text": [
      "Progress: 50/1017; Time elapsed (s): 10.13; Estimated time left (s): 195.86\n",
      "Progress: 100/1017; Time elapsed (s): 20.26; Estimated time left (s): 185.75\n",
      "Progress: 150/1017; Time elapsed (s): 30.42; Estimated time left (s): 175.84\n",
      "Progress: 200/1017; Time elapsed (s): 40.58; Estimated time left (s): 165.78\n",
      "Progress: 250/1017; Time elapsed (s): 50.69; Estimated time left (s): 155.52\n",
      "Progress: 300/1017; Time elapsed (s): 60.82; Estimated time left (s): 145.36\n",
      "Progress: 350/1017; Time elapsed (s): 71.00; Estimated time left (s): 135.31\n",
      "Progress: 400/1017; Time elapsed (s): 81.17; Estimated time left (s): 125.21\n",
      "Progress: 450/1017; Time elapsed (s): 91.32; Estimated time left (s): 115.06\n",
      "Progress: 500/1017; Time elapsed (s): 101.39; Estimated time left (s): 104.84\n",
      "Progress: 550/1017; Time elapsed (s): 111.46; Estimated time left (s): 94.64\n",
      "Progress: 600/1017; Time elapsed (s): 121.61; Estimated time left (s): 84.52\n",
      "Progress: 650/1017; Time elapsed (s): 131.68; Estimated time left (s): 74.35\n",
      "Progress: 700/1017; Time elapsed (s): 141.87; Estimated time left (s): 64.25\n",
      "Progress: 750/1017; Time elapsed (s): 151.97; Estimated time left (s): 54.10\n",
      "Progress: 800/1017; Time elapsed (s): 162.05; Estimated time left (s): 43.95\n",
      "Progress: 850/1017; Time elapsed (s): 172.15; Estimated time left (s): 33.82\n",
      "Progress: 900/1017; Time elapsed (s): 182.23; Estimated time left (s): 23.69\n",
      "Progress: 950/1017; Time elapsed (s): 192.31; Estimated time left (s): 13.56\n",
      "Progress: 1000/1017; Time elapsed (s): 202.44; Estimated time left (s): 3.44\n",
      "Progress: 1017/1017; Time elapsed (s): 205.86\n",
      "\n",
      "-- Results (F1-score) --\n",
      "Minimum: 0.000\n",
      "Maximum: 1.000\n",
      "\n",
      "Unweighted average: 0.715\n",
      "  Weighted average: 0.757\n",
      "\n",
      "Unweighted standard deviation: 0.215\n",
      "  Weighted standard deviation: 0.163\n"
     ]
    },
    {
     "data": {
      "text/plain": "<Figure size 640x480 with 1 Axes>",
      "image/png": "[encoded data removed]"
     },
     "metadata": {},
     "output_type": "display_data"
    }
   ],
   "source": [
    "import time\n",
    "import numpy as np\n",
    "from matplotlib import pyplot as plt\n",
    "from sklearn.metrics import f1_score\n",
    "from sklearn.tree import DecisionTreeClassifier\n",
    "\n",
    "# Prepare data\n",
    "X = data.drop(columns=[\"Most common outcome for Agent 1\"])\n",
    "y = data[\"Most common outcome for Agent 1\"]\n",
    "\n",
    "# Custom implementation of Leave-One-Out Cross-Validation\n",
    "scores = []\n",
    "rulesetWeights = []\n",
    "featureImportance = {}\n",
    "\n",
    "startTime = time.time()\n",
    "noIterations = 0\n",
    "noRulesets = rulesetIds.unique().shape[0]\n",
    "\n",
    "for rulesetId in rulesetIds.unique():\n",
    "    # Train/test split\n",
    "    trainIdx = (rulesetIds != rulesetId)\n",
    "    X_train = X[trainIdx]\n",
    "    y_train = y[trainIdx]\n",
    "\n",
    "    testIdx = (rulesetIds == rulesetId)\n",
    "    X_test = X[testIdx]\n",
    "    y_test = y[testIdx]\n",
    "\n",
    "    # Train classifier\n",
    "    clf = DecisionTreeClassifier(\n",
    "        max_depth=10\n",
    "    ).fit(X_train, y_train, sample_weight=weights[trainIdx])\n",
    "\n",
    "    # Predict on the test set\n",
    "    y_pred = clf.predict(X_test)\n",
    "    \n",
    "    # Determine performance of classifier\n",
    "    scores.append(f1_score(y_test, y_pred, average=\"weighted\"))\n",
    "    \n",
    "    # Log other important information\n",
    "    rulesetWeights.append(weights[testIdx].iloc[0])\n",
    "    featureImportance[rulesetId] = clf.feature_importances_\n",
    "    \n",
    "    # Output progress\n",
    "    noIterations += 1\n",
    "    if noIterations % 50 == 0:\n",
    "        elapsedTime = time.time() - startTime\n",
    "        avgTimePerIteration = elapsedTime / noIterations\n",
    "        print(f\"Progress: {noIterations}/{noRulesets}; Time elapsed (s): {elapsedTime:.2f}; Estimated time left (s): {(noRulesets - noIterations) * avgTimePerIteration:.2f}\")\n",
    "\n",
    "print(f\"Progress: {noIterations}/{noRulesets}; Time elapsed (s): {time.time() - startTime:.2f}\")\n",
    "\n",
    "# Output results\n",
    "print(f\"\\n-- Results (F1-score) --\")\n",
    "print(f\"Minimum: {np.min(scores):.3f}\\nMaximum: {np.max(scores):.3f}\")\n",
    "print(f\"\\nUnweighted average: {np.average(scores):.3f}\\n  Weighted average: {np.average(scores, weights=rulesetWeights):.3f}\")\n",
    "print(f\"\\nUnweighted standard deviation: {np.std(scores):.3f}\\n  Weighted standard deviation: {np.sqrt(np.cov(scores, aweights=rulesetWeights)):.3f}\")\n",
    "\n",
    "plt.hist(scores, bins=15)\n",
    "plt.xlabel(\"F1-score\")\n",
    "plt.ylabel(\"Count\")\n",
    "plt.title(\"Distribution of F1-scores\");"
   ],
   "metadata": {
    "collapsed": false,
    "ExecuteTime": {
     "end_time": "2024-01-24T18:38:30.558641400Z",
     "start_time": "2024-01-24T18:35:02.856134Z"
    }
   },
   "id": "f41438a58316aa8f",
   "execution_count": 6
  },
  {
   "cell_type": "code",
   "outputs": [
    {
     "data": {
      "text/plain": "Selection 1 - Random    0.258825\nPlay-out 1 - Random     0.238098\nSelection 2 - Random    0.113742\nPlay-out 2 - Random     0.111004\nPlay-out 1 - Random0    0.034667\n                          ...   \nMancalaStores           0.000000\nMancalaSixRows          0.000000\nInitialCost             0.000000\nAutoMove                0.000000\nDomino                  0.000000\nLength: 184, dtype: float64"
     },
     "execution_count": 7,
     "metadata": {},
     "output_type": "execute_result"
    }
   ],
   "source": [
    "import pandas as pd\n",
    "\n",
    "featureImportance = pd.DataFrame.from_dict(featureImportance, orient=\"index\", columns=X.columns)\n",
    "\n",
    "# Rank features from most to least important\n",
    "avgFeatureImportance = pd.Series(np.average(featureImportance, axis=0, weights=rulesetWeights), index=featureImportance.columns)\n",
    "order = avgFeatureImportance.argsort()\n",
    "avgFeatureImportance.iloc[order[::-1]]"
   ],
   "metadata": {
    "collapsed": false,
    "ExecuteTime": {
     "end_time": "2024-01-24T18:38:30.621695500Z",
     "start_time": "2024-01-24T18:38:30.557640700Z"
    }
   },
   "id": "7784eb0020853985",
   "execution_count": 7
  },
  {
   "cell_type": "code",
   "outputs": [],
   "source": [
    "# Adding weights:\n",
    "# (V) Add weights to training of classifier\n",
    "# (V) Compute weighted average of f1-score\n",
    "# (V) Compute weighted standard deviation of f1-score (?)\n",
    "# (V) Change from unweighted to weighted average feature importance"
   ],
   "metadata": {
    "collapsed": false,
    "ExecuteTime": {
     "end_time": "2024-01-24T18:38:30.622196200Z",
     "start_time": "2024-01-24T18:38:30.588167300Z"
    }
   },
   "id": "4e476cd3ea72eab3",
   "execution_count": 8
  },
  {
   "cell_type": "code",
   "outputs": [],
   "source": [
    "# Custom implementation of Grid Search\n",
    "\n",
    "# performance = {}\n",
    "# \n",
    "# cntr = 0\n",
    "# for max_depth in [10, 20, 30, None]:\n",
    "#     for min_samples_leaf in [1, 2, 4, 6]:\n",
    "#         for class_weight in [\"balanced\", None]:\n",
    "#             key = f\"{max_depth}, {min_samples_leaf}, {class_weight}\"\n",
    "#             \n",
    "#             cntr += 1\n",
    "#             print(f\"\\n({cntr}/32) {key}\")\n",
    "#             \n",
    "#             performance[key] = LOOCV(max_depth, min_samples_leaf, class_weight)\n",
    "# \n",
    "# values = list(performance.values())\n",
    "# keys = list(performance.keys())\n",
    "# \n",
    "# print()\n",
    "# for i in np.flip(np.argsort(values)):\n",
    "#     print(f\"[{keys[i]}] -> {values[i]}\")\n",
    "\n",
    "# Output:\n",
    "# [10, 1, None] -> 0.5865354421886004\n",
    "# [10, 2, None] -> 0.5846582302050048\n",
    "# [10, 4, None] -> 0.5834783822882802\n",
    "# [10, 6, None] -> 0.5823268083985095\n",
    "# [10, 1, balanced] -> 0.5663630919732909\n",
    "# [10, 2, balanced] -> 0.5622313902647783\n",
    "# [20, 6, None] -> 0.5589505373548773\n",
    "# [10, 4, balanced] -> 0.5579925247800229\n",
    "# [None, 6, None] -> 0.5566071489674502\n",
    "# [20, 4, None] -> 0.5557584377599296\n",
    "# [30, 6, None] -> 0.5553496095567614\n",
    "# [10, 6, balanced] -> 0.5533817439485379\n",
    "# [None, 4, None] -> 0.5531721308290416\n",
    "# [20, 1, None] -> 0.5531245169446183\n",
    "# [30, 4, None] -> 0.5528238940384855\n",
    "# [20, 2, None] -> 0.5457163606865277\n",
    "# [None, 1, None] -> 0.5414613030078081\n",
    "# [None, 2, None] -> 0.5396737245116173\n",
    "# [30, 1, None] -> 0.538537952226706\n",
    "# [30, 2, None] -> 0.5382242627373885\n",
    "# [None, 1, balanced] -> 0.5317614145173051\n",
    "# [30, 6, balanced] -> 0.5310420144001797\n",
    "# [20, 6, balanced] -> 0.5309581876952449\n",
    "# [20, 4, balanced] -> 0.53035353041286\n",
    "# [None, 6, balanced] -> 0.5301870375763392\n",
    "# [30, 4, balanced] -> 0.530018489120621\n",
    "# [20, 1, balanced] -> 0.5295648350374342\n",
    "# [None, 4, balanced] -> 0.5283364073263259\n",
    "# [30, 1, balanced] -> 0.5278474321982272\n",
    "# [20, 2, balanced] -> 0.5217511065333372\n",
    "# [None, 2, balanced] -> 0.5195658484625533\n",
    "# [30, 2, balanced] -> 0.5194351472635835"
   ],
   "metadata": {
    "collapsed": false,
    "ExecuteTime": {
     "end_time": "2024-01-24T18:38:30.625700Z",
     "start_time": "2024-01-24T18:38:30.604181Z"
    }
   },
   "id": "dd66438578bfb86f",
   "execution_count": 9
  },
  {
   "cell_type": "code",
   "outputs": [],
   "source": [
    "import pickle\n",
    "\n",
    "# Train on full data\n",
    "clf = DecisionTreeClassifier(\n",
    "    max_depth=10\n",
    ").fit(X, y, sample_weight=weights)\n",
    "\n",
    "# Export model\n",
    "pickle.dump(clf, open(\"../models/decision tree.sav\", 'wb'))"
   ],
   "metadata": {
    "collapsed": false,
    "ExecuteTime": {
     "end_time": "2024-01-24T19:39:28.706892800Z",
     "start_time": "2024-01-24T19:39:28.500780700Z"
    }
   },
   "id": "6a9dfc8d7e11d6a7",
   "execution_count": 11
  },
  {
   "cell_type": "code",
   "outputs": [],
   "source": [],
   "metadata": {
    "collapsed": false
   },
   "id": "a0969b4d7c629fc"
  }
 ],
 "metadata": {
  "kernelspec": {
   "display_name": "Python 3",
   "language": "python",
   "name": "python3"
  },
  "language_info": {
   "codemirror_mode": {
    "name": "ipython",
    "version": 2
   },
   "file_extension": ".py",
   "mimetype": "text/x-python",
   "name": "python",
   "nbconvert_exporter": "python",
   "pygments_lexer": "ipython2",
   "version": "2.7.6"
  }
 },
 "nbformat": 4,
 "nbformat_minor": 5
}
