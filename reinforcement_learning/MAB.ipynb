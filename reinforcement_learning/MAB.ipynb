{
 "cells": [
  {
   "cell_type": "code",
   "execution_count": 640,
   "id": "initial_id",
   "metadata": {
    "collapsed": true,
    "ExecuteTime": {
     "end_time": "2024-01-24T22:31:19.068722Z",
     "start_time": "2024-01-24T22:31:19.057023Z"
    }
   },
   "outputs": [],
   "source": [
    "import pandas as pd\n",
    "from sklearn.model_selection import train_test_split\n",
    "from sklearn.model_selection import KFold\n",
    "import math\n",
    "import numpy as np\n",
    "\n",
    "random_seed = 1\n",
    "\n",
    "np.random.seed(random_seed)\n",
    "from tqdm import tqdm"
   ]
  },
  {
   "cell_type": "code",
   "outputs": [
    {
     "data": {
      "text/plain": "   Selection 1 - ProgressiveHistory  Selection 1 - Random  Selection 1 - UCB1  \\\n0                                 0                     0                   1   \n1                                 0                     1                   0   \n2                                 0                     1                   0   \n3                                 0                     0                   1   \n4                                 0                     1                   0   \n\n   Selection 1 - UCB1GRAVE  Selection 1 - UCB1Tuned  Exploration 1  \\\n0                        0                        0       0.600000   \n1                        0                        0       1.414214   \n2                        0                        0       1.414214   \n3                        0                        0       0.600000   \n4                        0                        0       1.414214   \n\n   Play-out 1 - MAST  Play-out 1 - NST  Play-out 1 - Random  \\\n0                  0                 1                    0   \n1                  0                 0                    1   \n2                  0                 0                    1   \n3                  0                 0                    0   \n4                  0                 0                    1   \n\n   Play-out 1 - Random0  ...  CrossBoard  KintsBoard  PachisiBoard  \\\n0                     0  ...           0           0             0   \n1                     0  ...           0           0             0   \n2                     0  ...           0           0             0   \n3                     0  ...           0           0             0   \n4                     0  ...           0           0             0   \n\n   FortyStonesWithFourGapsBoard  DiceD2  DiceD4  DiceD6  \\\n0                             0       0       0       0   \n1                             0       0       0       0   \n2                             0       0       0       0   \n3                             0       0       0       0   \n4                             0       0       0       0   \n\n   PlayersWithDirections  IsPieceAt  Win rate of Agent 1  \n0                      0          0                 1.00  \n1                      0          0                 0.80  \n2                      0          0                 0.10  \n3                      0          0                 1.00  \n4                      0          0                 0.15  \n\n[5 rows x 185 columns]",
      "text/html": "<div>\n<style scoped>\n    .dataframe tbody tr th:only-of-type {\n        vertical-align: middle;\n    }\n\n    .dataframe tbody tr th {\n        vertical-align: top;\n    }\n\n    .dataframe thead th {\n        text-align: right;\n    }\n</style>\n<table border=\"1\" class=\"dataframe\">\n  <thead>\n    <tr style=\"text-align: right;\">\n      <th></th>\n      <th>Selection 1 - ProgressiveHistory</th>\n      <th>Selection 1 - Random</th>\n      <th>Selection 1 - UCB1</th>\n      <th>Selection 1 - UCB1GRAVE</th>\n      <th>Selection 1 - UCB1Tuned</th>\n      <th>Exploration 1</th>\n      <th>Play-out 1 - MAST</th>\n      <th>Play-out 1 - NST</th>\n      <th>Play-out 1 - Random</th>\n      <th>Play-out 1 - Random0</th>\n      <th>...</th>\n      <th>CrossBoard</th>\n      <th>KintsBoard</th>\n      <th>PachisiBoard</th>\n      <th>FortyStonesWithFourGapsBoard</th>\n      <th>DiceD2</th>\n      <th>DiceD4</th>\n      <th>DiceD6</th>\n      <th>PlayersWithDirections</th>\n      <th>IsPieceAt</th>\n      <th>Win rate of Agent 1</th>\n    </tr>\n  </thead>\n  <tbody>\n    <tr>\n      <th>0</th>\n      <td>0</td>\n      <td>0</td>\n      <td>1</td>\n      <td>0</td>\n      <td>0</td>\n      <td>0.600000</td>\n      <td>0</td>\n      <td>1</td>\n      <td>0</td>\n      <td>0</td>\n      <td>...</td>\n      <td>0</td>\n      <td>0</td>\n      <td>0</td>\n      <td>0</td>\n      <td>0</td>\n      <td>0</td>\n      <td>0</td>\n      <td>0</td>\n      <td>0</td>\n      <td>1.00</td>\n    </tr>\n    <tr>\n      <th>1</th>\n      <td>0</td>\n      <td>1</td>\n      <td>0</td>\n      <td>0</td>\n      <td>0</td>\n      <td>1.414214</td>\n      <td>0</td>\n      <td>0</td>\n      <td>1</td>\n      <td>0</td>\n      <td>...</td>\n      <td>0</td>\n      <td>0</td>\n      <td>0</td>\n      <td>0</td>\n      <td>0</td>\n      <td>0</td>\n      <td>0</td>\n      <td>0</td>\n      <td>0</td>\n      <td>0.80</td>\n    </tr>\n    <tr>\n      <th>2</th>\n      <td>0</td>\n      <td>1</td>\n      <td>0</td>\n      <td>0</td>\n      <td>0</td>\n      <td>1.414214</td>\n      <td>0</td>\n      <td>0</td>\n      <td>1</td>\n      <td>0</td>\n      <td>...</td>\n      <td>0</td>\n      <td>0</td>\n      <td>0</td>\n      <td>0</td>\n      <td>0</td>\n      <td>0</td>\n      <td>0</td>\n      <td>0</td>\n      <td>0</td>\n      <td>0.10</td>\n    </tr>\n    <tr>\n      <th>3</th>\n      <td>0</td>\n      <td>0</td>\n      <td>1</td>\n      <td>0</td>\n      <td>0</td>\n      <td>0.600000</td>\n      <td>0</td>\n      <td>0</td>\n      <td>0</td>\n      <td>0</td>\n      <td>...</td>\n      <td>0</td>\n      <td>0</td>\n      <td>0</td>\n      <td>0</td>\n      <td>0</td>\n      <td>0</td>\n      <td>0</td>\n      <td>0</td>\n      <td>0</td>\n      <td>1.00</td>\n    </tr>\n    <tr>\n      <th>4</th>\n      <td>0</td>\n      <td>1</td>\n      <td>0</td>\n      <td>0</td>\n      <td>0</td>\n      <td>1.414214</td>\n      <td>0</td>\n      <td>0</td>\n      <td>1</td>\n      <td>0</td>\n      <td>...</td>\n      <td>0</td>\n      <td>0</td>\n      <td>0</td>\n      <td>0</td>\n      <td>0</td>\n      <td>0</td>\n      <td>0</td>\n      <td>0</td>\n      <td>0</td>\n      <td>0.15</td>\n    </tr>\n  </tbody>\n</table>\n<p>5 rows × 185 columns</p>\n</div>"
     },
     "execution_count": 641,
     "metadata": {},
     "output_type": "execute_result"
    }
   ],
   "source": [
    "path = \"../training_data/sets/components regression.csv\"\n",
    "\n",
    "data = pd.read_csv(path)\n",
    "\n",
    "# Correct data types:\n",
    "# - object -> string\n",
    "# - int64 -> int32\n",
    "for col in data.columns:\n",
    "    if data[col].dtype == \"object\":\n",
    "        # convert to string\n",
    "        data[col] = data[col].astype(\"string\")\n",
    "    elif data[col].dtype == \"int64\":\n",
    "        # convert to int32\n",
    "        data[col] = data[col].astype(\"int\")\n",
    "\n",
    "# transform the booleans into 0 and 1\n",
    "data = data * 1\n",
    "\n",
    "cols_with_1 = [col for col in data.columns if ' 1' in col and not 'Win' in col]\n",
    "cols_with_2 = [col for col in data.columns if ' 2' in col]\n",
    "other_cols = [col for col in data.columns if col not in cols_with_1 + cols_with_2]\n",
    "\n",
    "sorted_cols = cols_with_1 + cols_with_2 + other_cols\n",
    "data = data[sorted_cols]\n",
    "\n",
    "data.head()"
   ],
   "metadata": {
    "collapsed": false,
    "ExecuteTime": {
     "end_time": "2024-01-24T22:31:19.384806Z",
     "start_time": "2024-01-24T22:31:19.071531Z"
    }
   },
   "id": "6825454682c24938",
   "execution_count": 641
  },
  {
   "cell_type": "code",
   "outputs": [],
   "source": [
    "train, test = train_test_split(data, test_size=0.2, random_state=random_seed, shuffle=True)\n",
    "\n",
    "# get the win rate out of the data\n",
    "# the oracle value represent the \"reward\" an optimal user would get for a given context\n",
    "train_oracle_value = data.iloc[:, -1].to_numpy()\n",
    "train_oracle_value[train_oracle_value < 0.5] = 1 - train_oracle_value[train_oracle_value < 0.5]\n",
    "\n",
    "test_oracle_value = test.iloc[:, -1].to_numpy()\n",
    "test_oracle_value[test_oracle_value < 0.5] = 1 - test_oracle_value[test_oracle_value < 0.5]\n",
    "\n",
    "# train = train.iloc[:, :-1]\n",
    "# test = test.iloc[:, :-1]"
   ],
   "metadata": {
    "collapsed": false,
    "ExecuteTime": {
     "end_time": "2024-01-24T22:31:19.431128Z",
     "start_time": "2024-01-24T22:31:19.384146Z"
    }
   },
   "id": "31867626f143867c",
   "execution_count": 642
  },
  {
   "cell_type": "code",
   "outputs": [],
   "source": [
    "expansion = ['ProgressiveHistory', 'Random', 'UCB1', 'UCB1GRAVE', 'UCB1Tuned']\n",
    "exploration = [0.1, 0.6, 1.41421356237]\n",
    "play_out = ['NST', 'MAST', 'Random', 'Random0', 'Random200', 'Random4']\n",
    "agent_combinations = 61\n",
    "agent_context_length = len(expansion) + 1 + len(play_out)\n",
    "agent_context = np.zeros((agent_combinations, agent_context_length))\n",
    "\n",
    "index = 0\n",
    "for e in expansion:\n",
    "    for exp in exploration:\n",
    "        for p in play_out:\n",
    "            if e == 'Random' and (exp != 1.41421356237 or p != 'Random') or p == 'Random' and (\n",
    "                    e != 'Random' or exp != 1.41421356237):\n",
    "                continue\n",
    "\n",
    "            expansion_context_one_hot = np.zeros(len(expansion))\n",
    "            expansion_context_one_hot[expansion.index(e)] = 1\n",
    "            exploration_context = exp\n",
    "            play_out_context_one_hot = np.zeros(len(play_out))\n",
    "            play_out_context_one_hot[play_out.index(p)] = 1\n",
    "            agent_context[index] = np.concatenate(\n",
    "                (expansion_context_one_hot, [exploration_context], play_out_context_one_hot))\n",
    "            index += 1"
   ],
   "metadata": {
    "collapsed": false,
    "ExecuteTime": {
     "end_time": "2024-01-24T22:31:19.432102Z",
     "start_time": "2024-01-24T22:31:19.411028Z"
    }
   },
   "id": "b577fe1923e9f645",
   "execution_count": 643
  },
  {
   "cell_type": "code",
   "outputs": [],
   "source": [
    "def bandit_softmax(wanted: float | np.ndarray, pi: [float | np.ndarray]) -> float:\n",
    "    \"\"\"\n",
    "    This function returns the softmax probability of the wanted action given the current policy pi\n",
    "    :param wanted: the value of the action for which we want to find the probability\n",
    "    :param pi: the current policy with the z-values (context dot weights) for each action\n",
    "    :return: the probability of choosing the wanted action\n",
    "    \"\"\"\n",
    "    pi = np.array(pi).squeeze()\n",
    "    max_val = np.max(pi, axis=0)\n",
    "    wanted_rel = (wanted - max_val).astype(float)\n",
    "    pi_rel = (pi - max_val).astype(float)\n",
    "\n",
    "    numerator = np.exp(wanted_rel)\n",
    "    denominator = np.zeros(wanted.shape)\n",
    "    for p in pi_rel:\n",
    "        denominator += np.exp(p)\n",
    "    return numerator / denominator\n",
    "\n",
    "\n",
    "def generate_batches(data: pd.DataFrame, batch_size: int) -> [pd.DataFrame]:\n",
    "    \"\"\"\n",
    "    This function generates batches of data\n",
    "    :param data: the data from which we generate the batches\n",
    "    :param batch_size: the size of the batches\n",
    "    :return: the batches\n",
    "    \"\"\"\n",
    "    batches = []\n",
    "    n_splits = math.floor(len(data) / batch_size)\n",
    "    kf = KFold(n_splits=n_splits, shuffle=True, random_state=random_seed)\n",
    "    kf.get_n_splits(data)\n",
    "    for _, (train_index, test_index) in enumerate(kf.split(data)):\n",
    "        batches.append(data.iloc[test_index])\n",
    "    return batches\n",
    "\n",
    "\n",
    "def shuffle_arrays_in_unison(arr):\n",
    "    \"\"\"\n",
    "    This function shuffles an array\n",
    "    :param arr: the array to shuffle\n",
    "    \"\"\"\n",
    "    p = np.random.permutation(len(arr[0]))\n",
    "    ret_arr = []\n",
    "    for i in range(len(arr)):\n",
    "        ret_arr.append(arr[i][p])\n",
    "    return ret_arr\n",
    "\n",
    "\n",
    "def split_array_into_batches(arr, k):\n",
    "    n = arr.shape[0]\n",
    "    num_batches = n // k\n",
    "    batches = [arr[i * k:(i + 1) * k] for i in range(num_batches)]\n",
    "    if n % k != 0:\n",
    "        batches.append(arr[num_batches * k:])\n",
    "    return batches"
   ],
   "metadata": {
    "collapsed": false,
    "ExecuteTime": {
     "end_time": "2024-01-24T22:31:19.508185Z",
     "start_time": "2024-01-24T22:31:19.428754Z"
    }
   },
   "id": "93409d40f88ec95c",
   "execution_count": 644
  },
  {
   "cell_type": "code",
   "outputs": [],
   "source": [
    "batch_size = 10\n",
    "context_length_61_arms = 184"
   ],
   "metadata": {
    "collapsed": false,
    "ExecuteTime": {
     "end_time": "2024-01-24T22:31:19.508916Z",
     "start_time": "2024-01-24T22:31:19.437687Z"
    }
   },
   "id": "e41a297db59da618",
   "execution_count": 645
  },
  {
   "cell_type": "code",
   "outputs": [],
   "source": [
    "#Code block for 2 arm MAB\n",
    "other_cols_wo_winrate = [col for col in other_cols if not 'Win' in col]\n",
    "data_2_arm_a1 = cols_with_1 + other_cols_wo_winrate\n",
    "data_2_arm_a1 = train[data_2_arm_a1].to_numpy()\n",
    "\n",
    "data_2_arm_a2 = cols_with_2 + other_cols_wo_winrate\n",
    "data_2_arm_a2 = train[data_2_arm_a2].to_numpy()\n",
    "\n",
    "win_rate_agent1 = train['Win rate of Agent 1'].to_numpy()\n",
    "win_rate_agent2 = 1 - win_rate_agent1\n",
    "\n",
    "agent1_general_context = np.concatenate((np.zeros_like(data_2_arm_a2), data_2_arm_a2, train[cols_with_1].to_numpy()),\n",
    "                                        axis=1).T\n",
    "agent2_general_context = np.concatenate((data_2_arm_a1, np.zeros_like(data_2_arm_a1), train[cols_with_2].to_numpy()),\n",
    "                                        axis=1).T\n",
    "\n",
    "shuffled_arrays = shuffle_arrays_in_unison(\n",
    "    [agent1_general_context.T, agent2_general_context.T, win_rate_agent1, win_rate_agent2])\n",
    "agent1_general_context = shuffled_arrays[0]\n",
    "agent2_general_context = shuffled_arrays[1]\n",
    "win_rate_agent1 = shuffled_arrays[2].reshape(-1, 1)\n",
    "win_rate_agent2 = shuffled_arrays[3].reshape(-1, 1)\n",
    "\n",
    "agent1_batches = split_array_into_batches(agent1_general_context, batch_size)\n",
    "agent2_batches = split_array_into_batches(agent2_general_context, batch_size)\n",
    "win_rate_agent1_batches = split_array_into_batches(win_rate_agent1, batch_size)\n",
    "win_rate_agent2_batches = split_array_into_batches(win_rate_agent2, batch_size)"
   ],
   "metadata": {
    "collapsed": false,
    "ExecuteTime": {
     "end_time": "2024-01-24T22:31:19.726434Z",
     "start_time": "2024-01-24T22:31:19.448330Z"
    }
   },
   "id": "6b40d4164516faac",
   "execution_count": 646
  },
  {
   "cell_type": "code",
   "outputs": [],
   "source": [
    "weights_2_arms = np.random.rand(agent1_general_context.shape[1]).reshape(-1, 1)"
   ],
   "metadata": {
    "collapsed": false,
    "ExecuteTime": {
     "end_time": "2024-01-24T22:31:19.734641Z",
     "start_time": "2024-01-24T22:31:19.729212Z"
    }
   },
   "id": "a106f5488d3e7274",
   "execution_count": 647
  },
  {
   "cell_type": "code",
   "outputs": [
    {
     "name": "stdout",
     "output_type": "stream",
     "text": [
      "Loop: 10/10\r"
     ]
    }
   ],
   "source": [
    "alpha = 0.05\n",
    "n_loops = 10\n",
    "for e in range(n_loops):\n",
    "    print('Loop: ' + str(e + 1) + '/' + str(n_loops), end='\\r')\n",
    "    for agent1_batch, agent2_batch, win_rate_agent1_batch, win_rate_agent2_batch in zip(agent1_batches, agent2_batches,\n",
    "                                                                                        win_rate_agent1_batches,\n",
    "                                                                                        win_rate_agent2_batches):\n",
    "        z1 = np.dot(weights_2_arms.T, agent1_batch.T)\n",
    "        z2 = np.dot(weights_2_arms.T, agent2_batch.T)\n",
    "        pi1 = bandit_softmax(z1, [z1, z2]).T\n",
    "        pi2 = bandit_softmax(z2, [z1, z2]).T\n",
    "\n",
    "        avg = (pi1 * agent1_batch + pi2 * agent2_batch) / 2\n",
    "\n",
    "        reward = np.empty_like(agent1_batch[:, 0])\n",
    "\n",
    "        cont = np.empty_like(agent1_batch)\n",
    "\n",
    "        for i in range(len(reward)):\n",
    "            if pi1[i] > pi2[i]:\n",
    "                reward[i] = win_rate_agent1_batch[i]\n",
    "                cont[i] = agent1_batch[i, :]\n",
    "            else:\n",
    "                reward[i] = win_rate_agent2_batch[i]\n",
    "                cont[i] = agent2_batch[i, :]\n",
    "\n",
    "        w_update = cont - avg\n",
    "        w_update = alpha * reward.reshape(-1, 1) * w_update\n",
    "        w_update = np.mean(w_update, axis=0)\n",
    "\n",
    "        weights_2_arms = weights_2_arms + w_update.reshape(-1, 1)\n",
    "\n"
   ],
   "metadata": {
    "collapsed": false,
    "ExecuteTime": {
     "end_time": "2024-01-24T22:31:21.815240Z",
     "start_time": "2024-01-24T22:31:19.738966Z"
    }
   },
   "id": "7a11517a4fc78864",
   "execution_count": 648
  },
  {
   "cell_type": "code",
   "outputs": [
    {
     "name": "stdout",
     "output_type": "stream",
     "text": [
      "0.0\n"
     ]
    }
   ],
   "source": [
    "other_cols_wo_winrate = [col for col in other_cols if not 'Win' in col]\n",
    "test_2_arm_a1 = cols_with_1 + other_cols_wo_winrate\n",
    "test_2_arm_a1 = test[test_2_arm_a1].to_numpy()\n",
    "\n",
    "test_2_arm_a2 = cols_with_2 + other_cols_wo_winrate\n",
    "test_2_arm_a2 = test[test_2_arm_a2].to_numpy()\n",
    "\n",
    "win_rate_agent1_test = test['Win rate of Agent 1'].to_numpy()\n",
    "win_rate_agent2_test = 1 - win_rate_agent1_test\n",
    "\n",
    "agent1_test_context = np.concatenate((np.zeros_like(test_2_arm_a2), test_2_arm_a2,\n",
    "                                      test[cols_with_1].to_numpy()), axis=1).T\n",
    "agent2_test_context = np.concatenate((test_2_arm_a1, np.zeros_like(test_2_arm_a1),\n",
    "                                      test[cols_with_2].to_numpy()), axis=1).T\n",
    "\n",
    "test_z1 = np.dot(weights_2_arms.T, agent1_test_context)\n",
    "test_z2 = np.dot(weights_2_arms.T, agent2_test_context)\n",
    "test_p1 = bandit_softmax(test_z1, [test_z1, test_z2])\n",
    "test_p2 = bandit_softmax(test_z2, [test_z1, test_z2])\n",
    "\n",
    "regret = test_oracle_value - (test_p1 * win_rate_agent1_test + test_p2 * win_rate_agent2_test)\n",
    "print(regret.mean())"
   ],
   "metadata": {
    "collapsed": false,
    "ExecuteTime": {
     "end_time": "2024-01-24T22:31:21.847271Z",
     "start_time": "2024-01-24T22:31:21.816232Z"
    }
   },
   "id": "a746b176c6dcf883",
   "execution_count": 649
  },
  {
   "cell_type": "code",
   "outputs": [
    {
     "data": {
      "text/plain": "<Figure size 640x480 with 1 Axes>",
      "image/png": "[encoded data removed]"
     },
     "metadata": {},
     "output_type": "display_data"
    },
    {
     "name": "stdout",
     "output_type": "stream",
     "text": [
      "average regret: 0.35493408948706695\n"
     ]
    }
   ],
   "source": [
    "import matplotlib.pyplot as plt\n",
    "\n",
    "random_seed_regret_results = pd.read_csv('mab_2_arms_regret_results.csv').to_numpy()\n",
    "plt.hist(random_seed_regret_results, bins=40)\n",
    "plt.title(\"Regret Distribution with Different Random Seeds\")\n",
    "plt.tight_layout()\n",
    "plt.show()\n",
    "print('average regret: ' + str(random_seed_regret_results.mean()))"
   ],
   "metadata": {
    "collapsed": false,
    "ExecuteTime": {
     "end_time": "2024-01-24T22:31:22.112557Z",
     "start_time": "2024-01-24T22:31:21.848438Z"
    }
   },
   "id": "e0d3baf3437895ab",
   "execution_count": 650
  },
  {
   "cell_type": "code",
   "outputs": [],
   "source": [
    "train_61_arms_environment_context = train[cols_with_2 + other_cols_wo_winrate]\n",
    "context_per_agent = []\n",
    "\n",
    "for agent in agent_context:\n",
    "    agent = np.tile(agent, (len(train_61_arms_environment_context), 1))\n",
    "\n",
    "    context_per_agent.append(np.concatenate((train_61_arms_environment_context, agent), axis=1))\n",
    "\n",
    "agent1_61_arms = train[cols_with_2 + other_cols_wo_winrate + cols_with_1].to_numpy()\n",
    "shuffled_arrays_61_arms = shuffle_arrays_in_unison([agent1_61_arms, win_rate_agent1] + context_per_agent)\n",
    "\n",
    "agent1_61_arms = shuffled_arrays_61_arms[0]\n",
    "win_rate_agent1_61_agents = shuffled_arrays_61_arms[1].reshape(-1, 1)\n",
    "context_per_agent = shuffled_arrays_61_arms[2:]\n",
    "\n",
    "agent1_61_arms_batches = split_array_into_batches(agent1_61_arms, batch_size)\n",
    "win_rate_agent1_61_agents_batches = split_array_into_batches(win_rate_agent1_61_agents, batch_size)\n",
    "context_per_agent_batches = []\n",
    "for context in context_per_agent:\n",
    "    context_per_agent_batches.append(split_array_into_batches(context, batch_size))"
   ],
   "metadata": {
    "collapsed": false,
    "ExecuteTime": {
     "end_time": "2024-01-24T22:31:24.860520Z",
     "start_time": "2024-01-24T22:31:22.114543Z"
    }
   },
   "id": "ad3dc0d3826a1746",
   "execution_count": 651
  },
  {
   "cell_type": "code",
   "outputs": [],
   "source": [
    "weights_61_arms = np.random.rand(context_length_61_arms).reshape(-1, 1)"
   ],
   "metadata": {
    "collapsed": false,
    "ExecuteTime": {
     "end_time": "2024-01-24T22:31:24.867054Z",
     "start_time": "2024-01-24T22:31:24.862569Z"
    }
   },
   "id": "cfb963d82fa2146",
   "execution_count": 652
  },
  {
   "cell_type": "code",
   "outputs": [
    {
     "name": "stdout",
     "output_type": "stream",
     "text": [
      "Loop: 1/1\r"
     ]
    }
   ],
   "source": [
    "alpha = 0.05\n",
    "n_loops = 1\n",
    "\n",
    "for e in range(n_loops):\n",
    "    print('Loop: ' + str(e + 1) + '/' + str(n_loops), end='\\r')\n",
    "    for agent1_batch, win_rate_agent1_61_agents_batch, i in zip(agent1_61_arms_batches,\n",
    "                                                                win_rate_agent1_61_agents_batches,\n",
    "                                                                range(len(agent1_61_arms_batches))):\n",
    "        z1 = np.dot(weights_61_arms.T, agent1_batch.T)\n",
    "        z_agent = []\n",
    "        for context_batch in context_per_agent_batches:\n",
    "            z_agent.append(np.dot(weights_61_arms.T, context_batch[i].T))\n",
    "\n",
    "        pi1 = bandit_softmax(z1, z_agent).T\n",
    "        pi_agent = []\n",
    "        for z in z_agent:\n",
    "            pi_agent.append(bandit_softmax(z, z_agent).T)\n",
    "\n",
    "        avg = np.zeros_like(agent1_batch)\n",
    "        for j in range(len(pi_agent)):\n",
    "            avg += pi_agent[j] * context_per_agent_batches[j][i]\n",
    "\n",
    "        avg = avg / len(pi_agent)\n",
    "\n",
    "        cont = agent1_batch\n",
    "        reward = win_rate_agent1_61_agents_batch\n",
    "        w_update = cont - avg\n",
    "        w_update = alpha * reward * w_update\n",
    "        w_update = np.mean(w_update, axis=0)\n",
    "\n",
    "        weights_61_arms = weights_61_arms + w_update.reshape(-1, 1)"
   ],
   "metadata": {
    "collapsed": false,
    "ExecuteTime": {
     "end_time": "2024-01-24T22:31:39.299442Z",
     "start_time": "2024-01-24T22:31:24.874944Z"
    }
   },
   "id": "66c5bc66abb03361",
   "execution_count": 653
  },
  {
   "cell_type": "code",
   "outputs": [
    {
     "name": "stdout",
     "output_type": "stream",
     "text": [
      "0.6190407275406947\n"
     ]
    }
   ],
   "source": [
    "test_61_arms_environment_context = test[cols_with_2 + other_cols_wo_winrate]\n",
    "context_per_agent = []\n",
    "\n",
    "for agent in agent_context:\n",
    "    agent = np.tile(agent, (len(test_61_arms_environment_context), 1))\n",
    "\n",
    "    context_per_agent.append(np.concatenate((test_61_arms_environment_context, agent), axis=1))\n",
    "\n",
    "agent1_61_arms_test = test[cols_with_2 + other_cols_wo_winrate + cols_with_1].to_numpy()\n",
    "agent2_61_arms_test = test[cols_with_2 + other_cols_wo_winrate + cols_with_2].to_numpy()\n",
    "\n",
    "win_rate_agent1_test = test['Win rate of Agent 1'].to_numpy()\n",
    "win_rate_agent2_test = 1 - win_rate_agent1_test\n",
    "test_z1 = np.dot(weights_61_arms.T, agent1_61_arms_test.T)\n",
    "test_z2 = np.dot(weights_61_arms.T, agent2_61_arms_test.T)\n",
    "test_z_agent = []\n",
    "for context in context_per_agent:\n",
    "    test_z_agent.append(np.dot(weights_61_arms.T, context.T))\n",
    "\n",
    "test_p1 = bandit_softmax(test_z1, test_z_agent)\n",
    "test_p2 = bandit_softmax(test_z2, test_z_agent)\n",
    "\n",
    "regret = test_oracle_value - (test_p1 * win_rate_agent1_test + test_p2 * win_rate_agent2_test)\n",
    "print(regret.mean())"
   ],
   "metadata": {
    "collapsed": false,
    "ExecuteTime": {
     "end_time": "2024-01-24T22:31:39.617182Z",
     "start_time": "2024-01-24T22:31:39.306240Z"
    }
   },
   "id": "c86bb93064951220",
   "execution_count": 654
  },
  {
   "cell_type": "code",
   "outputs": [
    {
     "data": {
      "text/plain": "<Figure size 640x480 with 1 Axes>",
      "image/png": "[encoded data removed]"
     },
     "metadata": {},
     "output_type": "display_data"
    },
    {
     "name": "stdout",
     "output_type": "stream",
     "text": [
      "average regret: 0.35493408948706695\n",
      "average regret: 0.8096874124838738\n"
     ]
    }
   ],
   "source": [
    "random_seed_regret_results_2_arms = pd.read_csv('mab_2_arms_regret_results.csv').to_numpy()\n",
    "random_seed_regret_results_61_arms = pd.read_csv('mab_61_arms_regret_results.csv').to_numpy()\n",
    "bins = np.histogram(np.hstack((random_seed_regret_results_2_arms, random_seed_regret_results_61_arms)), bins=40)[1]\n",
    "plt.hist(random_seed_regret_results_2_arms, bins=bins)\n",
    "plt.hist(random_seed_regret_results_61_arms, bins=bins)\n",
    "# plt.title(\"Regret Distribution with Different Random Seeds\")\n",
    "plt.legend(['2 Arms', '61 Arms'])\n",
    "plt.tight_layout()\n",
    "plt.show()\n",
    "print('average regret: ' + str(random_seed_regret_results_2_arms.mean()))\n",
    "print('average regret: ' + str(random_seed_regret_results_61_arms.mean()))"
   ],
   "metadata": {
    "collapsed": false,
    "ExecuteTime": {
     "end_time": "2024-01-24T22:31:43.959123Z",
     "start_time": "2024-01-24T22:31:43.639831Z"
    }
   },
   "id": "ebbd026d243ef28c",
   "execution_count": 656
  }
 ],
 "metadata": {
  "kernelspec": {
   "display_name": "Python 3",
   "language": "python",
   "name": "python3"
  },
  "language_info": {
   "codemirror_mode": {
    "name": "ipython",
    "version": 2
   },
   "file_extension": ".py",
   "mimetype": "text/x-python",
   "name": "python",
   "nbconvert_exporter": "python",
   "pygments_lexer": "ipython2",
   "version": "2.7.6"
  }
 },
 "nbformat": 4,
 "nbformat_minor": 5
}
